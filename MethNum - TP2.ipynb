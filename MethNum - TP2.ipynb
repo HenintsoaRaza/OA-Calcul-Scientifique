{
 "cells": [
  {
   "cell_type": "markdown",
   "metadata": {},
   "source": [
    "# <center> TP2 / Schéma explicite pour l'équation de la chaleur\n",
    " \n",
    " </center>\n",
    "<div>\n",
    "    <center> RAZAFINDRAZAKA Henintsoa </center>\n",
    "    <center> Wang James </center>\n",
    "    <center> ____________</center>\n",
    "    <center> ING5 SI GR02 </center>\n",
    "    <center> 26/10/2020 </center>\n",
    "</div>"
   ]
  },
  {
   "cell_type": "code",
   "execution_count": 1,
   "metadata": {},
   "outputs": [],
   "source": [
    "import matplotlib.pyplot as plt\n",
    "import matplotlib.cm as cm\n",
    "import numpy as np\n",
    "import math\n",
    "import time"
   ]
  },
  {
   "cell_type": "markdown",
   "metadata": {},
   "source": [
    "## 1. Initialisations"
   ]
  },
  {
   "cell_type": "markdown",
   "metadata": {},
   "source": [
    "### 1.1. Initialisation des paramètres numériques"
   ]
  },
  {
   "cell_type": "code",
   "execution_count": 2,
   "metadata": {},
   "outputs": [],
   "source": [
    "Nz = 400\n",
    "dz = 0.25\n",
    "Nt = 5000\n",
    "dt = (365*24*60*60)/Nt"
   ]
  },
  {
   "cell_type": "markdown",
   "metadata": {},
   "source": [
    "### 1.2. Initialisation des paramètres physiques"
   ]
  },
  {
   "cell_type": "code",
   "execution_count": 3,
   "metadata": {},
   "outputs": [],
   "source": [
    "K = 2*10**(-6)\n",
    "r = (K * dt) / (dz**2)"
   ]
  },
  {
   "cell_type": "markdown",
   "metadata": {},
   "source": [
    "### 1.3. Initialisation du maillage et de la donnée initiale"
   ]
  },
  {
   "cell_type": "code",
   "execution_count": 4,
   "metadata": {},
   "outputs": [],
   "source": [
    "temps = np.arange(0, 12, 12/Nt)\n",
    "u = 15*np.ones((Nz, Nt))"
   ]
  },
  {
   "cell_type": "markdown",
   "metadata": {},
   "source": [
    "## 2. Calcul des $U_i^n$"
   ]
  },
  {
   "cell_type": "markdown",
   "metadata": {},
   "source": [
    "### 2.1. Condition à la surface"
   ]
  },
  {
   "cell_type": "code",
   "execution_count": 5,
   "metadata": {},
   "outputs": [
    {
     "name": "stdout",
     "output_type": "stream",
     "text": [
      "u = \n",
      " [[15.         14.98743363 14.97486729 ... 15.03769902 15.02513271\n",
      "  15.01256637]\n",
      " [15.         15.         15.         ... 15.         15.\n",
      "  15.        ]\n",
      " [15.         15.         15.         ... 15.         15.\n",
      "  15.        ]\n",
      " ...\n",
      " [15.         15.         15.         ... 15.         15.\n",
      "  15.        ]\n",
      " [15.         15.         15.         ... 15.         15.\n",
      "  15.        ]\n",
      " [15.         15.         15.         ... 15.         15.\n",
      "  15.        ]]\n"
     ]
    }
   ],
   "source": [
    "u[0, :] = 15 - 10 * np.sin(2*np.pi*temps/12)\n",
    "print(\"u = \\n\",u)"
   ]
  },
  {
   "cell_type": "markdown",
   "metadata": {},
   "source": [
    "#### Début de mesure du temps"
   ]
  },
  {
   "cell_type": "code",
   "execution_count": 6,
   "metadata": {},
   "outputs": [],
   "source": [
    "tic = time.time()"
   ]
  },
  {
   "cell_type": "markdown",
   "metadata": {},
   "source": [
    "### 2.2. Boucle en temps"
   ]
  },
  {
   "cell_type": "code",
   "execution_count": 7,
   "metadata": {
    "scrolled": true
   },
   "outputs": [
    {
     "name": "stdout",
     "output_type": "stream",
     "text": [
      "iterations :  60\n",
      "u = \n",
      " [[15.01256637 14.98743363 14.97486729 ... 15.03769902 15.02513271\n",
      "  15.01256637]\n",
      " [15.53928897 15.52742342 15.51302076 ... 15.5630182  15.55115437\n",
      "  15.53928967]\n",
      " [16.00722185 15.99605299 15.98488256 ... 16.0295562  16.01839054\n",
      "  16.00722326]\n",
      " ...\n",
      " [14.99998843 14.99998843 14.99998843 ... 14.99998913 14.99998913\n",
      "  14.99998913]\n",
      " [15.         15.         15.         ... 15.         15.\n",
      "  15.        ]\n",
      " [15.         15.         15.         ... 15.         15.\n",
      "  15.        ]]\n"
     ]
    }
   ],
   "source": [
    "err = []\n",
    "e = 10**-4\n",
    "maxiter = 500\n",
    "\n",
    "for itera in range(0,maxiter):\n",
    "    uold = u.copy()\n",
    "    u[:,0] = uold[:, Nt-1].copy()\n",
    "    \n",
    "    for n in range(1, Nt):\n",
    "        profondeur = u[0:Nz-3,n-1] - 2*u[1:Nz-2,n-1] + u[2:Nz-1,n-1]\n",
    "        u[1:Nz-2,n] = r * profondeur + u[1:Nz-2, n-1] \n",
    "        u[Nz-1, n] = u[Nz-2, n].copy()\n",
    "        \n",
    "    errmax = np.amax(np.absolute(u-uold))\n",
    "    err.append(errmax)\n",
    "    if err[itera] < e:\n",
    "        print(\"iterations : \",itera)\n",
    "        break\n",
    "\n",
    "print(\"u = \\n\",u)"
   ]
  },
  {
   "cell_type": "markdown",
   "metadata": {},
   "source": [
    "## 3. Visualisation graphique des résultats"
   ]
  },
  {
   "cell_type": "markdown",
   "metadata": {},
   "source": [
    "### 3.1. Figure 1: Iso-valeurs de la température"
   ]
  },
  {
   "cell_type": "code",
   "execution_count": 8,
   "metadata": {},
   "outputs": [
    {
     "data": {
      "image/png": "[encoded data removed]",
      "text/plain": [
       "<Figure size 432x288 with 2 Axes>"
      ]
     },
     "metadata": {
      "needs_background": "light"
     },
     "output_type": "display_data"
    }
   ],
   "source": [
    "X, Y = np.meshgrid(temps, range(Nz))\n",
    "plt.gca().invert_yaxis()\n",
    "plt.pcolor(X, Y, u, cmap=plt.cm.jet)\n",
    "plt.title('Variation de Température')\n",
    "plt.colorbar()\n",
    "plt.show()"
   ]
  },
  {
   "cell_type": "markdown",
   "metadata": {},
   "source": [
    "### 3.2. Figure 2: Erreur de convergence"
   ]
  },
  {
   "cell_type": "code",
   "execution_count": 9,
   "metadata": {},
   "outputs": [
    {
     "data": {
      "image/png": "[encoded data removed]",
      "text/plain": [
       "<Figure size 432x288 with 1 Axes>"
      ]
     },
     "metadata": {
      "needs_background": "light"
     },
     "output_type": "display_data"
    }
   ],
   "source": [
    "plt.plot( np.log(err) )\n",
    "plt.title('Graphe de convergence ')\n",
    "plt.show()"
   ]
  },
  {
   "cell_type": "markdown",
   "metadata": {},
   "source": [
    "### 3.3. Figure 3: Variations 1D de la température"
   ]
  },
  {
   "cell_type": "code",
   "execution_count": 10,
   "metadata": {},
   "outputs": [
    {
     "data": {
      "image/png": "[encoded data removed]",
      "text/plain": [
       "<Figure size 432x288 with 1 Axes>"
      ]
     },
     "metadata": {
      "needs_background": "light"
     },
     "output_type": "display_data"
    }
   ],
   "source": [
    "plt.plot(temps, u[0,:], label='0m')\n",
    "plt.plot(temps, u[20,:], label='5m')\n",
    "plt.plot(temps, u[40,:], label='10m')\n",
    "plt.plot(temps, u[60,:], label='15m')\n",
    "plt.plot(temps, u[80,:], label='20m')\n",
    "plt.legend()\n",
    "plt.title('Variation de la Temperature')\n",
    "plt.show()"
   ]
  },
  {
   "cell_type": "markdown",
   "metadata": {},
   "source": [
    "#### Fin de mesure du temps"
   ]
  },
  {
   "cell_type": "code",
   "execution_count": 11,
   "metadata": {},
   "outputs": [
    {
     "name": "stdout",
     "output_type": "stream",
     "text": [
      "********** Temps d'execution = 80.93466019630432 secondes **********\n"
     ]
    }
   ],
   "source": [
    "toc = time.time()\n",
    "\n",
    "print(\"********** Temps d'execution = %s secondes **********\" % (toc - tic) )"
   ]
  }
 ],
 "metadata": {
  "kernelspec": {
   "display_name": "Python 3",
   "language": "python",
   "name": "python3"
  },
  "language_info": {
   "codemirror_mode": {
    "name": "ipython",
    "version": 3
   },
   "file_extension": ".py",
   "mimetype": "text/x-python",
   "name": "python",
   "nbconvert_exporter": "python",
   "pygments_lexer": "ipython3",
   "version": "3.7.4"
  }
 },
 "nbformat": 4,
 "nbformat_minor": 4
}

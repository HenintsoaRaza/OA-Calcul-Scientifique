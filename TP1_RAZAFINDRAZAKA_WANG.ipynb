{
 "cells": [
  {
   "cell_type": "markdown",
   "metadata": {},
   "source": [
    "# <center> TP N°1 </center>\n",
    "### <center> Methodes Directes pour la Résolution des Systèmes Linéaires Ax = b </center>\n",
    "<div>\n",
    "    <center> RAZAFINDRAZAKA Henintsoa </center>\n",
    "    <center> Wang James </center>\n",
    "    <center> ____________</center>\n",
    "    <center> ING5 SI GR02 </center>\n",
    "    <center> 25/10/2020 </center>\n",
    "</div>"
   ]
  },
  {
   "cell_type": "markdown",
   "metadata": {},
   "source": [
    "## 1. Résolution de Tx = b avec T triangulaire inférieure"
   ]
  },
  {
   "cell_type": "markdown",
   "metadata": {},
   "source": [
    "1. Ouvrir un fichier qu’on nomme `trianinf.m`. Dans ce fichier, on va créer la fonction Matlab qui à partir d’une matrice inférieure T et d’un second membre b, résout le système Tx = b. La syntaxe de début du programme est la suivante :\n",
    "\n",
    "```\n",
    "function x=trianginf(T,b)\n",
    "% T est la matrice triangulaire inférieure et b le vecteur 2nd membre.\n",
    "n=length(b);\n",
    "x(1)=\n",
    "for i=2:n\n",
    "x(i)=...\n",
    "end\n",
    "```"
   ]
  },
  {
   "cell_type": "code",
   "execution_count": 1,
   "metadata": {},
   "outputs": [
    {
     "name": "stdout",
     "output_type": "stream",
     "text": [
      "T = \n",
      " [[5 0 0 0]\n",
      " [3 9 0 0]\n",
      " [4 3 7 0]\n",
      " [2 3 0 6]]\n",
      "\n",
      "|T|=  1889.999999999999\n"
     ]
    }
   ],
   "source": [
    "import numpy as np\n",
    "\n",
    "n = 4\n",
    "T = np.tril(np.random.randint(10,size=(n,n)) )\n",
    "\n",
    "while np.linalg.det(T) == 0.0: \n",
    "    T = np.tril(np.random.randint(10,size=(n,n)) )\n",
    "\n",
    "print('T = \\n',T)\n",
    "print('\\n|T|= ', np.linalg.det(T))"
   ]
  },
  {
   "cell_type": "code",
   "execution_count": 2,
   "metadata": {},
   "outputs": [
    {
     "name": "stdout",
     "output_type": "stream",
     "text": [
      "b =  [2 7 4 7]\n"
     ]
    }
   ],
   "source": [
    "b = np.random.randint(10, size=(n,))\n",
    "print('b = ', b)"
   ]
  },
  {
   "cell_type": "code",
   "execution_count": 3,
   "metadata": {},
   "outputs": [
    {
     "name": "stdout",
     "output_type": "stream",
     "text": [
      "Tx =  [2. 7. 4. 7.]\n"
     ]
    }
   ],
   "source": [
    "def trianginf(T,b):\n",
    "    n = len(b)\n",
    "    x = np.zeros(b.shape)\n",
    "\n",
    "    x[0] = b[0] / T[0][0]\n",
    "    for i in range(1,n):\n",
    "        sigma = 0\n",
    "        for j in range(0, i):\n",
    "            sigma += T[i][j] * x[j]\n",
    "        x[i] = (1/T[i][i]) * ( b[i] - sigma )\n",
    "    return x\n",
    "\n",
    "x_test = trianginf(T,b)\n",
    "print('Tx = ',T.dot(x_test))"
   ]
  },
  {
   "cell_type": "markdown",
   "metadata": {},
   "source": [
    "## 2. Résolution de Tx = b avec T triangulaire supérieure"
   ]
  },
  {
   "cell_type": "markdown",
   "metadata": {},
   "source": [
    "2. Ouvrir un fichier qu’on nomme `triansup.m`. Dans ce fichier, on va créer la fonction Matlab qui à partir d’une matrice supérieure T et d’un second membre b, résout le système T x = b. La syntaxe de début du programme est la suivante :\n",
    "\n",
    "```\n",
    "function x=triangsup(T,b)\n",
    "% T est la matrice triangulaire supérieure et b le vecteur 2nd membre.\n",
    "n=length(b);\n",
    "x(n)=\n",
    "for i=n-1:-1:1 % boucle incrément négatif\n",
    "x(i)=...\n",
    "end\n",
    "```"
   ]
  },
  {
   "cell_type": "code",
   "execution_count": 4,
   "metadata": {},
   "outputs": [
    {
     "name": "stdout",
     "output_type": "stream",
     "text": [
      "T = \n",
      " [[1 0 0 0]\n",
      " [5 8 0 0]\n",
      " [6 1 4 0]\n",
      " [4 9 7 1]]\n",
      "\n",
      "|T|=  31.999999999999986\n"
     ]
    }
   ],
   "source": [
    "n = 4\n",
    "T = np.triu(np.random.randint(10,size=(n,n)) )\n",
    "\n",
    "while np.linalg.det(T) == 0.0: \n",
    "    T = np.tril(np.random.randint(10,size=(n,n)) )\n",
    "\n",
    "print('T = \\n',T)\n",
    "print('\\n|T|= ', np.linalg.det(T))"
   ]
  },
  {
   "cell_type": "code",
   "execution_count": 5,
   "metadata": {},
   "outputs": [
    {
     "name": "stdout",
     "output_type": "stream",
     "text": [
      "b = [9 8 2 8]\n"
     ]
    }
   ],
   "source": [
    "b = np.random.randint(10, size=(n,))\n",
    "print('b =',b)"
   ]
  },
  {
   "cell_type": "code",
   "execution_count": 6,
   "metadata": {},
   "outputs": [
    {
     "name": "stdout",
     "output_type": "stream",
     "text": [
      "Tx =  [ 9.  53.  57.  56.5]\n"
     ]
    }
   ],
   "source": [
    "def triangsup(T,b):\n",
    "    n = len(b)\n",
    "    x = np.zeros(b.shape)\n",
    "\n",
    "    x[n-1] = b[n-1] / T[n-1][n-1]\n",
    "    for i in range(n-2,-1,-1):\n",
    "        sigma = 0\n",
    "        for j in range(i+1, n):\n",
    "            sigma += T[i][j] * x[j]\n",
    "        x[i] = (1/T[i][i]) * ( b[i] - sigma )\n",
    "    return x\n",
    "\n",
    "x = triangsup(T,b)\n",
    "print('Tx = ',T.dot(x))"
   ]
  },
  {
   "cell_type": "markdown",
   "metadata": {},
   "source": [
    "## 3. Résolution de Ax = b avec A triangularisé par Gauss"
   ]
  },
  {
   "cell_type": "markdown",
   "metadata": {},
   "source": [
    "3. Ouvrir un fichier qu’on nomme `gauss.m`. Dans ce fichier, on va créer la fonction Matlab qui à\n",
    "partir d’une matrice A effectue de Gauss et résout le système Ax = b. La syntaxe de début du programme est la suivante :\n",
    "\n",
    "```\n",
    "function x=gauss(A,b)\n",
    "% A est la matrice principale et b le vecteur second membre.\n",
    "n=length(b);\n",
    ".....\n",
    "```"
   ]
  },
  {
   "cell_type": "code",
   "execution_count": 7,
   "metadata": {},
   "outputs": [
    {
     "name": "stdout",
     "output_type": "stream",
     "text": [
      "A =\n",
      " [[0.42980311 0.00920982 0.33214023 0.01410368]\n",
      " [0.21501668 0.21602305 0.15481142 0.42912682]\n",
      " [0.62501318 0.4553875  0.83671549 0.18300378]\n",
      " [0.10164058 0.08788828 0.55580165 0.47006239]]\n",
      "\n",
      "|A|=  0.04165987131663422\n"
     ]
    }
   ],
   "source": [
    "A = np.random.rand(n,n)\n",
    "A_init = A\n",
    "print('A =\\n',A)\n",
    "print('\\n|A|= ', np.linalg.det(A))\n"
   ]
  },
  {
   "cell_type": "code",
   "execution_count": 8,
   "metadata": {},
   "outputs": [
    {
     "name": "stdout",
     "output_type": "stream",
     "text": [
      "b =  [3 8 9 4]\n"
     ]
    }
   ],
   "source": [
    "b_init = np.random.randint(10, size=(n,))\n",
    "print('b = ',b_init)"
   ]
  },
  {
   "cell_type": "code",
   "execution_count": 9,
   "metadata": {},
   "outputs": [
    {
     "name": "stdout",
     "output_type": "stream",
     "text": [
      "\n",
      "A_init*x =  [ 3.  6. -8. 10.]\n",
      "\n",
      "b_init =  [ 3  6 -8 10]\n"
     ]
    }
   ],
   "source": [
    "# triangulation de A\n",
    "A_init = A\n",
    "b = b_init\n",
    "def gauss(A, b):\n",
    "    m = np.zeros(A.shape)\n",
    "    for k in range(0, n-1):\n",
    "        for i in range(k+1, n):\n",
    "            m[i][k] = A[i][k] / A[k][k]\n",
    "            for j in range(k, n):\n",
    "                A[i][j] = A[i][j] - m[i][k]*A[k][j]\n",
    "            b[i] = b[i] - m[i][k] * b[k]\n",
    "    \n",
    "    x = triangsup(A,b)\n",
    "    return x\n",
    "\n",
    "x = gauss(A,b)\n",
    "\n",
    "print(\"\\nA_init*x = \", np.round(A.dot(x)))\n",
    "print(\"\\nb_init = \",b)\n"
   ]
  },
  {
   "cell_type": "markdown",
   "metadata": {},
   "source": [
    "## 4. Comparaison entre les performances de `gauss(A,b)` et `inv(A) * b`"
   ]
  },
  {
   "cell_type": "markdown",
   "metadata": {},
   "source": [
    "4. Tester la méthode sur un exemple et comparer votre résultat avec celui obtenu avec la commande A/b et celui obtenu avec la commande inv(A)*b. Que se passe-t-il quand on augmente la taille de la matrice (n = 10, 100, 1000, ...)."
   ]
  },
  {
   "cell_type": "code",
   "execution_count": 10,
   "metadata": {
    "scrolled": false
   },
   "outputs": [
    {
     "name": "stdout",
     "output_type": "stream",
     "text": [
      "\n",
      "n =  10\n",
      "\n",
      " ¤ My gauss : 0.0020074844360351562 seconds \n",
      " ¤ A^(-1).b : 0.007963418960571289 seconds \n",
      "\n",
      "*******************************************\n",
      "\n",
      "n =  100\n",
      "\n",
      " ¤ My gauss : 0.31145143508911133 seconds \n",
      " ¤ A^(-1).b : 0.0009620189666748047 seconds \n",
      "\n",
      "*******************************************\n",
      "\n",
      "n =  1000\n",
      "\n",
      " ¤ My gauss : 284.2725579738617 seconds \n",
      " ¤ A^(-1).b : 0.0488431453704834 seconds \n",
      "\n",
      "*******************************************\n"
     ]
    }
   ],
   "source": [
    "import time\n",
    "\n",
    "myround = np.vectorize(round)\n",
    "\n",
    "n = 10\n",
    "while n <= 1000 :\n",
    "\n",
    "    A_init = np.random.rand(n,n)\n",
    "    A = A_init\n",
    "\n",
    "    b_init = np.random.randint(10, size=(n,))\n",
    "    b = b_init\n",
    "    \n",
    "    print('\\nn = ', n)\n",
    "    \n",
    "    start_time = time.time()\n",
    "    \n",
    "    # Notre gauss\n",
    "    x_gauss = gauss(A_init,b_init)\n",
    "    print('\\n ¤ My gauss : %s seconds ' % (time.time() - start_time))\n",
    "        \n",
    "    start_time = time.time()\n",
    "    \n",
    "    # Calcul python A^(-1).b\n",
    "    A_inv = np.linalg.inv(A_init)\n",
    "    x_np = A_inv.dot(b_init)\n",
    "    print(' ¤ A^(-1).b : %s seconds ' % (time.time() - start_time))\n",
    "            \n",
    "    print('\\n*******************************************')\n",
    "    \n",
    "    n *= 10"
   ]
  },
  {
   "cell_type": "markdown",
   "metadata": {},
   "source": [
    "> Lorsqu'on augmente la taille de la matrice n, le temps d'éxecution de la méthode de Gauss augmente exponentiellement contrairement à la méthode np.linalg.inv de Numpy. "
   ]
  },
  {
   "cell_type": "markdown",
   "metadata": {},
   "source": [
    "## 5. Factorisation A = LU"
   ]
  },
  {
   "cell_type": "markdown",
   "metadata": {},
   "source": [
    "5. Ouvrir un fichier qu’on nomme `ludecomp.m`. Dans ce fichier, on va créer la fonction Matlab qui à partir d’une matrice A effectue la factorisation de type LU sous la forme A = LU. La syntaxe de début du programme est la suivante :\n",
    "\n",
    "```\n",
    "function [L,U]=ludecomp(A)\n",
    "% A est la matrice principale.\n",
    "n=length(b);\n",
    ".....\n",
    "```"
   ]
  },
  {
   "cell_type": "code",
   "execution_count": 11,
   "metadata": {},
   "outputs": [
    {
     "name": "stdout",
     "output_type": "stream",
     "text": [
      "A = \n",
      " [[8 9 7 2]\n",
      " [5 3 7 6]\n",
      " [3 5 5 2]\n",
      " [5 0 8 5]]\n",
      "\n",
      "|A|=  364.0000000000003\n",
      "b =  [5 0 2 8]\n"
     ]
    }
   ],
   "source": [
    "n = 4\n",
    "\n",
    "A = np.random.randint(10,size=(n,n))\n",
    "while np.linalg.det(A) == 0:\n",
    "    A = np.random.randint(10,size=(n,n))\n",
    "\n",
    "A_init = A\n",
    "print('A = \\n',A)\n",
    "print('\\n|A|= ', np.linalg.det(A))\n",
    "\n",
    "b = np.random.randint(10, size=(n,))\n",
    "b_init = b\n",
    "print('b = ',b)"
   ]
  },
  {
   "cell_type": "code",
   "execution_count": 12,
   "metadata": {},
   "outputs": [],
   "source": [
    "def ludecomp(A):\n",
    "    n = A.shape[0]\n",
    "    L = np.zeros(A.shape)\n",
    "    U = np.zeros(A.shape)\n",
    "    L[0][0] = 1\n",
    "    \n",
    "    for j in range(0, n):\n",
    "        U[0][j] = A[0][j]\n",
    "        \n",
    "    for i in range(1, n):\n",
    "        L[i][0] = A[i][0] / U[0][0]\n",
    "        \n",
    "    for i in range(1, n):\n",
    "        L[i][i] = 1\n",
    "        s0 = 0\n",
    "        for k in range(0, i):\n",
    "            s0 += L[i][k] * U[k][i]\n",
    "        U[i][i] = A[i][i] - s0\n",
    "        \n",
    "        for j in range(i, n):\n",
    "            s1 = 0\n",
    "            for k in range(0, i):\n",
    "                s1 += L[i][k] * U[k][j]\n",
    "            U[i][j] = A[i][j] - s1\n",
    "            \n",
    "            s2 = 0\n",
    "            for k in range(0, i):\n",
    "                s2 += L[j][k] * U[k][i]\n",
    "            L[j][i] = (1 / U[i][i]) * (A[j][i] - s2)\n",
    "    return L, U"
   ]
  },
  {
   "cell_type": "code",
   "execution_count": 13,
   "metadata": {},
   "outputs": [
    {
     "name": "stdout",
     "output_type": "stream",
     "text": [
      "A = \n",
      " [[8 9 7 2]\n",
      " [5 3 7 6]\n",
      " [3 5 5 2]\n",
      " [5 0 8 5]]\n",
      "\n",
      "L * U = \n",
      " [[8. 9. 7. 2.]\n",
      " [5. 3. 7. 6.]\n",
      " [3. 5. 5. 2.]\n",
      " [5. 0. 8. 5.]]\n"
     ]
    }
   ],
   "source": [
    "L, U  = ludecomp(A)\n",
    "\n",
    "print(\"A = \\n\", A)\n",
    "print(\"\\nL * U = \\n\", L.dot(U))"
   ]
  },
  {
   "cell_type": "markdown",
   "metadata": {},
   "source": [
    "## 6. Résolution de Ax = b avec la factorisation A = LU"
   ]
  },
  {
   "cell_type": "markdown",
   "metadata": {},
   "source": [
    "6. Ouvrir un fichier qu’on nomme lusovle.m. Dans ce fichier, on va créer la fonction Matlab qui à partir d’une matrice A et d’un vecteur b résout le système Ax = b à partir de la factorisation LU de la matrice A. La syntaxe de début du programme est la suivante:\n",
    "\n",
    "```\n",
    "function [L,U]=ludecomp(A)\n",
    "% A est la matrice principale.\n",
    "n=length(b);\n",
    ".....\n",
    "```\n",
    "\n",
    "Ax = B => LUx = B => Ly = B avec Ux = y"
   ]
  },
  {
   "cell_type": "code",
   "execution_count": 14,
   "metadata": {},
   "outputs": [
    {
     "name": "stdout",
     "output_type": "stream",
     "text": [
      "y =  [ 5.         -3.125      -1.80952381 10.66666667]\n",
      "\n",
      "x =  [ 0.65934066 -1.13736264  2.12637363 -2.46153846]\n",
      "\n",
      "b =  [5 0 2 8]\n",
      "\n",
      "A.dot(x) =  [5. 0. 2. 8.]\n"
     ]
    }
   ],
   "source": [
    "y = trianginf(L,b) \n",
    "print(\"y = \",y)\n",
    "\n",
    "x = triangsup(U,y)\n",
    "print(\"\\nx = \", x)\n",
    "\n",
    "print(\"\\nb = \", b)\n",
    "print(\"\\nA.dot(x) = \", np.round(A.dot(x)) )"
   ]
  },
  {
   "cell_type": "markdown",
   "metadata": {},
   "source": [
    "## 7. Comparaison entre les performances de `ludecomp(A)`, `lu(A)` , `gauss(A,b)` et `inv(A)*b`"
   ]
  },
  {
   "cell_type": "markdown",
   "metadata": {},
   "source": [
    "7. Tester la méthode sur un exemple et comparer votre résultat avec celui obtenu avec la fonction lu déja implémenter dans Matlab (help lu), la commande A/b et celui obtenu avec la commande inv(A)*b. Que se passe-t-il quand on augmente la taille de la matrice (n = 10, 100, 1000, ...).\n"
   ]
  },
  {
   "cell_type": "code",
   "execution_count": 15,
   "metadata": {},
   "outputs": [
    {
     "name": "stdout",
     "output_type": "stream",
     "text": [
      "\n",
      "n =  10\n",
      " ¤ scipy lu(A) : 0.0 seconds \n",
      " ¤ ludecomp(A) : 0.0 seconds \n",
      " ¤ gauss(A, b) : 0.0009968280792236328 seconds \n",
      " ¤ inv(A) * b  : 0.0009975433349609375 seconds \n",
      "\n",
      "n =  100\n",
      " ¤ scipy lu(A) : 0.003988504409790039 seconds \n",
      " ¤ ludecomp(A) : 0.19052457809448242 seconds \n",
      " ¤ gauss(A, b) : 0.303178071975708 seconds \n",
      " ¤ inv(A) * b  : 0.0009739398956298828 seconds \n",
      "\n",
      "n =  1000\n",
      " ¤ scipy lu(A) : 0.41794681549072266 seconds \n",
      " ¤ ludecomp(A) : 183.69784784317017 seconds \n",
      " ¤ gauss(A, b) : 293.27773666381836 seconds \n",
      " ¤ inv(A) * b  : 0.04585146903991699 seconds \n"
     ]
    }
   ],
   "source": [
    "import time\n",
    "import scipy.linalg\n",
    "\n",
    "myround = np.vectorize(round)\n",
    "\n",
    "n = 10\n",
    "while n <= 1000 :\n",
    "\n",
    "    A_init = np.random.rand(n,n)\n",
    "    A = A_init\n",
    "\n",
    "    b_init = np.random.randint(10, size=(n,))\n",
    "    b = b_init\n",
    "    \n",
    "    print('\\nn = ', n)\n",
    "    \n",
    "    ################## méthode lu(A) de scipy ##################\n",
    "    \n",
    "    start_time = time.time()\n",
    "    \n",
    "    P, L, U  = scipy.linalg.lu(A)\n",
    "    y = trianginf(L,b) \n",
    "    x_scipy = triangsup(U,y)\n",
    "    \n",
    "    print(' ¤ scipy lu(A) : %s seconds ' % (time.time() - start_time))\n",
    "    \n",
    "    start_time = time.time()\n",
    "    \n",
    "    ################## méthode ludecomp(A) ##################\n",
    "    \n",
    "    start_time = time.time()\n",
    "    \n",
    "    L, U  = ludecomp(A)\n",
    "    y = trianginf(L,b) \n",
    "    x_ludecomp = triangsup(U,y)\n",
    "    \n",
    "    print(' ¤ ludecomp(A) : %s seconds ' % (time.time() - start_time))\n",
    "    \n",
    "    start_time = time.time()\n",
    "    \n",
    "    ################## méthode gauss(A,B) ##################\n",
    "    x_gauss = myround(gauss(A_init,b_init), 6)\n",
    "    \n",
    "    print(' ¤ gauss(A, b) : %s seconds ' % (time.time() - start_time))\n",
    "    \n",
    "    start_time = time.time()\n",
    "    \n",
    "    ################## methode inv(A) * b de numpy ##################\n",
    "    A_inv = np.linalg.inv(A_init)\n",
    "    x_np = myround(A_inv.dot(b), 6)\n",
    "    \n",
    "    print(' ¤ inv(A) * b  : %s seconds ' % (time.time() - start_time))\n",
    "    \n",
    "    \n",
    "    \n",
    "    n *= 10"
   ]
  },
  {
   "cell_type": "markdown",
   "metadata": {},
   "source": [
    "> Lorsqu'on augmente la taille de la matrice n, les temps d'éxecution de nos méthodes de décomposition LU et \n",
    "de Gauss augmentent exponentiellement contrairement aux méthodes inverse de numpy et lu de scipy. Le temps d'éxecution de ludecomp reste tout de meme inférieur à celui de Gauss. La décomposition LU reste donc plus performante que la résolution par la méthode de Gauss."
   ]
  }
 ],
 "metadata": {
  "kernelspec": {
   "display_name": "Python 3",
   "language": "python",
   "name": "python3"
  },
  "language_info": {
   "codemirror_mode": {
    "name": "ipython",
    "version": 3
   },
   "file_extension": ".py",
   "mimetype": "text/x-python",
   "name": "python",
   "nbconvert_exporter": "python",
   "pygments_lexer": "ipython3",
   "version": "3.8.3"
  }
 },
 "nbformat": 4,
 "nbformat_minor": 2
}

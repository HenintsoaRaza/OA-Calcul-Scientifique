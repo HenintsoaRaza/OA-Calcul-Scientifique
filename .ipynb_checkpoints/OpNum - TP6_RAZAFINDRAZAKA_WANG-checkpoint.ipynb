{
 "cells": [
  {
   "cell_type": "markdown",
   "metadata": {},
   "source": [
    "# <center> TP N°6 </center>\n",
    "## <center> Différences finies - Part 2\n",
    "\n",
    "</center>\n",
    "<div>\n",
    "    <center> RAZAFINDRAZAKA Henintsoa </center>\n",
    "    <center> Wang James </center>\n",
    "    <center> ____________</center>\n",
    "    <center> ING5 BDA GR02 </center>\n",
    "    <center> 06/12/2020 </center>\n",
    "</div>"
   ]
  },
  {
   "cell_type": "markdown",
   "metadata": {},
   "source": [
    "## I. On considère l'EDO:"
   ]
  },
  {
   "cell_type": "markdown",
   "metadata": {},
   "source": [
    "$$\n",
    "(P)\n",
    "\\left\\{\n",
    "    \\begin{array}{ll}\n",
    "        -u''(x) + 2u(x) = f(x) \\ \\text{ sur } \\ \\rbrack 0,1 \\lbrack \\\\\n",
    "        u(0)=1, \\ \\ u(1)=e \\\\\n",
    "        f(x)=e^x\n",
    "    \\end{array}\n",
    "\\right. \\\\\n",
    "$$\n",
    "<br>\n",
    "<center> Sachant que la solution exacte de $(P)$ est donnée par $u_{exact}(x) = e^x$ </center>"
   ]
  },
  {
   "cell_type": "markdown",
   "metadata": {},
   "source": [
    "### I.1. Résoudre le problème $(P)$ par la méthode des différences finies\n",
    "(via les différences finies, écrire le problème de $(P)$ sous la forme $Au=b$ )"
   ]
  },
  {
   "cell_type": "code",
   "execution_count": 1,
   "metadata": {},
   "outputs": [],
   "source": [
    "import numpy as np\n",
    "import scipy.integrate as integrate\n",
    "import matplotlib.pyplot as plt\n",
    "import time\n",
    "from sympy import Matrix, init_printing\n",
    "init_printing()\n",
    "\n",
    "\n"
   ]
  },
  {
   "cell_type": "markdown",
   "metadata": {},
   "source": [
    "### I.2. Dessiner sur la même figure la solution approchée et la solution exacte en fonction du pas de la discrétisation"
   ]
  },
  {
   "cell_type": "code",
   "execution_count": null,
   "metadata": {},
   "outputs": [],
   "source": []
  },
  {
   "cell_type": "markdown",
   "metadata": {},
   "source": [
    "### I.3. Dessiner l'erreur $(erreur = u_{approchée} - u_{exact} )$ en fonction du pas de la discrétisation\n",
    "<br>\n",
    "<center> ($log(erreur) = fct(log(h)$) </center>"
   ]
  },
  {
   "cell_type": "code",
   "execution_count": null,
   "metadata": {},
   "outputs": [],
   "source": []
  },
  {
   "cell_type": "markdown",
   "metadata": {},
   "source": [
    "## II. Equation de Poisson en 2D"
   ]
  },
  {
   "cell_type": "markdown",
   "metadata": {},
   "source": [
    "On considère le problème suivant:\n",
    "\n",
    "$$\n",
    "(\\widehat{P})\n",
    "\\left\\{\n",
    "    \\begin{array}{ll}\n",
    "        - \\Delta u(x,y) = f(x,y) \\ \\text{ sur } \\ \\rbrack 0,1 \\lbrack \\\\\n",
    "        u|_{\\partial \\Omega} = 0 \\ \\ \\ \\ \\text{(conditions de Dirichlet homogène)}\n",
    "    \\end{array}\n",
    "\\right. \\\\\n",
    "$$"
   ]
  },
  {
   "cell_type": "markdown",
   "metadata": {},
   "source": [
    "### II.1. Résoudre le problème $(\\widehat{P})$ par la méthode des différences finies ( $f(x,y)=1$ )"
   ]
  },
  {
   "cell_type": "code",
   "execution_count": null,
   "metadata": {},
   "outputs": [],
   "source": []
  },
  {
   "cell_type": "markdown",
   "metadata": {},
   "source": [
    "### II.2. Comparer la solution obtenue numériquement pour le cas $f(x,y) = -1$ avec la solution exacte donnée par la formule suivante:"
   ]
  },
  {
   "cell_type": "markdown",
   "metadata": {},
   "source": [
    "$$\n",
    "u_{exact} = \\sum^{\\infty}_{l=0} \\sum^{\\infty}_{m=0} u_{lm} \\cdot sin((2l-1)\\pi x) \\cdot sin((2m-1)\\pi y) \\\\\n",
    "\\text{où } \\ \\ \\ \\ \\ u_{lm} = \\frac{-16}{((2l-1)^2+(2m-1)^2)\\pi^4 (2l-1)(2m-1)}\n",
    "$$"
   ]
  },
  {
   "cell_type": "code",
   "execution_count": null,
   "metadata": {},
   "outputs": [],
   "source": []
  },
  {
   "cell_type": "markdown",
   "metadata": {},
   "source": [
    "## III. L'équation de la chaleur en 1D"
   ]
  },
  {
   "cell_type": "markdown",
   "metadata": {},
   "source": [
    "On considère le problème suivant:\n",
    "\n",
    "$$\n",
    "(\\widetilde{P})\n",
    "\\left\\{\n",
    "    \\begin{array}{ll}\n",
    "        \\frac{\\partial v}{\\partial t} - \\frac{\\partial^2 v}{\\partial x^2} = 0  \\ \\ \\ \\ \\ \\forall (x,t) \\ \\in  \\ \\ \\lbrack 0,1 \\rbrack  \\ \\ \\times \\ \\ \\mathbb{R} \\\\\n",
    "        v(t,0) = v(t,1) = 0 \\ \\ \\ \\ \\ \\forall \\ \\ t \\ \\in  \\ \\ \\mathbb{R} \\\\\n",
    "        v(x,0) = v_0(x) \\ \\ \\ \\ \\ \\forall \\ \\ x \\ \\in  \\ \\ \\ \\lbrack 0,1 \\rbrack\n",
    "    \\end{array}\n",
    "\\right. \\\\\n",
    "$$"
   ]
  },
  {
   "cell_type": "markdown",
   "metadata": {},
   "source": [
    "On discrétise $(\\widetilde{P})$ par le schéma suivant:\n",
    "\n",
    "$$\n",
    "\\frac{v^{n+1}_{j} - v^{n}_{j} }{\\Delta t} - \\frac{v^{n}_{j+1} - 2v^{n}_{j} + v^{n}_{j-1} }{(\\Delta x)^2} = 0 \\ \\ \\ \\ (\\ast) \\\\\n",
    "\\\\ \n",
    "(t_n, x_j) = (n \\Delta t, j \\Delta x) ; \\ \\ \\ \\forall n \\ \\ \\geq \\ 0, \\ \\ \\forall \\ j \\ \\in \\ \\{0, 1, ..., N+1 \\} \\\\\n",
    "\\text{où } \\ \\ \\Delta x = \\frac{1}{N+1} \\ \\text{et} \\ \\Delta t \\gt 0\n",
    "$$"
   ]
  },
  {
   "cell_type": "markdown",
   "metadata": {},
   "source": [
    "### III.1. Ecrire le problème discrétisé $(\\ast)$ sous la forme matricielle."
   ]
  },
  {
   "cell_type": "code",
   "execution_count": null,
   "metadata": {},
   "outputs": [],
   "source": []
  },
  {
   "cell_type": "markdown",
   "metadata": {},
   "source": [
    "### III.2. Implémenter numériquement le problème matriciel obtenu avec $v_0(x)=e^x$"
   ]
  },
  {
   "cell_type": "code",
   "execution_count": null,
   "metadata": {},
   "outputs": [],
   "source": []
  }
 ],
 "metadata": {
  "kernelspec": {
   "display_name": "Python 3",
   "language": "python",
   "name": "python3"
  },
  "language_info": {
   "codemirror_mode": {
    "name": "ipython",
    "version": 3
   },
   "file_extension": ".py",
   "mimetype": "text/x-python",
   "name": "python",
   "nbconvert_exporter": "python",
   "pygments_lexer": "ipython3",
   "version": "3.7.4"
  }
 },
 "nbformat": 4,
 "nbformat_minor": 2
}

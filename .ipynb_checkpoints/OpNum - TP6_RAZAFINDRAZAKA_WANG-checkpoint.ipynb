{
 "cells": [
  {
   "cell_type": "markdown",
   "metadata": {},
   "source": [
    "# <center> TP N°6 </center>\n",
    "## <center> Différences finies - Part 2\n",
    "\n",
    "</center>\n",
    "<div>\n",
    "    <center> RAZAFINDRAZAKA Henintsoa </center>\n",
    "    <center> Wang James </center>\n",
    "    <center> ____________</center>\n",
    "    <center> ING5 BDA GR02 </center>\n",
    "    <center> 06/12/2020 </center>\n",
    "</div>"
   ]
  },
  {
   "cell_type": "markdown",
   "metadata": {},
   "source": [
    "## I. On considère l'EDO:"
   ]
  },
  {
   "cell_type": "markdown",
   "metadata": {},
   "source": [
    "$$\n",
    "(P)\n",
    "\\left\\{\n",
    "    \\begin{array}{ll}\n",
    "        -u''(x) + 2u(x) = f(x) \\ \\text{ sur } \\ \\rbrack 0,1 \\lbrack \\\\\n",
    "        u(0)=1, \\ \\ u(1)=e \\\\\n",
    "        f(x)=e^x\n",
    "    \\end{array}\n",
    "\\right. \\\\\n",
    "$$\n",
    "<br>\n",
    "<center> Sachant que la solution exacte de $(P)$ est donnée par $u_{exact}(x) = e^x$ </center>"
   ]
  },
  {
   "cell_type": "markdown",
   "metadata": {},
   "source": [
    "### I.1. Résoudre le problème $(P)$ par la méthode des différences finies\n",
    "(via les différences finies, écrire le problème de $(P)$ sous la forme $Au=b$ )\n",
    "\n",
    "$$\n",
    "Au = b\n",
    "\\Leftrightarrow\n",
    "\\frac{1}{h^2}\n",
    "\\begin{pmatrix}\n",
    "2 & -1 & 0 & \\cdots & \\cdots & \\cdots & 0 \n",
    "\\\\ \n",
    "-1 & 2(1+h^2) & -1 & 0 & \\cdots & \\cdots & 0 \n",
    "\\\\\n",
    "0 & -1 & 2(1+h^2) & -1 & 0 & \\cdots & \\vdots \n",
    "\\\\\n",
    "\\vdots & \\ddots & \\ddots & \\ddots & \\ddots & \\ddots & \\vdots \n",
    "\\\\\n",
    "\\vdots & \\ddots & \\ddots & \\ddots & \\ddots & \\ddots & \\ddots \n",
    "\\\\\n",
    "0 & \\cdots & \\cdots & 0 & -1 & 2(1+h^2) & -1 \n",
    "\\\\\n",
    "0 & \\cdots & \\cdots & \\cdots & 0 & -1 & 2(1+h^2)\n",
    "\\end{pmatrix}\n",
    ".\n",
    "\\begin{pmatrix}\n",
    "u_1\n",
    "\\\\ \n",
    "u_2\n",
    "\\\\\n",
    "u_3\n",
    "\\\\\n",
    "\\vdots \n",
    "\\\\\n",
    "\\vdots  \n",
    "\\\\\n",
    "u_{N-1} \n",
    "\\\\\n",
    "u_{N}\n",
    "\\end{pmatrix}\n",
    "=\n",
    "\\begin{pmatrix}\n",
    "f(1) + 1/h^2\n",
    "\\\\ \n",
    "f(2)\n",
    "\\\\\n",
    "f(3)\n",
    "\\\\\n",
    "\\vdots \n",
    "\\\\\n",
    "\\vdots  \n",
    "\\\\\n",
    "f({N-1}) \n",
    "\\\\\n",
    "f({N}) + e/h^2\n",
    "\\end{pmatrix}\n",
    "$$"
   ]
  },
  {
   "cell_type": "code",
   "execution_count": 18,
   "metadata": {},
   "outputs": [],
   "source": [
    "import numpy as np\n",
    "import scipy.integrate as integrate\n",
    "import matplotlib.pyplot as plt\n",
    "import time\n",
    "from sympy import Matrix, init_printing\n",
    "init_printing()\n",
    "\n",
    "def trianginf(T,b):\n",
    "    n = len(b)\n",
    "    x = np.zeros(b.shape)\n",
    "\n",
    "    x[0] = b[0] / T[0][0]\n",
    "    for i in range(1,n):\n",
    "        sigma = 0\n",
    "        for j in range(0, i):\n",
    "            sigma += T[i][j] * x[j]\n",
    "        x[i] = (1/T[i][i]) * ( b[i] - sigma )\n",
    "    return x\n",
    "\n",
    "def triangsup(T,b):\n",
    "    n = len(b)\n",
    "    x = np.zeros(b.shape)\n",
    "\n",
    "    x[n-1] = b[n-1] / T[n-1][n-1]\n",
    "    for i in range(n-2,-1,-1):\n",
    "        sigma = 0\n",
    "        for j in range(i+1, n):\n",
    "            sigma += T[i][j] * x[j]\n",
    "        x[i] = (1/T[i][i]) * ( b[i] - sigma )\n",
    "    return x"
   ]
  },
  {
   "cell_type": "code",
   "execution_count": 19,
   "metadata": {},
   "outputs": [],
   "source": [
    "def cholesky(A):\n",
    "    n = A.shape[0]\n",
    "    C = np.zeros((n,n))\n",
    "    C[0][0] = np.sqrt(A[0][0])\n",
    "\n",
    "    for i in range(1, n):\n",
    "        C[i][0] = A[i][0] / C[0][0]\n",
    "\n",
    "    for j in range(1, n):\n",
    "        s0 = 0 \n",
    "        for k in range(0, j):\n",
    "            s0 += C[j][k]**2\n",
    "        C[j][j] = np.sqrt(A[j][j] - s0)\n",
    "        for i in range (j, n):\n",
    "            s1 = 0\n",
    "            for k in range(0, j):\n",
    "                s1 += C[i][k] * C[j][k]\n",
    "            C[i][j] = (1 / C[j][j]) * ( A[i][j] - s1) \n",
    "    return C\n"
   ]
  },
  {
   "cell_type": "code",
   "execution_count": 33,
   "metadata": {},
   "outputs": [],
   "source": [
    "def differences_finies(f, x0, xN, N, u0, uN):\n",
    "    #    f   : fonction f(x) second membre\n",
    "    #    N   : nombre d'intervalles \n",
    "    # x0, xN : bornes de l'intervalle\n",
    "    # u0, uN : condition initiales\n",
    "    \n",
    "    h = 1/N\n",
    "\n",
    "    f_vect = np.vectorize(f)\n",
    "\n",
    "    # Définition des x_0, x_1, x_2, ..., x_N-1, x_N\n",
    "    x = np.linspace(x0, xN, N+1)\n",
    "\n",
    "    # Définition du vecteur b = [f(x_1), f(x_2), ..., f(x_N-1), f(x_N-1)] \n",
    "    b = f_vect(x[1:N])\n",
    "    b[0] += 1/(h**2) \n",
    "    b[N-2] += math.exp(1)/(h**2) \n",
    "    \n",
    "    Diag_below = -1 * np.ones((N-2,))\n",
    "    Diag_above = -1 * np.ones((N-2,))\n",
    "    Diag_main  =  2 * (1 + h**2) * np.ones((N-1,))\n",
    "    A = (1/h**2) * ( np.diag(Diag_below, -1) + np.diag(Diag_main) + np.diag(Diag_above, 1) )\n",
    "    \n",
    "    print(\"\\nA \",A.shape, \" =\\n\")\n",
    "    display(Matrix(A))\n",
    "    print(\"\\nb \",b.shape)\n",
    "    display(Matrix(b))\n",
    "    \n",
    "    C = cholesky(A)\n",
    "    y = trianginf(C,b)\n",
    "    u = triangsup(C.T,y)\n",
    "    \n",
    "    \n",
    "    result = np.zeros((N+1,))\n",
    "    result[0]   = u0\n",
    "    result[1:N] = u\n",
    "    result[N]   = uN\n",
    "    \n",
    "    return result,x"
   ]
  },
  {
   "cell_type": "code",
   "execution_count": 36,
   "metadata": {},
   "outputs": [
    {
     "name": "stdout",
     "output_type": "stream",
     "text": [
      "\n",
      "A  (9, 9)  =\n",
      "\n"
     ]
    },
    {
     "data": {
      "text/latex": [
       "$\\displaystyle \\left[\\begin{matrix}202.0 & -100.0 & 0.0 & 0.0 & 0.0 & 0.0 & 0.0 & 0.0 & 0.0\\\\-100.0 & 202.0 & -100.0 & 0.0 & 0.0 & 0.0 & 0.0 & 0.0 & 0.0\\\\0.0 & -100.0 & 202.0 & -100.0 & 0.0 & 0.0 & 0.0 & 0.0 & 0.0\\\\0.0 & 0.0 & -100.0 & 202.0 & -100.0 & 0.0 & 0.0 & 0.0 & 0.0\\\\0.0 & 0.0 & 0.0 & -100.0 & 202.0 & -100.0 & 0.0 & 0.0 & 0.0\\\\0.0 & 0.0 & 0.0 & 0.0 & -100.0 & 202.0 & -100.0 & 0.0 & 0.0\\\\0.0 & 0.0 & 0.0 & 0.0 & 0.0 & -100.0 & 202.0 & -100.0 & 0.0\\\\0.0 & 0.0 & 0.0 & 0.0 & 0.0 & 0.0 & -100.0 & 202.0 & -100.0\\\\0.0 & 0.0 & 0.0 & 0.0 & 0.0 & 0.0 & 0.0 & -100.0 & 202.0\\end{matrix}\\right]$"
      ],
      "text/plain": [
       "⎡202.0   -100.0   0.0     0.0     0.0     0.0     0.0     0.0     0.0  ⎤\n",
       "⎢                                                                      ⎥\n",
       "⎢-100.0  202.0   -100.0   0.0     0.0     0.0     0.0     0.0     0.0  ⎥\n",
       "⎢                                                                      ⎥\n",
       "⎢ 0.0    -100.0  202.0   -100.0   0.0     0.0     0.0     0.0     0.0  ⎥\n",
       "⎢                                                                      ⎥\n",
       "⎢ 0.0     0.0    -100.0  202.0   -100.0   0.0     0.0     0.0     0.0  ⎥\n",
       "⎢                                                                      ⎥\n",
       "⎢ 0.0     0.0     0.0    -100.0  202.0   -100.0   0.0     0.0     0.0  ⎥\n",
       "⎢                                                                      ⎥\n",
       "⎢ 0.0     0.0     0.0     0.0    -100.0  202.0   -100.0   0.0     0.0  ⎥\n",
       "⎢                                                                      ⎥\n",
       "⎢ 0.0     0.0     0.0     0.0     0.0    -100.0  202.0   -100.0   0.0  ⎥\n",
       "⎢                                                                      ⎥\n",
       "⎢ 0.0     0.0     0.0     0.0     0.0     0.0    -100.0  202.0   -100.0⎥\n",
       "⎢                                                                      ⎥\n",
       "⎣ 0.0     0.0     0.0     0.0     0.0     0.0     0.0    -100.0  202.0 ⎦"
      ]
     },
     "metadata": {},
     "output_type": "display_data"
    },
    {
     "name": "stdout",
     "output_type": "stream",
     "text": [
      "\n",
      "b  (9,)\n"
     ]
    },
    {
     "data": {
      "text/latex": [
       "$\\displaystyle \\left[\\begin{matrix}101.105170918076\\\\1.22140275816017\\\\1.349858807576\\\\1.49182469764127\\\\1.64872127070013\\\\1.82211880039051\\\\2.01375270747048\\\\2.22554092849247\\\\274.287785957061\\end{matrix}\\right]$"
      ],
      "text/plain": [
       "⎡101.105170918076⎤\n",
       "⎢                ⎥\n",
       "⎢1.22140275816017⎥\n",
       "⎢                ⎥\n",
       "⎢ 1.349858807576 ⎥\n",
       "⎢                ⎥\n",
       "⎢1.49182469764127⎥\n",
       "⎢                ⎥\n",
       "⎢1.64872127070013⎥\n",
       "⎢                ⎥\n",
       "⎢1.82211880039051⎥\n",
       "⎢                ⎥\n",
       "⎢2.01375270747048⎥\n",
       "⎢                ⎥\n",
       "⎢2.22554092849247⎥\n",
       "⎢                ⎥\n",
       "⎣274.287785957061⎦"
      ]
     },
     "metadata": {},
     "output_type": "display_data"
    },
    {
     "data": {
      "text/plain": [
       "array([1.        , 1.10521712, 1.22148688, 1.34997234, 1.49195867,\n",
       "       1.64886592, 1.82226328, 2.01388471, 2.22564631, 2.45966543,\n",
       "       2.71828183])"
      ]
     },
     "execution_count": 36,
     "metadata": {},
     "output_type": "execute_result"
    }
   ],
   "source": [
    "ui,xi = differences_finies(f = lambda x: math.exp(x), x0=0, xN=1, N=10, u0=1, uN=math.exp(1))\n",
    "ui"
   ]
  },
  {
   "cell_type": "code",
   "execution_count": 37,
   "metadata": {},
   "outputs": [
    {
     "data": {
      "image/png": "[encoded data removed]",
      "text/plain": [
       "<Figure size 432x288 with 1 Axes>"
      ]
     },
     "metadata": {
      "needs_background": "light"
     },
     "output_type": "display_data"
    }
   ],
   "source": [
    "x_plot = np.linspace(0,1,100)\n",
    "u = lambda x: math.exp(x)\n",
    "u_vect = np.vectorize(u)\n",
    "plt.plot(x_plot, u_vect(x_plot), label='u(x)', color='red')\n",
    "plt.scatter(xi, ui, label='approximation')\n",
    "plt.legend()\n",
    "plt.show()"
   ]
  },
  {
   "cell_type": "code",
   "execution_count": null,
   "metadata": {},
   "outputs": [],
   "source": []
  },
  {
   "cell_type": "code",
   "execution_count": null,
   "metadata": {},
   "outputs": [],
   "source": []
  },
  {
   "cell_type": "code",
   "execution_count": null,
   "metadata": {},
   "outputs": [],
   "source": []
  },
  {
   "cell_type": "markdown",
   "metadata": {},
   "source": [
    "### I.2. Dessiner sur la même figure la solution approchée et la solution exacte en fonction du pas de la discrétisation"
   ]
  },
  {
   "cell_type": "code",
   "execution_count": null,
   "metadata": {},
   "outputs": [],
   "source": []
  },
  {
   "cell_type": "markdown",
   "metadata": {},
   "source": [
    "### I.3. Dessiner l'erreur $(erreur = u_{approchée} - u_{exact} )$ en fonction du pas de la discrétisation\n",
    "<br>\n",
    "<center> ($log(erreur) = fct(log(h)$) </center>"
   ]
  },
  {
   "cell_type": "code",
   "execution_count": null,
   "metadata": {},
   "outputs": [],
   "source": []
  },
  {
   "cell_type": "markdown",
   "metadata": {},
   "source": [
    "## II. Equation de Poisson en 2D"
   ]
  },
  {
   "cell_type": "markdown",
   "metadata": {},
   "source": [
    "On considère le problème suivant:\n",
    "\n",
    "$$\n",
    "(\\widehat{P})\n",
    "\\left\\{\n",
    "    \\begin{array}{ll}\n",
    "        - \\Delta u(x,y) = f(x,y) \\ \\text{ sur } \\ \\rbrack 0,1 \\lbrack \\\\\n",
    "        u|_{\\partial \\Omega} = 0 \\ \\ \\ \\ \\text{(conditions de Dirichlet homogène)}\n",
    "    \\end{array}\n",
    "\\right. \\\\\n",
    "$$"
   ]
  },
  {
   "cell_type": "markdown",
   "metadata": {},
   "source": [
    "### II.1. Résoudre le problème $(\\widehat{P})$ par la méthode des différences finies ( $f(x,y)=1$ )"
   ]
  },
  {
   "cell_type": "code",
   "execution_count": null,
   "metadata": {},
   "outputs": [],
   "source": []
  },
  {
   "cell_type": "markdown",
   "metadata": {},
   "source": [
    "### II.2. Comparer la solution obtenue numériquement pour le cas $f(x,y) = -1$ avec la solution exacte donnée par la formule suivante:"
   ]
  },
  {
   "cell_type": "markdown",
   "metadata": {},
   "source": [
    "$$\n",
    "u_{exact} = \\sum^{\\infty}_{l=0} \\sum^{\\infty}_{m=0} u_{lm} \\cdot sin((2l-1)\\pi x) \\cdot sin((2m-1)\\pi y) \\\\\n",
    "\\text{où } \\ \\ \\ \\ \\ u_{lm} = \\frac{-16}{((2l-1)^2+(2m-1)^2)\\pi^4 (2l-1)(2m-1)}\n",
    "$$"
   ]
  },
  {
   "cell_type": "code",
   "execution_count": null,
   "metadata": {},
   "outputs": [],
   "source": []
  },
  {
   "cell_type": "markdown",
   "metadata": {},
   "source": [
    "## III. L'équation de la chaleur en 1D"
   ]
  },
  {
   "cell_type": "markdown",
   "metadata": {},
   "source": [
    "On considère le problème suivant:\n",
    "\n",
    "$$\n",
    "(\\widetilde{P})\n",
    "\\left\\{\n",
    "    \\begin{array}{ll}\n",
    "        \\frac{\\partial v}{\\partial t} - \\frac{\\partial^2 v}{\\partial x^2} = 0  \\ \\ \\ \\ \\ \\forall (x,t) \\ \\in  \\ \\ \\lbrack 0,1 \\rbrack  \\ \\ \\times \\ \\ \\mathbb{R} \\\\\n",
    "        v(t,0) = v(t,1) = 0 \\ \\ \\ \\ \\ \\forall \\ \\ t \\ \\in  \\ \\ \\mathbb{R} \\\\\n",
    "        v(x,0) = v_0(x) \\ \\ \\ \\ \\ \\forall \\ \\ x \\ \\in  \\ \\ \\ \\lbrack 0,1 \\rbrack\n",
    "    \\end{array}\n",
    "\\right. \\\\\n",
    "$$"
   ]
  },
  {
   "cell_type": "markdown",
   "metadata": {},
   "source": [
    "On discrétise $(\\widetilde{P})$ par le schéma suivant:\n",
    "\n",
    "$$\n",
    "\\frac{v^{n+1}_{j} - v^{n}_{j} }{\\Delta t} - \\frac{v^{n}_{j+1} - 2v^{n}_{j} + v^{n}_{j-1} }{(\\Delta x)^2} = 0 \\ \\ \\ \\ (\\ast) \\\\\n",
    "\\\\ \n",
    "(t_n, x_j) = (n \\Delta t, j \\Delta x) ; \\ \\ \\ \\forall n \\ \\ \\geq \\ 0, \\ \\ \\forall \\ j \\ \\in \\ \\{0, 1, ..., N+1 \\} \\\\\n",
    "\\text{où } \\ \\ \\Delta x = \\frac{1}{N+1} \\ \\text{et} \\ \\Delta t \\gt 0\n",
    "$$"
   ]
  },
  {
   "cell_type": "markdown",
   "metadata": {},
   "source": [
    "### III.1. Ecrire le problème discrétisé $(\\ast)$ sous la forme matricielle."
   ]
  },
  {
   "cell_type": "code",
   "execution_count": null,
   "metadata": {},
   "outputs": [],
   "source": []
  },
  {
   "cell_type": "markdown",
   "metadata": {},
   "source": [
    "### III.2. Implémenter numériquement le problème matriciel obtenu avec $v_0(x)=e^x$"
   ]
  },
  {
   "cell_type": "code",
   "execution_count": null,
   "metadata": {},
   "outputs": [],
   "source": []
  }
 ],
 "metadata": {
  "kernelspec": {
   "display_name": "Python 3",
   "language": "python",
   "name": "python3"
  },
  "language_info": {
   "codemirror_mode": {
    "name": "ipython",
    "version": 3
   },
   "file_extension": ".py",
   "mimetype": "text/x-python",
   "name": "python",
   "nbconvert_exporter": "python",
   "pygments_lexer": "ipython3",
   "version": "3.8.3"
  }
 },
 "nbformat": 4,
 "nbformat_minor": 2
}

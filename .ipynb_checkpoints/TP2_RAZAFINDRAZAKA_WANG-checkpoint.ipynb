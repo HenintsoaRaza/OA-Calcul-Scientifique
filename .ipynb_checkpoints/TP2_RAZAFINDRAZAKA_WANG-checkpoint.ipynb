{
 "cells": [
  {
   "cell_type": "markdown",
   "metadata": {},
   "source": [
    "# <center> TP N°2 </center>\n",
    "### <center> Résolution des systmes linéairess (Méthodes Itératives)\n",
    "</center>\n",
    "<div>\n",
    "    <center> RAZAFINDRAZAKA Henintsoa </center>\n",
    "    <center> Wang James </center>\n",
    "    <center> ____________</center>\n",
    "    <center> ING5 SI GR02 </center>\n",
    "    <center> 19/10/2020 </center>\n",
    "</div>"
   ]
  },
  {
   "cell_type": "markdown",
   "metadata": {},
   "source": [
    "(b) Application :on déﬁnit la matrice A∈Mn,n et le vecteur b∈Mn,1 tels que\n",
    "\n",
    "\n",
    "$$\n",
    "\\mathbf{A}\n",
    "=\n",
    "\\begin{bmatrix}\n",
    "3 & 1 & 0 & \\cdots & \\cdots & \\cdots & 0 \n",
    "\\\\ \n",
    "1 & 3 & 1 & 0 & \\cdots & \\cdots & 0 \n",
    "\\\\\n",
    "0 & 1 & 3 & 1 & 0 & \\cdots & \\vdots \n",
    "\\\\\n",
    "\\vdots & \\ddots & \\ddots & \\ddots & \\ddots & \\ddots & \\vdots \n",
    "\\\\\n",
    "\\vdots & \\ddots & \\ddots & \\ddots & \\ddots & \\ddots & \\vdots \n",
    "\\\\\n",
    "0 & \\cdots & \\cdots & 0 & 1 & 3 & 1 \n",
    "\\\\\n",
    "0 & \\cdots & \\cdots & \\cdots & 0 & 1 & 3\n",
    "\\end{bmatrix}\n",
    "$$\n",
    "\n",
    "$$\n",
    "\\mathbf{B}\n",
    "=\n",
    "\\begin{bmatrix}\n",
    "1 \\\\ \\cdots \\\\ \\cdots \\\\ \\cdots \\\\ 1\n",
    "\\end{bmatrix}\n",
    "$$\n",
    "\n",
    "(i) Montrer que la méthode de Gauss-Seidel pour résoudre le système Ax = b va converger. "
   ]
  },
  {
   "cell_type": "markdown",
   "metadata": {},
   "source": [
    "On peut voir directement que A est symétrique et défini positive car tous ces mineurs principaux sont supérieurs ou égaux à zéro alors Gauss-Seidel converge. \n",
    "\n",
    "On peut également dire que A est une matrice à diagonale dominate car pour tout i appartenant à [1,n] : $$|a_{ii}|  \\ge  \\sum \\limits_{j=1,j \\neq i}^{n}|a_{ij}|$$"
   ]
  },
  {
   "cell_type": "markdown",
   "metadata": {},
   "source": [
    "(ii) On choisit n = 10. Construire la matrice A (on pourra utiliser la commande diag) et le vecteur b.\n",
    "Déterminer la solution de Ax = b par la méthode de Cholesky, puis par celle de Gauss-Seidel.\n"
   ]
  },
  {
   "cell_type": "code",
   "execution_count": 25,
   "metadata": {},
   "outputs": [
    {
     "name": "stdout",
     "output_type": "stream",
     "text": [
      "[[3. 1. 0. 0. 0. 0. 0. 0. 0. 0.]\n",
      " [1. 3. 1. 0. 0. 0. 0. 0. 0. 0.]\n",
      " [0. 1. 3. 1. 0. 0. 0. 0. 0. 0.]\n",
      " [0. 0. 1. 3. 1. 0. 0. 0. 0. 0.]\n",
      " [0. 0. 0. 1. 3. 1. 0. 0. 0. 0.]\n",
      " [0. 0. 0. 0. 1. 3. 1. 0. 0. 0.]\n",
      " [0. 0. 0. 0. 0. 1. 3. 1. 0. 0.]\n",
      " [0. 0. 0. 0. 0. 0. 1. 3. 1. 0.]\n",
      " [0. 0. 0. 0. 0. 0. 0. 1. 3. 1.]\n",
      " [0. 0. 0. 0. 0. 0. 0. 0. 1. 3.]]\n",
      "\n",
      "|A|=  17710.999999999993\n"
     ]
    },
    {
     "data": {
      "text/plain": [
       "array([[1.],\n",
       "       [1.],\n",
       "       [1.],\n",
       "       [1.],\n",
       "       [1.],\n",
       "       [1.],\n",
       "       [1.],\n",
       "       [1.],\n",
       "       [1.],\n",
       "       [1.]])"
      ]
     },
     "execution_count": 25,
     "metadata": {},
     "output_type": "execute_result"
    }
   ],
   "source": [
    "import numpy as np\n",
    "\n",
    "n = 10\n",
    "A = 3 * np.eye(n) \n",
    "for i in range(n-1):\n",
    "    A[i][i+1] = 1\n",
    "    A[i+1][i] = 1\n",
    "\n",
    "print(A)\n",
    "print('\\n|A|= ', np.linalg.det(A))\n",
    "\n",
    "b = np.ones((n,1))\n",
    "b"
   ]
  },
  {
   "cell_type": "markdown",
   "metadata": {},
   "source": [
    "##### Méthode de Cholesky:\n",
    "\n",
    "A est Symétrique définie positive  alors il existe une unique matrice C triangulaire inférieure dont les coefficients de la diagonale principale sont positifs :$$ A = C.C^{t}$$"
   ]
  },
  {
   "cell_type": "code",
   "execution_count": 30,
   "metadata": {},
   "outputs": [],
   "source": [
    "def cholesky(A):\n",
    "    C = np.zeros((n,n))\n",
    "    C[0][0] = np.sqrt(A[0][0])\n",
    "\n",
    "    for i in range(1, n):\n",
    "        C[i][0] = A[i][0] / C[0][0]\n",
    "\n",
    "    for j in range(1, n):\n",
    "        s0 = 0 \n",
    "        for k in range(0, j):\n",
    "            s0 += C[j][k]**2\n",
    "        C[j][j] = np.sqrt(A[j][j] - s0)\n",
    "        for i in range (j, n):\n",
    "            s1 = 0\n",
    "            for k in range(0, j):\n",
    "                s1 += C[i][k] * C[j][k]\n",
    "            C[i][j] = (1 / C[j][j]) * ( A[i][j] - s1) \n",
    "    return C"
   ]
  },
  {
   "cell_type": "code",
   "execution_count": 32,
   "metadata": {},
   "outputs": [
    {
     "name": "stdout",
     "output_type": "stream",
     "text": [
      "[[1.73205081 0.         0.         0.         0.         0.\n",
      "  0.         0.         0.         0.        ]\n",
      " [0.57735027 1.63299316 0.         0.         0.         0.\n",
      "  0.         0.         0.         0.        ]\n",
      " [0.         0.61237244 1.62018517 0.         0.         0.\n",
      "  0.         0.         0.         0.        ]\n",
      " [0.         0.         0.6172134  1.61834719 0.         0.\n",
      "  0.         0.         0.         0.        ]\n",
      " [0.         0.         0.         0.61791438 1.61807967 0.\n",
      "  0.         0.         0.         0.        ]\n",
      " [0.         0.         0.         0.         0.61801654 1.61804065\n",
      "  0.         0.         0.         0.        ]\n",
      " [0.         0.         0.         0.         0.         0.61803144\n",
      "  1.61803496 0.         0.         0.        ]\n",
      " [0.         0.         0.         0.         0.         0.\n",
      "  0.61803362 1.61803413 0.         0.        ]\n",
      " [0.         0.         0.         0.         0.         0.\n",
      "  0.         0.61803393 1.61803401 0.        ]\n",
      " [0.         0.         0.         0.         0.         0.\n",
      "  0.         0.         0.61803398 1.61803399]]\n"
     ]
    }
   ],
   "source": [
    "C = cholesky(A)\n",
    "print(C)"
   ]
  },
  {
   "cell_type": "code",
   "execution_count": 34,
   "metadata": {},
   "outputs": [],
   "source": [
    "def trianginf(T,b):\n",
    "    n = len(b)\n",
    "    x = np.zeros(b.shape)\n",
    "\n",
    "    x[0] = b[0] / T[0][0]\n",
    "    for i in range(1,n):\n",
    "        sigma = 0\n",
    "        for j in range(0, i):\n",
    "            sigma += T[i][j] * x[j]\n",
    "        x[i] = (1/T[i][i]) * ( b[i] - sigma )\n",
    "    return x\n",
    "\n",
    "def triangsup(T,b):\n",
    "    n = len(b)\n",
    "    x = np.zeros(b.shape)\n",
    "\n",
    "    x[n-1] = b[n-1] / T[n-1][n-1]\n",
    "    for i in range(n-2,-1,-1):\n",
    "        sigma = 0\n",
    "        for j in range(i+1, n):\n",
    "            sigma += T[i][j] * x[j]\n",
    "        x[i] = (1/T[i][i]) * ( b[i] - sigma )\n",
    "    return x"
   ]
  },
  {
   "cell_type": "code",
   "execution_count": 36,
   "metadata": {},
   "outputs": [
    {
     "name": "stdout",
     "output_type": "stream",
     "text": [
      "y : \n",
      "  [[0.57735027]\n",
      " [0.40824829]\n",
      " [0.46291005]\n",
      " [0.44136741]\n",
      " [0.44946657]\n",
      " [0.44635604]\n",
      " [0.44754158]\n",
      " [0.44708838]\n",
      " [0.44726143]\n",
      " [0.44719532]]\n",
      "\n",
      "x: \n",
      " [[0.27638191]\n",
      " [0.17085427]\n",
      " [0.21105528]\n",
      " [0.1959799 ]\n",
      " [0.20100503]\n",
      " [0.20100503]\n",
      " [0.1959799 ]\n",
      " [0.21105528]\n",
      " [0.17085427]\n",
      " [0.27638191]]\n",
      "\n",
      "np.linalg.inv(A).dot(b)) : \n",
      " [[0.27638191]\n",
      " [0.17085427]\n",
      " [0.21105528]\n",
      " [0.1959799 ]\n",
      " [0.20100503]\n",
      " [0.20100503]\n",
      " [0.1959799 ]\n",
      " [0.21105528]\n",
      " [0.17085427]\n",
      " [0.27638191]]\n",
      "\n",
      "b : \n",
      " [[1.]\n",
      " [1.]\n",
      " [1.]\n",
      " [1.]\n",
      " [1.]\n",
      " [1.]\n",
      " [1.]\n",
      " [1.]\n",
      " [1.]\n",
      " [1.]]\n",
      "\n",
      "A.dot(x) :  [[1.]\n",
      " [1.]\n",
      " [1.]\n",
      " [1.]\n",
      " [1.]\n",
      " [1.]\n",
      " [1.]\n",
      " [1.]\n",
      " [1.]\n",
      " [1.]]\n"
     ]
    }
   ],
   "source": [
    "y = trianginf(C,b) \n",
    "print(\"y : \\n \",y)\n",
    "\n",
    "x = triangsup(C.T,y)\n",
    "print(\"\\nx: \\n\", x)\n",
    "print(\"\\nnp.linalg.inv(A).dot(b)) : \\n\", np.linalg.inv(A).dot(b))\n",
    "\n",
    "print(\"\\nb : \\n\", b)\n",
    "print(\"\\nA.dot(x) : \", A.dot(x))"
   ]
  },
  {
   "cell_type": "markdown",
   "metadata": {},
   "source": [
    "##### Méthode de Gauss-Seidel:"
   ]
  },
  {
   "cell_type": "code",
   "execution_count": 54,
   "metadata": {},
   "outputs": [
    {
     "name": "stdout",
     "output_type": "stream",
     "text": [
      "\n",
      "A : \n",
      " [[3. 1. 0. 0. 0. 0. 0. 0. 0. 0.]\n",
      " [1. 3. 1. 0. 0. 0. 0. 0. 0. 0.]\n",
      " [0. 1. 3. 1. 0. 0. 0. 0. 0. 0.]\n",
      " [0. 0. 1. 3. 1. 0. 0. 0. 0. 0.]\n",
      " [0. 0. 0. 1. 3. 1. 0. 0. 0. 0.]\n",
      " [0. 0. 0. 0. 1. 3. 1. 0. 0. 0.]\n",
      " [0. 0. 0. 0. 0. 1. 3. 1. 0. 0.]\n",
      " [0. 0. 0. 0. 0. 0. 1. 3. 1. 0.]\n",
      " [0. 0. 0. 0. 0. 0. 0. 1. 3. 1.]\n",
      " [0. 0. 0. 0. 0. 0. 0. 0. 1. 3.]]\n",
      "\n",
      "D : \n",
      " [[3. 0. 0. 0. 0. 0. 0. 0. 0. 0.]\n",
      " [0. 3. 0. 0. 0. 0. 0. 0. 0. 0.]\n",
      " [0. 0. 3. 0. 0. 0. 0. 0. 0. 0.]\n",
      " [0. 0. 0. 3. 0. 0. 0. 0. 0. 0.]\n",
      " [0. 0. 0. 0. 3. 0. 0. 0. 0. 0.]\n",
      " [0. 0. 0. 0. 0. 3. 0. 0. 0. 0.]\n",
      " [0. 0. 0. 0. 0. 0. 3. 0. 0. 0.]\n",
      " [0. 0. 0. 0. 0. 0. 0. 3. 0. 0.]\n",
      " [0. 0. 0. 0. 0. 0. 0. 0. 3. 0.]\n",
      " [0. 0. 0. 0. 0. 0. 0. 0. 0. 3.]]\n",
      "\n",
      "M : \n",
      " [[ 0.  0.  0.  0.  0.  0.  0.  0.  0.  0.]\n",
      " [-1.  0.  0.  0.  0.  0.  0.  0.  0.  0.]\n",
      " [ 0. -1.  0.  0.  0.  0.  0.  0.  0.  0.]\n",
      " [ 0.  0. -1.  0.  0.  0.  0.  0.  0.  0.]\n",
      " [ 0.  0.  0. -1.  0.  0.  0.  0.  0.  0.]\n",
      " [ 0.  0.  0.  0. -1.  0.  0.  0.  0.  0.]\n",
      " [ 0.  0.  0.  0.  0. -1.  0.  0.  0.  0.]\n",
      " [ 0.  0.  0.  0.  0.  0. -1.  0.  0.  0.]\n",
      " [ 0.  0.  0.  0.  0.  0.  0. -1.  0.  0.]\n",
      " [ 0.  0.  0.  0.  0.  0.  0.  0. -1.  0.]]\n",
      "\n",
      "N : \n",
      " [[ 0. -1.  0.  0.  0.  0.  0.  0.  0.  0.]\n",
      " [ 0.  0. -1.  0.  0.  0.  0.  0.  0.  0.]\n",
      " [ 0.  0.  0. -1.  0.  0.  0.  0.  0.  0.]\n",
      " [ 0.  0.  0.  0. -1.  0.  0.  0.  0.  0.]\n",
      " [ 0.  0.  0.  0.  0. -1.  0.  0.  0.  0.]\n",
      " [ 0.  0.  0.  0.  0.  0. -1.  0.  0.  0.]\n",
      " [ 0.  0.  0.  0.  0.  0.  0. -1.  0.  0.]\n",
      " [ 0.  0.  0.  0.  0.  0.  0.  0. -1.  0.]\n",
      " [ 0.  0.  0.  0.  0.  0.  0.  0.  0. -1.]\n",
      " [ 0.  0.  0.  0.  0.  0.  0.  0.  0.  0.]]\n"
     ]
    }
   ],
   "source": [
    "print(\"\\nA : \\n\", A)\n",
    "D = 3 * np.eye(n) \n",
    "M , N = np.zeros((n,n)), np.zeros((n,n))\n",
    "\n",
    "for i in range(n-1):\n",
    "    N[i][i+1] = -1\n",
    "    M[i+1][i] = -1\n",
    "    \n",
    "print(\"\\nD : \\n\", D)\n",
    "print(\"\\nM : \\n\", M)\n",
    "print(\"\\nN : \\n\", N)"
   ]
  },
  {
   "cell_type": "code",
   "execution_count": 82,
   "metadata": {},
   "outputs": [
    {
     "name": "stdout",
     "output_type": "stream",
     "text": [
      "nb of epochs :  1\n",
      "nb of epochs :  2\n",
      "nb of epochs :  3\n",
      "nb of epochs :  4\n",
      "nb of epochs :  5\n",
      "nb of epochs :  6\n",
      "nb of epochs :  7\n",
      "nb of epochs :  8\n",
      "nb of epochs :  9\n",
      "Gauss-Seidel a convergé avec une précision de  0.001\n",
      "\n",
      "x : \n",
      " [[0.27639256]\n",
      " [0.17083339]\n",
      " [0.21108257]\n",
      " [0.19595182]\n",
      " [0.2010292 ]\n",
      " [0.20098706]\n",
      " [0.19599155]\n",
      " [0.21104871]\n",
      " [0.17085735]\n",
      " [0.27638088]]\n"
     ]
    }
   ],
   "source": [
    "NbIterationMax = 9\n",
    "epsilon = 0.001\n",
    "X_old = np.zeros((n,1))\n",
    "X_new = np.zeros((n,1))\n",
    "epochs = 0\n",
    "\n",
    "for i in range(n):\n",
    "    sn, sm = 0, 0\n",
    "    for j in range(i+1, n):\n",
    "        sn += N[i][j] * X_old[j]\n",
    "    for j in range(0, i):\n",
    "        sm += M[i][j] * X_new[j]\n",
    "    X_new[i] = (1/D[i][i]) * (sn + sm + b[i])\n",
    "\n",
    "test_darret = np.linalg.norm(X_new - X_old)**2 / np.linalg.norm(X_new)**2\n",
    "\n",
    "while (test_darret >= epsilon) or (epochs < NbIterationMax):\n",
    "    epochs += 1\n",
    "    X_old = X_new\n",
    "    \n",
    "    for i in range(n):\n",
    "        sn, sm = 0, 0\n",
    "        for j in range(i+1, n):\n",
    "            sn += N[i][j] * X_old[j]\n",
    "        for j in range(0, i):\n",
    "            sm += M[i][j] * X_new[j]\n",
    "        X_new[i] = (1/D[i][i]) * (sn + sm + b[i])\n",
    "        \n",
    "    test_darret = np.linalg.norm(X_new - X_old)**2 / np.linalg.norm(X_new)**2\n",
    "    print(\"nb of epochs : \", epochs)\n",
    "\n",
    "if i > NbIterationMax: \n",
    "    print(\"Gauss-Seidel n’a pas convergé\")\n",
    "else:\n",
    "    print(\"Gauss-Seidel a convergé avec une précision de \", epsilon)\n",
    "    \n",
    "    print(\"\\nx : \\n\", X_new)"
   ]
  },
  {
   "cell_type": "markdown",
   "metadata": {},
   "source": [
    " X trouvé avec la méthode de Cholesky : \n",
    " [[0.27638191]\n",
    " [0.17085427]\n",
    " [0.21105528]\n",
    " [0.1959799 ]\n",
    " [0.20100503]\n",
    " [0.20100503]\n",
    " [0.1959799 ]\n",
    " [0.21105528]\n",
    " [0.17085427]\n",
    " [0.27638191]]\n",
    " \n",
    " Gauss Seidel converge a partir de 10 itérations pour un précision de 0,1. \n",
    " "
   ]
  },
  {
   "cell_type": "code",
   "execution_count": null,
   "metadata": {},
   "outputs": [],
   "source": []
  }
 ],
 "metadata": {
  "kernelspec": {
   "display_name": "Python 3",
   "language": "python",
   "name": "python3"
  },
  "language_info": {
   "codemirror_mode": {
    "name": "ipython",
    "version": 3
   },
   "file_extension": ".py",
   "mimetype": "text/x-python",
   "name": "python",
   "nbconvert_exporter": "python",
   "pygments_lexer": "ipython3",
   "version": "3.8.3"
  }
 },
 "nbformat": 4,
 "nbformat_minor": 2
}

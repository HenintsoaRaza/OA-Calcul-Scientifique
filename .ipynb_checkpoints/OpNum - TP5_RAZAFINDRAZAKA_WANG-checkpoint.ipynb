{
 "cells": [
  {
   "cell_type": "markdown",
   "metadata": {},
   "source": [
    "# <center> TP N°5 </center>\n",
    "## <center> Différences finies\n",
    "\n",
    "</center>\n",
    "<div>\n",
    "    <center> RAZAFINDRAZAKA Henintsoa </center>\n",
    "    <center> Wang James </center>\n",
    "    <center> ____________</center>\n",
    "    <center> ING5 SI GR02 </center>\n",
    "    <center> 15/11/2020 </center>\n",
    "</div>"
   ]
  },
  {
   "cell_type": "markdown",
   "metadata": {},
   "source": [
    "## 1. Résolution analytique de l'équation différentielle pour $f(x)=sin(\\pi x)$"
   ]
  },
  {
   "cell_type": "markdown",
   "metadata": {},
   "source": [
    "$$\n",
    "\\left\\{\n",
    "    \\begin{array}{ll}\n",
    "        -u''(x) = f(x) \\ \\text{ pour } \\ x \\in \\ \\rbrack 0,1 \\lbrack \\\\\n",
    "        u(0)=0, \\ \\ u(1)=0\n",
    "    \\end{array}\n",
    "\\right. \\\\\n",
    "$$\n",
    "<br>\n",
    "$$\n",
    "\\Leftrightarrow\n",
    "\\left\\{\n",
    "    \\begin{array}{ll}\n",
    "        -u''(x) = sin(\\pi x) \\ \\text{ pour } \\ x \\in \\ \\rbrack 0,1 \\lbrack \\\\\n",
    "        u(0)=0, \\ \\ u(1)=0\n",
    "    \\end{array}\n",
    "\\right. \\\\\n",
    "$$\n",
    "<br>\n",
    "$$\n",
    "\\Leftrightarrow\n",
    "\\left\\{\n",
    "    \\begin{array}{ll}\n",
    "        u'(x) = \\int_x -sin(\\pi x) \\ dx \\\\ \n",
    "        \\ \\ \\ \\ \\ \\ \\ = \\frac{1}{\\pi}cos(\\pi x) + a, \\ \\ \\ a \\in \\mathbb{R} \\\\\n",
    "        u(0)=0, \\ \\ u(1)=0\n",
    "    \\end{array}\n",
    "\\right. \\\\\n",
    "$$\n",
    "<br>\n",
    "$$\n",
    "\\Leftrightarrow\n",
    "\\left\\{\n",
    "    \\begin{array}{ll}\n",
    "        u(x) = \\int_x \\frac{1}{\\pi}cos(\\pi x) + a \\ dx \\\\ \n",
    "        \\ \\ \\ \\ \\ \\ \\ = \\frac{1}{\\pi^2} sin(\\pi x) + ax + b, \\ \\ \\ a,b \\in \\mathbb{R} \\\\\n",
    "        u(0)=0, \\ \\ u(1)=0\n",
    "    \\end{array}\n",
    "\\right. \\\\\n",
    "$$\n",
    "<br>\n",
    "$$\n",
    "\\text{Or on a:} \\\\\n",
    "\\left\\{\n",
    "    \\begin{array}{ll}\n",
    "        u(0)=0\\\\\n",
    "        u(1)=0\n",
    "    \\end{array}\n",
    "\\right. \\\\\n",
    "\\Leftrightarrow\n",
    "\\left\\{\n",
    "    \\begin{array}{ll}\n",
    "        u(0) = \\frac{1}{\\pi^2} sin(\\pi \\cdot 0) + a \\cdot 0 + b = 0 \\ \\ \\ \\Rightarrow b = 0\\\\ \n",
    "        u(1) = \\frac{1}{\\pi^2} sin(\\pi \\cdot 1) + a \\cdot 1 + b = 0 \\ \\ \\ \\Rightarrow a = 0\n",
    "    \\end{array}\n",
    "\\right. \\\\\n",
    "$$\n",
    "<br>\n",
    "<br>\n",
    "$$\n",
    "\\text{CONCLUSION} \\\\\n",
    "u(x) = \\frac{1}{\\pi^2} sin(\\pi x) \\\\\n",
    "$$"
   ]
  },
  {
   "cell_type": "markdown",
   "metadata": {},
   "source": [
    "## 2. On suppose que la force appliquée soit $f(x) = x(1-x)$ et on prend $N = 20$ intervalles. Construire la matrice $A$ et le vecteur $b$ correspondants."
   ]
  },
  {
   "cell_type": "code",
   "execution_count": 1,
   "metadata": {},
   "outputs": [
    {
     "name": "stdout",
     "output_type": "stream",
     "text": [
      "A =  (19, 19)\n",
      "\n",
      "b =  (19,)\n"
     ]
    }
   ],
   "source": [
    "import numpy as np\n",
    "import scipy.integrate as integrate\n",
    "import matplotlib.pyplot as plt\n",
    "import time\n",
    "\n",
    "# Nombre d'intervalles\n",
    "N = 20\n",
    "h = 1/N\n",
    "\n",
    "def f(x):\n",
    "    return x*(1-x)\n",
    "f_vect = np.vectorize(f)\n",
    "\n",
    "x = np.linspace(0,1,N-1)\n",
    "b = f_vect(x)\n",
    "\n",
    "Diag_below = -1 * np.ones((N-2,))\n",
    "Diag_above = -1 * np.ones((N-2,))\n",
    "Diag_main  =  2 * np.ones((N-1,))\n",
    "A = (1/h**2) * ( np.diag(Diag_below, -1) + np.diag(Diag_main) + np.diag(Diag_above, 1) )\n",
    "print(\"A = \",A.shape)\n",
    "print(\"\\nb = \",b.shape)"
   ]
  },
  {
   "cell_type": "markdown",
   "metadata": {},
   "source": [
    "## 3. Calculer la solution du système linéaire $Au = b$ \n",
    "\n",
    "### 3.1. Résoudre avec la factorisation $LU$ de $A$. Calculer le temps nécessaire. "
   ]
  },
  {
   "cell_type": "code",
   "execution_count": 2,
   "metadata": {},
   "outputs": [],
   "source": [
    "def trianginf(T,b):\n",
    "    n = len(b)\n",
    "    x = np.zeros(b.shape)\n",
    "\n",
    "    x[0] = b[0] / T[0][0]\n",
    "    for i in range(1,n):\n",
    "        sigma = 0\n",
    "        for j in range(0, i):\n",
    "            sigma += T[i][j] * x[j]\n",
    "        x[i] = (1/T[i][i]) * ( b[i] - sigma )\n",
    "    return x\n",
    "\n",
    "def triangsup(T,b):\n",
    "    n = len(b)\n",
    "    x = np.zeros(b.shape)\n",
    "\n",
    "    x[n-1] = b[n-1] / T[n-1][n-1]\n",
    "    for i in range(n-2,-1,-1):\n",
    "        sigma = 0\n",
    "        for j in range(i+1, n):\n",
    "            sigma += T[i][j] * x[j]\n",
    "        x[i] = (1/T[i][i]) * ( b[i] - sigma )\n",
    "    return x\n",
    "\n",
    "def ludecomp(A):\n",
    "    n = A.shape[0]\n",
    "    L = np.zeros(A.shape)\n",
    "    U = np.zeros(A.shape)\n",
    "    L[0][0] = 1\n",
    "    \n",
    "    for j in range(0, n):\n",
    "        U[0][j] = A[0][j]\n",
    "        \n",
    "    for i in range(1, n):\n",
    "        L[i][0] = A[i][0] / U[0][0]\n",
    "        \n",
    "    for i in range(1, n):\n",
    "        L[i][i] = 1\n",
    "        s0 = 0\n",
    "        for k in range(0, i):\n",
    "            s0 += L[i][k] * U[k][i]\n",
    "        U[i][i] = A[i][i] - s0\n",
    "        \n",
    "        for j in range(i, n):\n",
    "            s1 = 0\n",
    "            for k in range(0, i):\n",
    "                s1 += L[i][k] * U[k][j]\n",
    "            U[i][j] = A[i][j] - s1\n",
    "            \n",
    "            s2 = 0\n",
    "            for k in range(0, i):\n",
    "                s2 += L[j][k] * U[k][i]\n",
    "            L[j][i] = (1 / U[i][i]) * (A[j][i] - s2)\n",
    "    return L, U"
   ]
  },
  {
   "cell_type": "code",
   "execution_count": 3,
   "metadata": {},
   "outputs": [
    {
     "name": "stdout",
     "output_type": "stream",
     "text": [
      "\n",
      "Temps d'execution (LU) : 0.0019826889038085938 seconds \n",
      "\n",
      "A.u =  [0.    0.052 0.099 0.139 0.173 0.201 0.222 0.238 0.247 0.25  0.247 0.238\n",
      " 0.222 0.201 0.173 0.139 0.099 0.052 0.   ]\n",
      "\n",
      " b  =  [0.    0.052 0.099 0.139 0.173 0.201 0.222 0.238 0.247 0.25  0.247 0.238\n",
      " 0.222 0.201 0.173 0.139 0.099 0.052 0.   ]\n"
     ]
    }
   ],
   "source": [
    "start_time = time.time()\n",
    "\n",
    "L, U = ludecomp(A)\n",
    "y = trianginf(L,b)\n",
    "u = triangsup(U,y)\n",
    "\n",
    "end_time = time.time()\n",
    "temps_LU = end_time - start_time\n",
    "print( \"\\nTemps d'execution (LU) : %s seconds \" % (temps_LU))\n",
    "\n",
    "precision = 3\n",
    "print(\"\\nA.u = \", np.round(A.dot(u), precision) )\n",
    "print(\"\\n b  = \", np.round(b, precision))"
   ]
  },
  {
   "cell_type": "markdown",
   "metadata": {},
   "source": [
    "### 3.2. Résoudre directement avec $A^{-1}$ et comparer le temps de calcul. "
   ]
  },
  {
   "cell_type": "code",
   "execution_count": 4,
   "metadata": {},
   "outputs": [
    {
     "name": "stdout",
     "output_type": "stream",
     "text": [
      "\n",
      "Temps d'execution (A^-1): 0.004023313522338867 seconds \n",
      "\n",
      "A.u =  [0.    0.052 0.099 0.139 0.173 0.201 0.222 0.238 0.247 0.25  0.247 0.238\n",
      " 0.222 0.201 0.173 0.139 0.099 0.052 0.   ]\n",
      "\n",
      " b  =  [0.    0.052 0.099 0.139 0.173 0.201 0.222 0.238 0.247 0.25  0.247 0.238\n",
      " 0.222 0.201 0.173 0.139 0.099 0.052 0.   ]\n"
     ]
    }
   ],
   "source": [
    "start_time = time.time()\n",
    "\n",
    "A_inv = np.linalg.inv(A)\n",
    "u = A_inv.dot(b)\n",
    "\n",
    "end_time = time.time()\n",
    "temps_inv = end_time - start_time\n",
    "print( \"\\nTemps d'execution (A^-1): %s seconds \" % (temps_inv))\n",
    "\n",
    "precision = 3\n",
    "print(\"\\nA.u = \", np.round(A.dot(u), precision) )\n",
    "print(\"\\n b  = \", np.round(b, precision))"
   ]
  },
  {
   "cell_type": "markdown",
   "metadata": {},
   "source": [
    "> On observe que l'algorithme de résolution du système avec la factorisation $LU$ nécessite moins de temps de calcul que l'algorithme d'inversion de matrice `np.linalg.inv` de numpy."
   ]
  },
  {
   "cell_type": "markdown",
   "metadata": {},
   "source": [
    "### 3.3. Résoudre avec la factorisation de Cholesky de $A$. Comparer le temps de calcul."
   ]
  },
  {
   "cell_type": "code",
   "execution_count": 5,
   "metadata": {},
   "outputs": [],
   "source": [
    "def cholesky(A):\n",
    "    n = A.shape[0]\n",
    "    C = np.zeros((n,n))\n",
    "    C[0][0] = np.sqrt(A[0][0])\n",
    "\n",
    "    for i in range(1, n):\n",
    "        C[i][0] = A[i][0] / C[0][0]\n",
    "\n",
    "    for j in range(1, n):\n",
    "        s0 = 0 \n",
    "        for k in range(0, j):\n",
    "            s0 += C[j][k]**2\n",
    "        C[j][j] = np.sqrt(A[j][j] - s0)\n",
    "        for i in range (j, n):\n",
    "            s1 = 0\n",
    "            for k in range(0, j):\n",
    "                s1 += C[i][k] * C[j][k]\n",
    "            C[i][j] = (1 / C[j][j]) * ( A[i][j] - s1) \n",
    "    return C"
   ]
  },
  {
   "cell_type": "code",
   "execution_count": 6,
   "metadata": {},
   "outputs": [
    {
     "name": "stdout",
     "output_type": "stream",
     "text": [
      "\n",
      "Temps d'execution (Cholesky) : 0.000997781753540039 seconds\n",
      "\n",
      "A.u =  [0.    0.052 0.099 0.139 0.173 0.201 0.222 0.238 0.247 0.25  0.247 0.238\n",
      " 0.222 0.201 0.173 0.139 0.099 0.052 0.   ]\n",
      "\n",
      " b  =  [0.    0.052 0.099 0.139 0.173 0.201 0.222 0.238 0.247 0.25  0.247 0.238\n",
      " 0.222 0.201 0.173 0.139 0.099 0.052 0.   ]\n"
     ]
    }
   ],
   "source": [
    "start_time = time.time()\n",
    "\n",
    "C = cholesky(A)\n",
    "y = trianginf(C,b)\n",
    "u = triangsup(C.T,y)\n",
    "\n",
    "end_time = time.time()\n",
    "temps_cholesky = end_time - start_time\n",
    "print( \"\\nTemps d'execution (Cholesky) : %s seconds\" % (end_time - start_time))\n",
    "\n",
    "precision = 3\n",
    "print(\"\\nA.u = \", np.round(A.dot(u), precision) )\n",
    "print(\"\\n b  = \", np.round(b, precision))"
   ]
  },
  {
   "cell_type": "markdown",
   "metadata": {},
   "source": [
    "> On observe que l'algorithme de résolution du système avec la factorisation de Cholesky nécessite autant de temps de calcul que l'algorithme de factorisation $LU$ qui était plus performante que `np.linalg.inv`."
   ]
  },
  {
   "cell_type": "markdown",
   "metadata": {},
   "source": [
    "## 4. Résolution de l'équation différentielle par les différences finies "
   ]
  },
  {
   "cell_type": "markdown",
   "metadata": {},
   "source": [
    "### 4.1. Implémentation de la méthode des différences finies"
   ]
  },
  {
   "cell_type": "code",
   "execution_count": 17,
   "metadata": {},
   "outputs": [],
   "source": [
    "def differences_finies(f, N, u0, uN):\n",
    "    #    f   : fonction f(x) second membre\n",
    "    #    N   : nombre d'intervalles \n",
    "    # u0, uN : condition initiales\n",
    "    \n",
    "    h = 1/N\n",
    "\n",
    "    f_vect = np.vectorize(f)\n",
    "\n",
    "    x = np.linspace(0,1,N+1)\n",
    "    b = f_vect(x[1:N])\n",
    "\n",
    "    Diag_below = -1 * np.ones((b.shape[0]-1,))\n",
    "    Diag_above = -1 * np.ones((b.shape[0]-1,))\n",
    "    Diag_main  =  2 * np.ones((b.shape[0],))\n",
    "    A = (1/h**2) * ( np.diag(Diag_below, -1) + np.diag(Diag_main) + np.diag(Diag_above, 1) )\n",
    "    \n",
    "    C = cholesky(A)\n",
    "    y = trianginf(C,b)\n",
    "    u = triangsup(C.T,y)\n",
    "    \n",
    "    result = np.zeros((u.shape[0] + 2,))\n",
    "    result[0]   = u0\n",
    "    result[1:N] = u\n",
    "    result[N]   = uN\n",
    "    \n",
    "    return result,x\n",
    "    "
   ]
  },
  {
   "cell_type": "code",
   "execution_count": 18,
   "metadata": {},
   "outputs": [
    {
     "data": {
      "text/plain": [
       "array([0.        , 0.01588276, 0.03137443, 0.04609355, 0.0596777 ,\n",
       "       0.07179239, 0.08213931, 0.09046369, 0.09656055, 0.10027977,\n",
       "       0.10152977, 0.10027977, 0.09656055, 0.09046369, 0.08213931,\n",
       "       0.07179239, 0.0596777 , 0.04609355, 0.03137443, 0.01588276,\n",
       "       0.        ])"
      ]
     },
     "execution_count": 18,
     "metadata": {},
     "output_type": "execute_result"
    }
   ],
   "source": [
    "def f1(x):\n",
    "    return np.sin(np.pi * x)\n",
    "ui,xi = differences_finies(f1,N,0,0)\n",
    "ui"
   ]
  },
  {
   "cell_type": "markdown",
   "metadata": {},
   "source": [
    "### 4.2. Représentation graphique du déplacement $u$ du câble aux noeuds $x_i$ de l'intervalle $[0,1]$"
   ]
  },
  {
   "cell_type": "code",
   "execution_count": 19,
   "metadata": {},
   "outputs": [
    {
     "data": {
      "image/png": "[encoded data removed]",
      "text/plain": [
       "<Figure size 432x288 with 1 Axes>"
      ]
     },
     "metadata": {
      "needs_background": "light"
     },
     "output_type": "display_data"
    }
   ],
   "source": [
    "plt.plot(xi, ui)\n",
    "plt.show()"
   ]
  },
  {
   "cell_type": "markdown",
   "metadata": {},
   "source": [
    "### 4.3. Comparaison graphique entre le déplacement approché avec la solution exacte du problème"
   ]
  },
  {
   "cell_type": "code",
   "execution_count": 28,
   "metadata": {},
   "outputs": [
    {
     "data": {
      "image/png": "[encoded data removed]",
      "text/plain": [
       "<Figure size 432x288 with 1 Axes>"
      ]
     },
     "metadata": {
      "needs_background": "light"
     },
     "output_type": "display_data"
    }
   ],
   "source": [
    "x_plot = np.linspace(0,1,100)\n",
    "plt.plot(x_plot, (1/np.pi**2) * np.sin(x_plot*np.pi), label='f(x)', color='red')\n",
    "plt.scatter(xi, ui, label='approximation')\n",
    "plt.legend()\n",
    "plt.show()"
   ]
  },
  {
   "cell_type": "code",
   "execution_count": null,
   "metadata": {},
   "outputs": [],
   "source": []
  }
 ],
 "metadata": {
  "kernelspec": {
   "display_name": "Python 3",
   "language": "python",
   "name": "python3"
  },
  "language_info": {
   "codemirror_mode": {
    "name": "ipython",
    "version": 3
   },
   "file_extension": ".py",
   "mimetype": "text/x-python",
   "name": "python",
   "nbconvert_exporter": "python",
   "pygments_lexer": "ipython3",
   "version": "3.7.4"
  }
 },
 "nbformat": 4,
 "nbformat_minor": 2
}

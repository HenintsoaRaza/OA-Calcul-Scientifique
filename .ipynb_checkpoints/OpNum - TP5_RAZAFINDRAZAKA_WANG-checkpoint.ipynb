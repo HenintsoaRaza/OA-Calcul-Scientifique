{
 "cells": [
  {
   "cell_type": "markdown",
   "metadata": {},
   "source": [
    "# <center> TP N°4 </center>\n",
    "### <center> Intégration numérique (Méthode des Trapèzes et Simpson)\n",
    "\n",
    "</center>\n",
    "<div>\n",
    "    <center> RAZAFINDRAZAKA Henintsoa </center>\n",
    "    <center> Wang James </center>\n",
    "    <center> ____________</center>\n",
    "    <center> ING5 SI GR02 </center>\n",
    "    <center> 08/11/2020 </center>\n",
    "</div>"
   ]
  },
  {
   "cell_type": "markdown",
   "metadata": {},
   "source": [
    "## 1. Méthode des trapèzes"
   ]
  },
  {
   "cell_type": "code",
   "execution_count": 1,
   "metadata": {},
   "outputs": [],
   "source": [
    "import numpy as np\n",
    "import scipy.integrate as integrate\n",
    "import matplotlib.pyplot as plt\n",
    "\n",
    "# Déﬁnir un nombre de points N \n",
    "N = 10\n",
    "\n",
    "# Bornes \n",
    "a = 0\n",
    "b = np.pi\n",
    "\n",
    "def f(x):\n",
    "    return np.sin(x)\n",
    "\n",
    "# Créer une discrétisation \n",
    "x = np.linspace(a,b, N+1)\n",
    "\n",
    "# Créer un vecteur (yi) contenant les composantes de f(x) = sin(x)\n",
    "y = []\n",
    "for i in range(N+1):\n",
    "    y.append(f(x[i]))"
   ]
  },
  {
   "cell_type": "code",
   "execution_count": 2,
   "metadata": {},
   "outputs": [
    {
     "name": "stdout",
     "output_type": "stream",
     "text": [
      "trapeze =  1.9349832615413176\n",
      "\n",
      "integ =  (2.0, 2.220446049250313e-14)\n"
     ]
    }
   ],
   "source": [
    "# Interpolation méthode des trapèzes \n",
    "\n",
    "# pas\n",
    "h = x[1] - x[0]\n",
    "\n",
    "# somme de 1 à n-1\n",
    "somme = 0\n",
    "for k in range(N-1):\n",
    "    somme += f(x[k]) + f(x[k+1])\n",
    "\n",
    "trapeze = (h/2) * somme\n",
    "\n",
    "print('trapeze = ',trapeze)\n",
    "\n",
    "integ = integrate.quad(f, a, b)\n",
    "print('\\ninteg = ',integ)\n"
   ]
  },
  {
   "cell_type": "code",
   "execution_count": 3,
   "metadata": {},
   "outputs": [],
   "source": [
    "def trapeze(f, a, b, N ):\n",
    "    # Créer une discrétisation \n",
    "    x = np.linspace(a,b, N+1)\n",
    "\n",
    "    # Créer un vecteur (yi) contenant les composantes de f(x) = sin(x)\n",
    "    y = []\n",
    "    for i in range(N+1):\n",
    "        y.append(f(x[i]))\n",
    "\n",
    "    # Interpolation méthode des trapèzes \n",
    "\n",
    "    # pas\n",
    "    h = x[1] - x[0]\n",
    "\n",
    "    # somme de 1 à n-1\n",
    "    somme = 0\n",
    "    for k in range(N-1):\n",
    "        somme += f(x[k]) + f(x[k+1])\n",
    "\n",
    "    trapeze = (h/2) * somme\n",
    "    \n",
    "    return trapeze"
   ]
  },
  {
   "cell_type": "code",
   "execution_count": 4,
   "metadata": {},
   "outputs": [
    {
     "name": "stdout",
     "output_type": "stream",
     "text": [
      "trapeze(N=10)   =  0.8862269286222806\n",
      "trapeze(N=100)  =  0.8862269254527579\n",
      "trapeze(N=1000) =  0.8862269254527573\n",
      "\n",
      "integ =           (0.8862269254527579, 7.345219412941623e-10)\n"
     ]
    }
   ],
   "source": [
    "def g(x):\n",
    "    return np.exp(-x**2)\n",
    "\n",
    "print('trapeze(N=10)   = ',trapeze(g,0,7,10))\n",
    "integ = integrate.quad(g, 0, 7)\n",
    "\n",
    "print('trapeze(N=100)  = ',trapeze(g,0,7,100))\n",
    "integ = integrate.quad(g, 0, 7)\n",
    "\n",
    "print('trapeze(N=1000) = ',trapeze(g,0,7,1000))\n",
    "integ = integrate.quad(g, 0, 7)\n",
    "print('\\ninteg =          ',integ)\n"
   ]
  },
  {
   "cell_type": "markdown",
   "metadata": {},
   "source": [
    "## 2. Méthode de Simpson\n"
   ]
  },
  {
   "cell_type": "code",
   "execution_count": 6,
   "metadata": {},
   "outputs": [],
   "source": [
    "def simpson(f, a, b, N ):\n",
    "    # Créer une discrétisation \n",
    "    x = np.linspace(a,b, N+1)\n",
    "\n",
    "    # Créer un vecteur (yi) contenant les composantes de f(x) = sin(x)\n",
    "    y = []\n",
    "    for i in range(N+1):\n",
    "        y.append(f(x[i]))\n",
    "\n",
    "    # Interpolation méthode des trapèzes \n",
    "\n",
    "    # pas\n",
    "    h = x[1] - x[0]\n",
    "\n",
    "    # somme de 1 à n-1\n",
    "    somme = 0\n",
    "    for k in range(N-1):\n",
    "        m = (x[k] + x[k+1]) / 2\n",
    "        somme += f(x[k]) + 4*f(m) + f(x[k+1])\n",
    "\n",
    "    simpson = (h/6) * somme\n",
    "    \n",
    "    return simpson"
   ]
  },
  {
   "cell_type": "code",
   "execution_count": 14,
   "metadata": {},
   "outputs": [
    {
     "name": "stdout",
     "output_type": "stream",
     "text": [
      "\n",
      "integrale de f(x) = sin(x) sur [0,π]] =  (2.0, 2.220446049250313e-14)\n",
      "\n",
      "integrale de g(x) = e**(-x²) sur [0,7] =  (0.8862269254527579, 7.345219412941623e-10)\n",
      "\n",
      "Méthode des trapèzes: \n",
      "trapeze(N=10) avec f(x) = sin(x) =  1.9349832615413176\n",
      "trapeze(N=100) avec f(x) = sin(x) =  1.9993421048376265\n",
      "trapeze(N=1000) avec f(x) = sin(x) =  1.9999934202715803\n",
      "trapeze(N=10) avec g(x) = e**(-x²)  =  0.8862269286222806\n",
      "trapeze(N=100) avec g(x) = e**(-x²)  =  0.8862269254527579\n",
      "trapeze(N=1000) avec g(x) = e**(-x²)  =  0.8862269254527573\n",
      "\n",
      "Méthode de Simpson: \n",
      "simpson(N=10) avec f(x) = sin(x) =  1.9510631347098464\n",
      "simpson(N=100) avec f(x) = sin(x) =  1.9995065610420366\n",
      "simpson(N=1000) avec f(x) = sin(x) =  1.9999950652019263\n",
      "simpson(N=10) avec g(x) = e**(-x²)  =  0.8862269243962505\n",
      "simpson(N=100) avec g(x) = e**(-x²)  =  0.8862269254527584\n",
      "simpson(N=1000) avec g(x) = e**(-x²)  =  0.8862269254527579\n"
     ]
    }
   ],
   "source": [
    "integ = integrate.quad(f, a, b)\n",
    "print('\\nintegrale de f(x) = sin(x) sur [0,π]] = ',integ)\n",
    "integ = integrate.quad(g, 0, 7)\n",
    "print('\\nintegrale de g(x) = e**(-x²) sur [0,7] = ',integ)\n",
    "\n",
    "print(\"\\nMéthode des trapèzes: \")\n",
    "print('trapeze(N=10) avec f(x) = sin(x) = ',trapeze(f,a,b,10))\n",
    "print('trapeze(N=100) avec f(x) = sin(x) = ',trapeze(f,a,b,100))\n",
    "print('trapeze(N=1000) avec f(x) = sin(x) = ',trapeze(f,a,b,1000))\n",
    "print('trapeze(N=10) avec g(x) = e**(-x²)  = ',trapeze(g,0,7,10))\n",
    "print('trapeze(N=100) avec g(x) = e**(-x²)  = ',trapeze(g,0,7,100))\n",
    "print('trapeze(N=1000) avec g(x) = e**(-x²)  = ',trapeze(g,0,7,1000))\n",
    "\n",
    "\n",
    "print(\"\\nMéthode de Simpson: \")\n",
    "print('simpson(N=10) avec f(x) = sin(x) = ',simpson(f, a, b, 10 ))\n",
    "print('simpson(N=100) avec f(x) = sin(x) = ',simpson(f, a, b, 100 ))\n",
    "print('simpson(N=1000) avec f(x) = sin(x) = ',simpson(f, a, b, 1000 ))\n",
    "print('simpson(N=10) avec g(x) = e**(-x²)  = ',simpson(g, 0, 7, 10 ))\n",
    "print('simpson(N=100) avec g(x) = e**(-x²)  = ',simpson(g, 0, 7, 100 ))\n",
    "print('simpson(N=1000) avec g(x) = e**(-x²)  = ',simpson(g, 0, 7, 1000 ))\n"
   ]
  },
  {
   "cell_type": "markdown",
   "metadata": {},
   "source": [
    "La méthode de Simpson semble plus précis que celle des trapèzes. "
   ]
  }
 ],
 "metadata": {
  "kernelspec": {
   "display_name": "Python 3",
   "language": "python",
   "name": "python3"
  },
  "language_info": {
   "codemirror_mode": {
    "name": "ipython",
    "version": 3
   },
   "file_extension": ".py",
   "mimetype": "text/x-python",
   "name": "python",
   "nbconvert_exporter": "python",
   "pygments_lexer": "ipython3",
   "version": "3.8.3"
  }
 },
 "nbformat": 4,
 "nbformat_minor": 2
}

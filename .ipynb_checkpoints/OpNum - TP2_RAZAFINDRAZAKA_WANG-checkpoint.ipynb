{
 "cells": [
  {
   "cell_type": "markdown",
   "metadata": {},
   "source": [
    "# <center> TP N°2 </center>\n",
    "### <center> Résolution des systèmes linéaires (Méthodes Itératives)\n",
    "</center>\n",
    "<div>\n",
    "    <center> RAZAFINDRAZAKA Henintsoa </center>\n",
    "    <center> Wang James </center>\n",
    "    <center> ____________</center>\n",
    "    <center> ING5 BDA GR02 </center>\n",
    "    <center> 25/10/2020 </center>\n",
    "</div>"
   ]
  },
  {
   "cell_type": "markdown",
   "metadata": {},
   "source": [
    "## 1. Enoncé"
   ]
  },
  {
   "cell_type": "markdown",
   "metadata": {},
   "source": [
    "On déﬁnit la matrice $ A \\in M_{n,n} $ et le vecteur $ b \\in M_{n,1} $ tels que\n",
    "\n",
    "\n",
    "$$\n",
    "\\mathbf{A}\n",
    "=\n",
    "\\begin{bmatrix}\n",
    "3 & 1 & 0 & \\cdots & \\cdots & \\cdots & 0 \n",
    "\\\\ \n",
    "1 & 3 & 1 & 0 & \\cdots & \\cdots & 0 \n",
    "\\\\\n",
    "0 & 1 & 3 & 1 & 0 & \\cdots & \\vdots \n",
    "\\\\\n",
    "\\vdots & \\ddots & \\ddots & \\ddots & \\ddots & \\ddots & \\vdots \n",
    "\\\\\n",
    "\\vdots & \\ddots & \\ddots & \\ddots & \\ddots & \\ddots & \\vdots \n",
    "\\\\\n",
    "0 & \\cdots & \\cdots & 0 & 1 & 3 & 1 \n",
    "\\\\\n",
    "0 & \\cdots & \\cdots & \\cdots & 0 & 1 & 3\n",
    "\\end{bmatrix}\n",
    "$$\n",
    "\n",
    "$$\n",
    "\\mathbf{B}\n",
    "=\n",
    "\\begin{bmatrix}\n",
    "1 \\\\ \\vdots \\\\ \\vdots \\\\ \\vdots \\\\ 1\n",
    "\\end{bmatrix}\n",
    "$$\n"
   ]
  },
  {
   "cell_type": "markdown",
   "metadata": {},
   "source": [
    "1. Montrer que la méthode de Gauss-Seidel pour résoudre le système $Ax = b$ va converger. \n",
    "\n",
    "\n",
    "2. On choisit $n = 10$. Construire la matrice $A$ (on pourra utiliser la commande diag) et le vecteur $b$. Déterminer la solution de $Ax = b$ par la méthode de Cholesky, puis par celle de Gauss-Seidel.\n"
   ]
  },
  {
   "cell_type": "markdown",
   "metadata": {},
   "source": [
    "## 2. Application"
   ]
  },
  {
   "cell_type": "markdown",
   "metadata": {},
   "source": [
    "### 1. Montrer que la méthode de Gauss-Seidel pour résoudre le système $Ax = b$ va converger. "
   ]
  },
  {
   "cell_type": "markdown",
   "metadata": {},
   "source": [
    "Soit A = $a_{ij}$ avec $i,j \\in \\{ 0, 1, ..., n \\}$\n",
    "\n",
    "Pour tout $i$ appartenant à $[[1;n]]$, on a : \n",
    "* $|a_{ii}| = 3 $ \n",
    "* $\\sum \\limits_{j=1,j \\neq i}^{n}|a_{ij}| = 1$ pour $i \\in \\{ 1, n \\} $\n",
    "* $\\sum \\limits_{j=1,j \\neq i}^{n}|a_{ij}| = 1 + 1 = 2$ pour $i \\in [[2, n-1 ]] $\n",
    "\n",
    "\n",
    "Donc pour tout $i$ appartenant à $[[1;n]]$, on a :\n",
    "\n",
    "<center> $|a_{ii}| \\gt \\sum \\limits_{j=1,j \\neq i}^{n}|a_{ij}| $ </center>\n",
    "\n",
    "On peut alors affirmer que A est à diagonale dominante, ce qui est par ailleurs une condition suffisante pour garantir la convergence de la méthode de Gauss-Seidel."
   ]
  },
  {
   "cell_type": "markdown",
   "metadata": {},
   "source": [
    "### 2. On choisit $n = 10$. Construire la matrice $A$ (on pourra utiliser la commande diag) et le vecteur $b$.\n",
    "### Déterminer la solution de $Ax = b$ par la méthode de Cholesky, puis par celle de Gauss-Seidel.\n"
   ]
  },
  {
   "cell_type": "code",
   "execution_count": 1,
   "metadata": {},
   "outputs": [
    {
     "name": "stdout",
     "output_type": "stream",
     "text": [
      "A = \n",
      " [[3. 1. 0. 0. 0. 0. 0. 0. 0. 0.]\n",
      " [1. 3. 1. 0. 0. 0. 0. 0. 0. 0.]\n",
      " [0. 1. 3. 1. 0. 0. 0. 0. 0. 0.]\n",
      " [0. 0. 1. 3. 1. 0. 0. 0. 0. 0.]\n",
      " [0. 0. 0. 1. 3. 1. 0. 0. 0. 0.]\n",
      " [0. 0. 0. 0. 1. 3. 1. 0. 0. 0.]\n",
      " [0. 0. 0. 0. 0. 1. 3. 1. 0. 0.]\n",
      " [0. 0. 0. 0. 0. 0. 1. 3. 1. 0.]\n",
      " [0. 0. 0. 0. 0. 0. 0. 1. 3. 1.]\n",
      " [0. 0. 0. 0. 0. 0. 0. 0. 1. 3.]]\n",
      "\n",
      "|A|=  17710.999999999993\n",
      "\n",
      "b = \n",
      " [[1.]\n",
      " [1.]\n",
      " [1.]\n",
      " [1.]\n",
      " [1.]\n",
      " [1.]\n",
      " [1.]\n",
      " [1.]\n",
      " [1.]\n",
      " [1.]]\n"
     ]
    }
   ],
   "source": [
    "import numpy as np\n",
    "\n",
    "n = 10\n",
    "A = 3 * np.eye(n) \n",
    "for i in range(n-1):\n",
    "    A[i][i+1] = 1\n",
    "    A[i+1][i] = 1\n",
    "\n",
    "print('A = \\n',A)\n",
    "print('\\n|A|= ', np.linalg.det(A))\n",
    "\n",
    "b = np.ones((n,1))\n",
    "print('\\nb = \\n',b)"
   ]
  },
  {
   "cell_type": "markdown",
   "metadata": {},
   "source": [
    "#### a) Méthode de Cholesky\n",
    "\n",
    "> Soit A une matrice Symétrique définie positive.\n",
    "\n",
    "> Alors il existe une unique matrice C triangulaire inférieure dont les coefficients de la diagonale principale sont positifs telle que:$$ A = C.C^{t}$$"
   ]
  },
  {
   "cell_type": "code",
   "execution_count": 2,
   "metadata": {},
   "outputs": [],
   "source": [
    "def cholesky(A):\n",
    "    C = np.zeros((n,n))\n",
    "    C[0][0] = np.sqrt(A[0][0])\n",
    "\n",
    "    for i in range(1, n):\n",
    "        C[i][0] = A[i][0] / C[0][0]\n",
    "\n",
    "    for j in range(1, n):\n",
    "        s0 = 0 \n",
    "        for k in range(0, j):\n",
    "            s0 += C[j][k]**2\n",
    "        C[j][j] = np.sqrt(A[j][j] - s0)\n",
    "        for i in range (j, n):\n",
    "            s1 = 0\n",
    "            for k in range(0, j):\n",
    "                s1 += C[i][k] * C[j][k]\n",
    "            C[i][j] = (1 / C[j][j]) * ( A[i][j] - s1) \n",
    "    return C"
   ]
  },
  {
   "cell_type": "code",
   "execution_count": 3,
   "metadata": {},
   "outputs": [
    {
     "name": "stdout",
     "output_type": "stream",
     "text": [
      "C =\n",
      " [[1.7321 0.     0.     0.     0.     0.     0.     0.     0.     0.    ]\n",
      " [0.5774 1.633  0.     0.     0.     0.     0.     0.     0.     0.    ]\n",
      " [0.     0.6124 1.6202 0.     0.     0.     0.     0.     0.     0.    ]\n",
      " [0.     0.     0.6172 1.6183 0.     0.     0.     0.     0.     0.    ]\n",
      " [0.     0.     0.     0.6179 1.6181 0.     0.     0.     0.     0.    ]\n",
      " [0.     0.     0.     0.     0.618  1.618  0.     0.     0.     0.    ]\n",
      " [0.     0.     0.     0.     0.     0.618  1.618  0.     0.     0.    ]\n",
      " [0.     0.     0.     0.     0.     0.     0.618  1.618  0.     0.    ]\n",
      " [0.     0.     0.     0.     0.     0.     0.     0.618  1.618  0.    ]\n",
      " [0.     0.     0.     0.     0.     0.     0.     0.     0.618  1.618 ]]\n"
     ]
    }
   ],
   "source": [
    "C = cholesky(A)\n",
    "print('C =\\n',np.round(C, 4))"
   ]
  },
  {
   "cell_type": "code",
   "execution_count": 4,
   "metadata": {},
   "outputs": [],
   "source": [
    "def trianginf(T,b):\n",
    "    n = len(b)\n",
    "    x = np.zeros(b.shape)\n",
    "\n",
    "    x[0] = b[0] / T[0][0]\n",
    "    for i in range(1,n):\n",
    "        sigma = 0\n",
    "        for j in range(0, i):\n",
    "            sigma += T[i][j] * x[j]\n",
    "        x[i] = (1/T[i][i]) * ( b[i] - sigma )\n",
    "    return x\n",
    "\n",
    "def triangsup(T,b):\n",
    "    n = len(b)\n",
    "    x = np.zeros(b.shape)\n",
    "\n",
    "    x[n-1] = b[n-1] / T[n-1][n-1]\n",
    "    for i in range(n-2,-1,-1):\n",
    "        sigma = 0\n",
    "        for j in range(i+1, n):\n",
    "            sigma += T[i][j] * x[j]\n",
    "        x[i] = (1/T[i][i]) * ( b[i] - sigma )\n",
    "    return x"
   ]
  },
  {
   "cell_type": "code",
   "execution_count": 5,
   "metadata": {},
   "outputs": [
    {
     "name": "stdout",
     "output_type": "stream",
     "text": [
      "\n",
      "x= \n",
      " [[0.27638191]\n",
      " [0.17085427]\n",
      " [0.21105528]\n",
      " [0.1959799 ]\n",
      " [0.20100503]\n",
      " [0.20100503]\n",
      " [0.1959799 ]\n",
      " [0.21105528]\n",
      " [0.17085427]\n",
      " [0.27638191]]\n",
      "\n",
      "b = \n",
      " [[1.]\n",
      " [1.]\n",
      " [1.]\n",
      " [1.]\n",
      " [1.]\n",
      " [1.]\n",
      " [1.]\n",
      " [1.]\n",
      " [1.]\n",
      " [1.]]\n",
      "\n",
      "A.dot(x) =\n",
      "  [[1.]\n",
      " [1.]\n",
      " [1.]\n",
      " [1.]\n",
      " [1.]\n",
      " [1.]\n",
      " [1.]\n",
      " [1.]\n",
      " [1.]\n",
      " [1.]]\n"
     ]
    }
   ],
   "source": [
    "y = trianginf(C,b) \n",
    "x = triangsup(C.T,y)\n",
    "print(\"\\nx= \\n\", x)\n",
    "\n",
    "print(\"\\nb = \\n\", b)\n",
    "print(\"\\nA.dot(x) =\\n \", A.dot(x))"
   ]
  },
  {
   "cell_type": "markdown",
   "metadata": {},
   "source": [
    "#### b) Méthode de Gauss-Seidel"
   ]
  },
  {
   "cell_type": "code",
   "execution_count": 6,
   "metadata": {},
   "outputs": [
    {
     "name": "stdout",
     "output_type": "stream",
     "text": [
      "\n",
      "A = \n",
      " [[3. 1. 0. 0. 0. 0. 0. 0. 0. 0.]\n",
      " [1. 3. 1. 0. 0. 0. 0. 0. 0. 0.]\n",
      " [0. 1. 3. 1. 0. 0. 0. 0. 0. 0.]\n",
      " [0. 0. 1. 3. 1. 0. 0. 0. 0. 0.]\n",
      " [0. 0. 0. 1. 3. 1. 0. 0. 0. 0.]\n",
      " [0. 0. 0. 0. 1. 3. 1. 0. 0. 0.]\n",
      " [0. 0. 0. 0. 0. 1. 3. 1. 0. 0.]\n",
      " [0. 0. 0. 0. 0. 0. 1. 3. 1. 0.]\n",
      " [0. 0. 0. 0. 0. 0. 0. 1. 3. 1.]\n",
      " [0. 0. 0. 0. 0. 0. 0. 0. 1. 3.]]\n",
      "\n",
      "D = \n",
      " [[3. 0. 0. 0. 0. 0. 0. 0. 0. 0.]\n",
      " [0. 3. 0. 0. 0. 0. 0. 0. 0. 0.]\n",
      " [0. 0. 3. 0. 0. 0. 0. 0. 0. 0.]\n",
      " [0. 0. 0. 3. 0. 0. 0. 0. 0. 0.]\n",
      " [0. 0. 0. 0. 3. 0. 0. 0. 0. 0.]\n",
      " [0. 0. 0. 0. 0. 3. 0. 0. 0. 0.]\n",
      " [0. 0. 0. 0. 0. 0. 3. 0. 0. 0.]\n",
      " [0. 0. 0. 0. 0. 0. 0. 3. 0. 0.]\n",
      " [0. 0. 0. 0. 0. 0. 0. 0. 3. 0.]\n",
      " [0. 0. 0. 0. 0. 0. 0. 0. 0. 3.]]\n",
      "\n",
      "M = \n",
      " [[ 0.  0.  0.  0.  0.  0.  0.  0.  0.  0.]\n",
      " [-1.  0.  0.  0.  0.  0.  0.  0.  0.  0.]\n",
      " [-0. -1.  0.  0.  0.  0.  0.  0.  0.  0.]\n",
      " [-0. -0. -1.  0.  0.  0.  0.  0.  0.  0.]\n",
      " [-0. -0. -0. -1.  0.  0.  0.  0.  0.  0.]\n",
      " [-0. -0. -0. -0. -1.  0.  0.  0.  0.  0.]\n",
      " [-0. -0. -0. -0. -0. -1.  0.  0.  0.  0.]\n",
      " [-0. -0. -0. -0. -0. -0. -1.  0.  0.  0.]\n",
      " [-0. -0. -0. -0. -0. -0. -0. -1.  0.  0.]\n",
      " [-0. -0. -0. -0. -0. -0. -0. -0. -1.  0.]]\n",
      "\n",
      "N = \n",
      " [[ 0. -1. -0. -0. -0. -0. -0. -0. -0. -0.]\n",
      " [ 0.  0. -1. -0. -0. -0. -0. -0. -0. -0.]\n",
      " [ 0.  0.  0. -1. -0. -0. -0. -0. -0. -0.]\n",
      " [ 0.  0.  0.  0. -1. -0. -0. -0. -0. -0.]\n",
      " [ 0.  0.  0.  0.  0. -1. -0. -0. -0. -0.]\n",
      " [ 0.  0.  0.  0.  0.  0. -1. -0. -0. -0.]\n",
      " [ 0.  0.  0.  0.  0.  0.  0. -1. -0. -0.]\n",
      " [ 0.  0.  0.  0.  0.  0.  0.  0. -1. -0.]\n",
      " [ 0.  0.  0.  0.  0.  0.  0.  0.  0. -1.]\n",
      " [ 0.  0.  0.  0.  0.  0.  0.  0.  0.  0.]]\n"
     ]
    }
   ],
   "source": [
    "print(\"\\nA = \\n\", A)\n",
    "M , N, D = np.zeros((n,n)), np.zeros((n,n)), np.zeros((n,n))\n",
    "\n",
    "for i in range(n):\n",
    "    for j in range(n):\n",
    "        if i > j:\n",
    "            M[i][j] = - A[i][j]\n",
    "        elif i < j:\n",
    "            N[i][j] = - A[i][j]\n",
    "        elif i == j:\n",
    "            D[i][j] = A[i][j]\n",
    "    \n",
    "print(\"\\nD = \\n\", D)\n",
    "print(\"\\nM = \\n\", M)\n",
    "print(\"\\nN = \\n\", N)"
   ]
  },
  {
   "cell_type": "code",
   "execution_count": 7,
   "metadata": {},
   "outputs": [
    {
     "name": "stdout",
     "output_type": "stream",
     "text": [
      "nb of epochs :  1\n",
      "nb of epochs :  2\n",
      "nb of epochs :  3\n",
      "Gauss-Seidel a convergé avec une précision de  0.001\n",
      "\n",
      "x : \n",
      " [[0.27526292]\n",
      " [0.17024844]\n",
      " [0.21023218]\n",
      " [0.19504141]\n",
      " [0.20079934]\n",
      " [0.19862224]\n",
      " [0.19944327]\n",
      " [0.20839378]\n",
      " [0.17224378]\n",
      " [0.27591874]]\n"
     ]
    }
   ],
   "source": [
    "NbIterationMax = 9\n",
    "epsilon = 0.001\n",
    "X_old = np.zeros((n,1))\n",
    "X_new = np.zeros((n,1))\n",
    "epochs = 0\n",
    "\n",
    "for i in range(n):\n",
    "    sn, sm = 0, 0\n",
    "    for j in range(i+1, n):\n",
    "        sn += N[i][j] * X_old[j]\n",
    "    for j in range(0, i):\n",
    "        sm += M[i][j] * X_new[j]\n",
    "    X_new[i] = (1/D[i][i]) * (sn + sm + b[i])\n",
    "\n",
    "test_darret = np.linalg.norm(X_new - X_old)**2 / np.linalg.norm(X_new)**2\n",
    "converged = True\n",
    "while test_darret >= epsilon:\n",
    "    \n",
    "    if epochs == NbIterationMax:\n",
    "        converged = False\n",
    "        print(\"Gauss-Seidel n’a pas convergé pour une précision de \", epsilon)\n",
    "        break\n",
    "        \n",
    "    epochs += 1\n",
    "    X_old = X_new.copy()\n",
    "    \n",
    "    for i in range(n):\n",
    "        sn, sm = 0, 0\n",
    "        for j in range(i+1, n):\n",
    "            sn += N[i][j] * X_old[j]\n",
    "        for j in range(0, i):\n",
    "            sm += M[i][j] * X_new[j]\n",
    "        X_new[i] = (1/D[i][i]) * (sn + sm + b[i])\n",
    "\n",
    "    test_darret = np.linalg.norm(X_new - X_old)**2 / np.linalg.norm(X_new)**2\n",
    "    print(\"nb of epochs : \", epochs)\n",
    "\n",
    "if converged:\n",
    "    print(\"Gauss-Seidel a convergé avec une précision de \", epsilon)\n",
    "    print(\"\\nx : \\n\", X_new)"
   ]
  },
  {
   "cell_type": "markdown",
   "metadata": {},
   "source": [
    "> Gauss Seidel converge au bout de 3 itérations pour une précision de 0,001. \n",
    " "
   ]
  },
  {
   "cell_type": "code",
   "execution_count": 8,
   "metadata": {},
   "outputs": [],
   "source": [
    "def gausseseidel(A, b, NbIterationMax, e, x0):\n",
    "    n = A.shape[0]\n",
    "    M , N, D = np.zeros((n,n)), np.zeros((n,n)), np.zeros((n,n))\n",
    "\n",
    "    for i in range(n):\n",
    "        for j in range(n):\n",
    "            if i > j:\n",
    "                M[i][j] = - A[i][j]\n",
    "            elif i < j:\n",
    "                N[i][j] = - A[i][j]\n",
    "            elif i == j:\n",
    "                D[i][j] = A[i][j]\n",
    "                \n",
    "    X_old = x0\n",
    "    X_new = np.zeros((n,1))\n",
    "    epochs = 0\n",
    "\n",
    "    for i in range(n):\n",
    "        sn, sm = 0, 0\n",
    "        for j in range(i+1, n):\n",
    "            sn += N[i][j] * X_old[j]\n",
    "        for j in range(0, i):\n",
    "            sm += M[i][j] * X_new[j]\n",
    "        X_new[i] = (1/D[i][i]) * (sn + sm + b[i])\n",
    "\n",
    "    test_darret = np.linalg.norm(X_new - X_old)**2 / np.linalg.norm(X_new)**2\n",
    "    converged = True\n",
    "    while test_darret >= e:\n",
    "\n",
    "        if epochs == NbIterationMax:\n",
    "            converged = False\n",
    "            print(\"Gauss-Seidel n’a pas convergé pour une précision de \", e)\n",
    "            break\n",
    "\n",
    "        epochs += 1\n",
    "        X_old = X_new.copy()\n",
    "\n",
    "        for i in range(n):\n",
    "            sn, sm = 0, 0\n",
    "            for j in range(i+1, n):\n",
    "                sn += N[i][j] * X_old[j]\n",
    "            for j in range(0, i):\n",
    "                sm += M[i][j] * X_new[j]\n",
    "            X_new[i] = (1/D[i][i]) * (sn + sm + b[i])\n",
    "\n",
    "        test_darret = np.linalg.norm(X_new - X_old)**2 / np.linalg.norm(X_new)**2\n",
    "        print(\"nb of epochs : \", epochs)\n",
    "\n",
    "    if converged:\n",
    "        print(\"Gauss-Seidel a convergé avec une précision de \", e)\n",
    "        print(\"\\nx : \\n\", X_new)\n",
    "    \n",
    "    return X_new\n",
    "\n"
   ]
  },
  {
   "cell_type": "code",
   "execution_count": 9,
   "metadata": {},
   "outputs": [
    {
     "name": "stdout",
     "output_type": "stream",
     "text": [
      "nb of epochs :  1\n",
      "nb of epochs :  2\n",
      "nb of epochs :  3\n",
      "nb of epochs :  4\n",
      "nb of epochs :  5\n",
      "Gauss-Seidel a convergé avec une précision de  0.0001\n",
      "\n",
      "x : \n",
      " [[0.27843364]\n",
      " [0.16911573]\n",
      " [0.21150116]\n",
      " [0.19686788]\n",
      " [0.1993995 ]\n",
      " [0.20262798]\n",
      " [0.19474925]\n",
      " [0.21180441]\n",
      " [0.17049159]\n",
      " [0.2765028 ]]\n"
     ]
    }
   ],
   "source": [
    "x0 = np.random.rand(n)\n",
    "e = 0.0001\n",
    "NbIterationMax = 7\n",
    "x_gauss = gausseseidel(A, b, NbIterationMax, e, x0)"
   ]
  },
  {
   "cell_type": "code",
   "execution_count": 10,
   "metadata": {},
   "outputs": [
    {
     "data": {
      "text/plain": [
       "array([[1.00441664],\n",
       "       [0.99728199],\n",
       "       [1.00048709],\n",
       "       [1.0015043 ],\n",
       "       [0.99769437],\n",
       "       [1.0020327 ],\n",
       "       [0.99868013],\n",
       "       [1.00065406],\n",
       "       [0.99978198],\n",
       "       [1.        ]])"
      ]
     },
     "execution_count": 10,
     "metadata": {},
     "output_type": "execute_result"
    }
   ],
   "source": [
    "A.dot(x_gauss)"
   ]
  },
  {
   "cell_type": "code",
   "execution_count": null,
   "metadata": {},
   "outputs": [],
   "source": []
  }
 ],
 "metadata": {
  "kernelspec": {
   "display_name": "Python 3",
   "language": "python",
   "name": "python3"
  },
  "language_info": {
   "codemirror_mode": {
    "name": "ipython",
    "version": 3
   },
   "file_extension": ".py",
   "mimetype": "text/x-python",
   "name": "python",
   "nbconvert_exporter": "python",
   "pygments_lexer": "ipython3",
   "version": "3.7.4"
  }
 },
 "nbformat": 4,
 "nbformat_minor": 2
}

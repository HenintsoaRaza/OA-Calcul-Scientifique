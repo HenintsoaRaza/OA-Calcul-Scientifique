{
 "cells": [
  {
   "cell_type": "markdown",
   "metadata": {},
   "source": [
    "# <center> TP N°1 </center>\n",
    "### <center> Methodes Directes pour la Résolution des Systèmes Linéaires Ax = b </center>\n"
   ]
  },
  {
   "cell_type": "markdown",
   "metadata": {},
   "source": [
    "1. Ouvrir un fichier qu’on nomme `trianinf.m`. Dans ce fichier, on va créer la fonction Matlab qui à partir d’une matrice inférieure T et d’un second membre b, résout le système Tx = b. La syntaxe de début du programme est la suivante :\n",
    "\n",
    "```\n",
    "function x=trianginf(T,b)\n",
    "% T est la matrice triangulaire inférieure et b le vecteur 2nd membre.\n",
    "n=length(b);\n",
    "x(1)=\n",
    "for i=2:n\n",
    "x(i)=...\n",
    "end\n",
    "```"
   ]
  },
  {
   "cell_type": "code",
   "execution_count": 31,
   "metadata": {},
   "outputs": [
    {
     "name": "stdout",
     "output_type": "stream",
     "text": [
      "[[1 0 0 0]\n",
      " [3 4 0 0]\n",
      " [3 2 5 0]\n",
      " [7 7 6 5]]\n",
      "\n",
      "|T|=  99.99999999999996\n"
     ]
    }
   ],
   "source": [
    "import numpy as np\n",
    "\n",
    "n = 4\n",
    "T = np.tril(np.random.randint(10,size=(n,n)) )\n",
    "\n",
    "print(T)\n",
    "print('\\n|T|= ', np.linalg.det(T))"
   ]
  },
  {
   "cell_type": "code",
   "execution_count": 32,
   "metadata": {},
   "outputs": [
    {
     "data": {
      "text/plain": [
       "array([9, 6, 5, 6])"
      ]
     },
     "execution_count": 32,
     "metadata": {},
     "output_type": "execute_result"
    }
   ],
   "source": [
    "b = np.random.randint(10, size=(n,))\n",
    "b"
   ]
  },
  {
   "cell_type": "code",
   "execution_count": 56,
   "metadata": {},
   "outputs": [
    {
     "data": {
      "text/plain": [
       "array([9., 6., 5., 6.])"
      ]
     },
     "execution_count": 56,
     "metadata": {},
     "output_type": "execute_result"
    }
   ],
   "source": [
    "# Debut de la fonction trianginf(T,b):\n",
    "def trianginf(T,b):\n",
    "    n = len(b)\n",
    "    x = np.zeros(b.shape)\n",
    "    x\n",
    "\n",
    "    x[0] = b[0] / T[0][0]\n",
    "    for i in range(1,n):\n",
    "        sigma = 0\n",
    "        for j in range(0, i):\n",
    "            sigma += T[i][j] * x[j]\n",
    "        x[i] = (1/T[i][i]) * ( b[i] - sigma )\n",
    "    return x\n",
    "\n",
    "x_test = trianginf(T,b)\n",
    "T.dot(x_test)"
   ]
  },
  {
   "cell_type": "markdown",
   "metadata": {},
   "source": [
    "2. Ouvrir un fichier qu’on nomme `triansup.m`. Dans ce fichier, on va créer la fonction Matlab qui à partir d’une matrice supérieure T et d’un second membre b, résout le système T x = b. La syntaxe de début du programme est la suivante :\n",
    "\n",
    "```\n",
    "function x=triangsup(T,b)\n",
    "% T est la matrice triangulaire supérieure et b le vecteur 2nd membre.\n",
    "n=length(b);\n",
    "x(n)=\n",
    "for i=n-1:-1:1 % boucle incrément négatif\n",
    "x(i)=...\n",
    "end\n",
    "```"
   ]
  },
  {
   "cell_type": "code",
   "execution_count": 221,
   "metadata": {},
   "outputs": [
    {
     "name": "stdout",
     "output_type": "stream",
     "text": [
      "[[2 7 1 8]\n",
      " [0 9 3 0]\n",
      " [0 0 7 2]\n",
      " [0 0 0 4]]\n",
      "\n",
      "|T|=  504.00000000000006\n"
     ]
    }
   ],
   "source": [
    "n = 4\n",
    "T = np.triu(np.random.randint(10,size=(n,n)) )\n",
    "\n",
    "print(T)\n",
    "print('\\n|T|= ', np.linalg.det(T))"
   ]
  },
  {
   "cell_type": "code",
   "execution_count": 222,
   "metadata": {},
   "outputs": [
    {
     "data": {
      "text/plain": [
       "array([1, 6, 2, 3])"
      ]
     },
     "execution_count": 222,
     "metadata": {},
     "output_type": "execute_result"
    }
   ],
   "source": [
    "b = np.random.randint(10, size=(n,))\n",
    "b"
   ]
  },
  {
   "cell_type": "code",
   "execution_count": 223,
   "metadata": {},
   "outputs": [
    {
     "name": "stdout",
     "output_type": "stream",
     "text": [
      "16.921184633518326\n",
      "[1 6 2 3]\n",
      "[1. 6. 2. 3.]\n"
     ]
    }
   ],
   "source": [
    "# Debut de la fonction triansup(T,b):\n",
    "def triansup(T,b):\n",
    "    n = len(b)\n",
    "    x = np.zeros(b.shape)\n",
    "    x\n",
    "\n",
    "    x[n-1] = b[n-1] / T[n-1][n-1]\n",
    "    for i in range(n-2,-1,-1):\n",
    "        sigma = 0\n",
    "        for j in range(i+1, n):\n",
    "            sigma += T[i][j] * x[j]\n",
    "        x[i] = (1/T[i][i]) * ( b[i] - sigma )\n",
    "    return x\n",
    "\n",
    "x = triansup(T,b)\n",
    "print(np.linalg.cond(T))\n",
    "print(b)\n",
    "print(T.dot(x))"
   ]
  },
  {
   "cell_type": "markdown",
   "metadata": {},
   "source": [
    "3. Ouvrir un fichier qu’on nomme `gauss.m`. Dans ce fichier, on va créer la fonction Matlab qui à\n",
    "partir d’une matrice A effectue de Gauss et résout le système Ax = b. La syntaxe de début du programme est la suivante :\n",
    "\n",
    "```\n",
    "function x=gauss(A,b)\n",
    "% A est la matrice principale et b le vecteur second membre.\n",
    "n=length(b);\n",
    ".....\n",
    "```"
   ]
  },
  {
   "cell_type": "code",
   "execution_count": 264,
   "metadata": {},
   "outputs": [
    {
     "name": "stdout",
     "output_type": "stream",
     "text": [
      "[[0.69761729 0.82334883 0.86939255 0.15240072]\n",
      " [0.33680027 0.73912496 0.44390524 0.11172477]\n",
      " [0.05071401 0.40180187 0.20348239 0.41928966]\n",
      " [0.71194361 0.17552315 0.91224216 0.61845634]]\n",
      "\n",
      "|T|=  0.008508198414310423\n"
     ]
    }
   ],
   "source": [
    "A = np.random.rand(n,n)\n",
    "A_init = A\n",
    "print(A)\n",
    "print('\\n|T|= ', np.linalg.det(A))\n"
   ]
  },
  {
   "cell_type": "code",
   "execution_count": 265,
   "metadata": {},
   "outputs": [
    {
     "data": {
      "text/plain": [
       "array([3, 2, 6, 4])"
      ]
     },
     "execution_count": 265,
     "metadata": {},
     "output_type": "execute_result"
    }
   ],
   "source": [
    "b_init = np.random.randint(10, size=(n,))\n",
    "b_init"
   ]
  },
  {
   "cell_type": "code",
   "execution_count": 266,
   "metadata": {},
   "outputs": [
    {
     "name": "stdout",
     "output_type": "stream",
     "text": [
      "\n",
      "A_init*x =  [ 3.  0.  5. -3.]\n",
      "\n",
      "b_init =  [ 3  0  5 -3]\n"
     ]
    }
   ],
   "source": [
    "# triangulation de A\n",
    "A_init = A\n",
    "b = b_init\n",
    "def gauss(A, b):\n",
    "    m = np.zeros(A.shape)\n",
    "    for k in range(0, n-1):\n",
    "        for i in range(k+1, n):\n",
    "            m[i][k] = A[i][k] / A[k][k]\n",
    "            for j in range(k, n):\n",
    "                A[i][j] = A[i][j] - m[i][k]*A[k][j]\n",
    "            b[i] = b[i] - m[i][k] * b[k]\n",
    "    \n",
    "    x = triansup(A,b)\n",
    "    return x\n",
    "\n",
    "x = gauss(A,b)\n",
    "\n",
    "print(\"\\nA_init*x = \",A_init.dot(x))\n",
    "print(\"\\nb_init = \",b_init)\n"
   ]
  },
  {
   "cell_type": "markdown",
   "metadata": {},
   "source": [
    "4. Tester la méthode sur un exemple et comparer votre résultat avec celui obtenu avec la commande A/b et celui obtenu avec la commande inv(A)*b. Que se passe-t-il quand on augmente la taille de la matrice (n = 10, 100, 1000, ...)."
   ]
  },
  {
   "cell_type": "code",
   "execution_count": 284,
   "metadata": {},
   "outputs": [
    {
     "name": "stdout",
     "output_type": "stream",
     "text": [
      "\n",
      "n =  10\n",
      "\n",
      "===========My gauss ============\n",
      " [12.  3. -2.  3.  7. -2. -4. -6.  4.  1.]\n",
      "--- 0.0010008811950683594 seconds ---\n",
      "\n",
      "=========== A^(-1).b ===========\n",
      " [12.  3. -2.  3.  7. -2. -4. -6.  4.  1.]\n",
      "--- 0.0 seconds ---\n",
      "\n",
      "n =  100\n",
      "\n",
      "===========My gauss ============\n",
      " [  7.  -8.  -7.  -3.  -4.  11.   8.   1.   4.   4.  -3.  -8.   3.   2.\n",
      "  -7.  -2.  -1.  13.  -1.  -1.  -4.   1.   1.  16.  -8.  -6. -11.   6.\n",
      "  -8.  -6.   2.   9.   1.   2.   5.  -2. -11.  -1.   0.   1.   0. -11.\n",
      "   0.   6.  -1.   6.  -2.  -4. -11.   7.   1.  14.   1.   2.  -2.  -5.\n",
      "  -6.   7.  -4.  12.  -6.   0. -11.   0.   1.  -8.   2.  10.  -6.  -1.\n",
      "   4.  -1.  14.   1.  -7.  -4.  -3.  -1.  -2.  -1.   1.   5.  -1.   2.\n",
      "   7.   9.   0.   2.   4.  -2.  -4.   7.   0.   5.  -5.  -2.   1.  -5.\n",
      "  -3.  -2.]\n",
      "--- 0.34610438346862793 seconds ---\n",
      "\n",
      "=========== A^(-1).b ===========\n",
      " [  7.  -8.  -7.  -3.  -4.  11.   8.   1.   4.   4.  -3.  -8.   3.   2.\n",
      "  -7.  -2.  -1.  13.  -1.  -1.  -4.   1.   1.  16.  -8.  -6. -11.   6.\n",
      "  -8.  -6.   2.   9.   1.   2.   5.  -2. -11.  -1.   0.   1.   0. -11.\n",
      "   0.   6.  -1.   6.  -2.  -4. -11.   7.   1.  14.   1.   2.  -2.  -5.\n",
      "  -6.   7.  -4.  12.  -6.   0. -11.   0.   1.  -8.   2.  10.  -6.  -1.\n",
      "   4.  -1.  14.   1.  -7.  -4.  -3.  -1.  -2.  -1.   1.   5.  -1.   2.\n",
      "   7.   9.   0.   2.   4.  -2.  -4.   7.   0.   5.  -5.  -2.   1.  -5.\n",
      "  -3.  -2.]\n",
      "--- 0.001965045928955078 seconds ---\n"
     ]
    }
   ],
   "source": [
    "import time\n",
    "\n",
    "myround = np.vectorize(round)\n",
    "\n",
    "n = 10\n",
    "while n <= 100 :\n",
    "\n",
    "    A_init = np.random.rand(n,n)\n",
    "    A = A_init\n",
    "\n",
    "    b_init = np.random.randint(10, size=(n,))\n",
    "    b = b_init\n",
    "    \n",
    "    print('\\nn = ', n)\n",
    "    \n",
    "    start_time = time.time()\n",
    "    \n",
    "    # Notre gauss\n",
    "    print('\\n===========My gauss ============\\n', myround(gauss(A_init,b_init)))\n",
    "    \n",
    "    print(\"--- %s seconds ---\" % (time.time() - start_time))\n",
    "    \n",
    "    start_time = time.time()\n",
    "    \n",
    "    # Calcul python A^(-1).b\n",
    "    A_inv = np.linalg.inv(A_init)\n",
    "    print('\\n=========== A^(-1).b ===========\\n',myround( A_inv.dot(b_init) ))\n",
    "    \n",
    "    print(\"--- %s seconds ---\" % (time.time() - start_time))\n",
    "    \n",
    "    n *= 10\n",
    "\n"
   ]
  },
  {
   "cell_type": "code",
   "execution_count": null,
   "metadata": {},
   "outputs": [],
   "source": []
  },
  {
   "cell_type": "markdown",
   "metadata": {},
   "source": [
    "5. Ouvrir un fichier qu’on nomme `ludecomp.m`. Dans ce fichier, on va créer la fonction Matlab qui à partir d’une matrice A effectue la factorisation de type LU sous la forme A = LU. La syntaxe de début du programme est la suivante :\n",
    "\n",
    "```\n",
    "function [L,U]=ludecomp(A)\n",
    "% A est la matrice principale.\n",
    "n=length(b);\n",
    ".....\n",
    "```"
   ]
  },
  {
   "cell_type": "code",
   "execution_count": null,
   "metadata": {},
   "outputs": [],
   "source": []
  },
  {
   "cell_type": "markdown",
   "metadata": {},
   "source": [
    "6. Ouvrir un fichier qu’on nomme lusovle.m. Dans ce fichier, on va créer la fonction Matlab qui à partir d’une matrice A et d’un vecteur b résout le système Ax = b à partir de la factorisation LU de la matrice A. La syntaxe de début du programme est la suivante:\n",
    "\n",
    "```\n",
    "function [L,U]=ludecomp(A)\n",
    "% A est la matrice principale.\n",
    "n=length(b);\n",
    ".....\n",
    "```"
   ]
  },
  {
   "cell_type": "code",
   "execution_count": null,
   "metadata": {},
   "outputs": [],
   "source": []
  },
  {
   "cell_type": "markdown",
   "metadata": {},
   "source": [
    "7. Tester la méthode sur un exemple et comparer votre résultat avec celui obtenu avec la fonction lu déja implémenter dans Matlab (help lu), la commande A/b et celui obtenu avec la commande inv(A)*b. Que se passe-t-il quand on augmente la taille de la matrice (n = 10, 100, 1000, ...).\n"
   ]
  },
  {
   "cell_type": "code",
   "execution_count": null,
   "metadata": {},
   "outputs": [],
   "source": []
  },
  {
   "cell_type": "code",
   "execution_count": null,
   "metadata": {},
   "outputs": [],
   "source": []
  }
 ],
 "metadata": {
  "kernelspec": {
   "display_name": "Python 3",
   "language": "python",
   "name": "python3"
  },
  "language_info": {
   "codemirror_mode": {
    "name": "ipython",
    "version": 3
   },
   "file_extension": ".py",
   "mimetype": "text/x-python",
   "name": "python",
   "nbconvert_exporter": "python",
   "pygments_lexer": "ipython3",
   "version": "3.7.4"
  }
 },
 "nbformat": 4,
 "nbformat_minor": 2
}

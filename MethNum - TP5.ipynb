{
 "cells": [
  {
   "cell_type": "markdown",
   "metadata": {},
   "source": [
    "# <center> TP5 / Volatilité : Méthode implicite </center>\n",
    "<div>\n",
    "    <center> RAZAFINDRAZAKA Henintsoa </center>\n",
    "    <center> Wang James </center>\n",
    "    <center> ____________</center>\n",
    "    <center> ING5 BDA GR02 </center>\n",
    "    <center> 22/12/2020 </center>\n",
    "</div>"
   ]
  },
  {
   "cell_type": "code",
   "execution_count": 1,
   "metadata": {},
   "outputs": [],
   "source": [
    "import matplotlib.pyplot as plt\n",
    "import matplotlib.cm as cm\n",
    "from mpl_toolkits import mplot3d\n",
    "import numpy as np\n",
    "import math\n",
    "import time"
   ]
  },
  {
   "cell_type": "markdown",
   "metadata": {},
   "source": [
    "### Calcul de la volatilité implicite d'un call européen par dichotomie "
   ]
  },
  {
   "cell_type": "code",
   "execution_count": 39,
   "metadata": {},
   "outputs": [],
   "source": [
    "def volatiliteCallEu(S, E, r, T, C0):\n",
    "    d1 = lambda sigma: (np.log(S/E) + (r + (sigma**2)/2) * T) / (sigma * np.sqrt(T))\n",
    "    d2 = lambda sigma: d1(sigma) - sigma * np.sqrt(T)\n",
    "    \n",
    "    Ee = E * np.exp( -r * T)\n",
    "    \n",
    "    N1 = lambda sigma: 0.5 * math.erfc(-d1(sigma) / np.sqrt(2))\n",
    "    N2 = lambda sigma: 0.5 * math.erfc(-d2(sigma) / np.sqrt(2))\n",
    "    C = lambda sigma: S * N1(sigma) - Ee * N2(sigma)\n",
    "    F = lambda sigma: C0 - C(sigma)\n",
    "    \n",
    "    a = 0.001\n",
    "    a1 = a\n",
    "    b = 10\n",
    "    b1 = b\n",
    "    d = (a+b)/2\n",
    "    i = 0\n",
    "    \n",
    "    while i < 300:\n",
    "        if F(a)*F(d)>0:\n",
    "            a = d\n",
    "        else:\n",
    "            b = d\n",
    "        d = (a+b)/2\n",
    "        i = i+1\n",
    "\n",
    "    plt.plot([a1, b1], [F(a1), F(b1)], label='S = 0')\n",
    "    \n",
    "    VOLATILITE_CALL_EU = d\n",
    "    \n",
    "    return VOLATILITE_CALL_EU"
   ]
  },
  {
   "cell_type": "code",
   "execution_count": 40,
   "metadata": {},
   "outputs": [
    {
     "name": "stdout",
     "output_type": "stream",
     "text": [
      "Volatilité d'un call européen =  9.567865883567528\n"
     ]
    },
    {
     "data": {
      "image/png": "[encoded data removed]",
      "text/plain": [
       "<Figure size 432x288 with 1 Axes>"
      ]
     },
     "metadata": {
      "needs_background": "light"
     },
     "output_type": "display_data"
    }
   ],
   "source": [
    "E = 100   # valeur du strike\n",
    "r = 0.1   # taux sans risque\n",
    "T = 3     # maturité\n",
    "S = 50    # valeur finale du sous-jacent\n",
    "C0 = 50\n",
    "\n",
    "print(\"Volatilité d'un call européen = \", volatiliteCallEu(S,E,r,T,C0) )"
   ]
  },
  {
   "cell_type": "markdown",
   "metadata": {},
   "source": [
    "### Calcul de la volatilité implicite d'un put européen par dichotomie "
   ]
  },
  {
   "cell_type": "code",
   "execution_count": 41,
   "metadata": {},
   "outputs": [],
   "source": [
    "def volatilitePutEu(S, E, r, T, C0):\n",
    "    d1 = lambda sigma: (np.log(S/E) + (r + (sigma**2)/2) * T) / (sigma * np.sqrt(T))\n",
    "    d2 = lambda sigma: d1(sigma) - sigma * np.sqrt(T)\n",
    "    \n",
    "    Ee = E * np.exp( -r * T)\n",
    "    \n",
    "    N1 = lambda sigma: 0.5 * math.erfc(d1(sigma) / np.sqrt(2))\n",
    "    N2 = lambda sigma: 0.5 * math.erfc(d2(sigma) / np.sqrt(2))\n",
    "    C = lambda sigma: Ee * ( N2(sigma) - S * N1(sigma) )\n",
    "    F = lambda sigma: C0 - C(sigma)\n",
    "    \n",
    "    a = 0.001\n",
    "    a1 = a\n",
    "    b = 10\n",
    "    b1 = b\n",
    "    d = (a+b)/2\n",
    "    i = 0\n",
    "    \n",
    "    while i < 300:\n",
    "        if F(a)*F(d)>0:\n",
    "            a = d\n",
    "        else:\n",
    "            b = d\n",
    "        d = (a+b)/2\n",
    "        i = i+1\n",
    "\n",
    "    plt.plot([a1, b1], [F(a1), F(b1)], label='S = 0')\n",
    "    \n",
    "    VOLATILITE_PUT_EU = d\n",
    "    \n",
    "    return VOLATILITE_PUT_EU"
   ]
  },
  {
   "cell_type": "code",
   "execution_count": 42,
   "metadata": {},
   "outputs": [
    {
     "name": "stdout",
     "output_type": "stream",
     "text": [
      "Volatilité d'un put européen =  2.961667372348746\n"
     ]
    },
    {
     "data": {
      "image/png": "[encoded data removed]",
      "text/plain": [
       "<Figure size 432x288 with 1 Axes>"
      ]
     },
     "metadata": {
      "needs_background": "light"
     },
     "output_type": "display_data"
    }
   ],
   "source": [
    "E = 100   # valeur du strike\n",
    "r = 0.1   # taux sans risque\n",
    "T = 3     # maturité\n",
    "S = 50    # valeur finale du sous-jacent\n",
    "C0 = 50\n",
    "\n",
    "print(\"Volatilité d'un put européen = \", volatilitePutEu(S,E,r,T,C0) )"
   ]
  },
  {
   "cell_type": "code",
   "execution_count": null,
   "metadata": {},
   "outputs": [],
   "source": []
  }
 ],
 "metadata": {
  "kernelspec": {
   "display_name": "Python 3",
   "language": "python",
   "name": "python3"
  }
 },
 "nbformat": 4,
 "nbformat_minor": 4
}

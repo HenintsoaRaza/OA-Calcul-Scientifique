{
 "cells": [
  {
   "cell_type": "markdown",
   "metadata": {},
   "source": [
    "# <center> TP N°4 </center>\n",
    "### <center> Intégration numérique (Méthode des Trapèzes et Simpson)\n",
    "\n",
    "</center>\n",
    "<div>\n",
    "    <center> RAZAFINDRAZAKA Henintsoa </center>\n",
    "    <center> Wang James </center>\n",
    "    <center> ____________</center>\n",
    "    <center> ING5 SI GR02 </center>\n",
    "    <center> 08/11/2020 </center>\n",
    "</div>"
   ]
  },
  {
   "cell_type": "markdown",
   "metadata": {},
   "source": [
    "## 1. Méthode des trapèzes"
   ]
  },
  {
   "cell_type": "markdown",
   "metadata": {},
   "source": [
    "### 1.1. Implémentation de la fonction `trapeze`"
   ]
  },
  {
   "cell_type": "code",
   "execution_count": 1,
   "metadata": {},
   "outputs": [],
   "source": [
    "import numpy as np\n",
    "import scipy.integrate as integrate\n",
    "import matplotlib.pyplot as plt\n",
    "\n",
    "def trapeze(f, a, b, N ):\n",
    "    # Créer une discrétisation \n",
    "    x = np.linspace(a,b, N+1)\n",
    "\n",
    "    # Créer un vecteur (yi) contenant les composantes de f(x) = sin(x)\n",
    "    y = []\n",
    "    for i in range(N+1):\n",
    "        y.append(f(x[i]))\n",
    "\n",
    "    # Interpolation méthode des trapèzes \n",
    "\n",
    "    # pas\n",
    "    h = x[1] - x[0]\n",
    "\n",
    "    # somme de 1 à n-1\n",
    "    somme = 0\n",
    "    for k in range(N-1):\n",
    "        somme += f(x[k]) + f(x[k+1])\n",
    "\n",
    "    integrale = (h/2) * somme\n",
    "    \n",
    "    return integrale"
   ]
  },
  {
   "cell_type": "markdown",
   "metadata": {},
   "source": [
    "### 1.2. Test de la fonction `trapeze` sur $f(x) = sin(x)$ sur $[0, \\pi]$"
   ]
  },
  {
   "cell_type": "code",
   "execution_count": 2,
   "metadata": {},
   "outputs": [
    {
     "name": "stdout",
     "output_type": "stream",
     "text": [
      "fonction trapeze(f) =  1.9349832615413176\n",
      "\n",
      "fonction scipy =  (2.0, 2.220446049250313e-14)\n"
     ]
    }
   ],
   "source": [
    "# Déﬁnir un nombre de points N \n",
    "N = 10\n",
    "\n",
    "# Bornes \n",
    "a = 0\n",
    "b = np.pi\n",
    "\n",
    "def f(x):\n",
    "    return np.sin(x)\n",
    "\n",
    "integ_trapeze = trapeze(f, a, b, N)\n",
    "print('fonction trapeze(f) = ',integ_trapeze)\n",
    "\n",
    "integ = integrate.quad(f, a, b)\n",
    "print('\\nfonction scipy = ', integ)"
   ]
  },
  {
   "cell_type": "markdown",
   "metadata": {},
   "source": [
    "### 1.3. Test de la fonction `trapeze` sur $g(x) = e^{-x^2}$ sur $[a=0, b=7]$"
   ]
  },
  {
   "cell_type": "code",
   "execution_count": 3,
   "metadata": {},
   "outputs": [
    {
     "name": "stdout",
     "output_type": "stream",
     "text": [
      "\n",
      "     fonction scipy = (0.8862269254527579, 7.345219412941623e-10)\n",
      "\n",
      "N=10   : trapeze(g) =  0.8862269286222806\n",
      "N=100  : trapeze(g) =  0.8862269254527579\n",
      "N=1000 : trapeze(g) =  0.8862269254527573\n"
     ]
    }
   ],
   "source": [
    "def g(x):\n",
    "    return np.exp(-x**2)\n",
    "\n",
    "integ = integrate.quad(g, 0, 7)\n",
    "print('\\n     fonction scipy =',integ)\n",
    "\n",
    "print('\\nN=10   : trapeze(g) = ',trapeze(g,0,7,10))\n",
    "print('N=100  : trapeze(g) = ',trapeze(g,0,7,100))\n",
    "print('N=1000 : trapeze(g) = ',trapeze(g,0,7,1000))"
   ]
  },
  {
   "cell_type": "markdown",
   "metadata": {},
   "source": [
    "## 2. Méthode de Simpson\n"
   ]
  },
  {
   "cell_type": "markdown",
   "metadata": {},
   "source": [
    "### 2.1. Implémentation de la fonction `simpson`"
   ]
  },
  {
   "cell_type": "code",
   "execution_count": 4,
   "metadata": {},
   "outputs": [],
   "source": [
    "def simpson(f, a, b, N ):\n",
    "    # Créer une discrétisation \n",
    "    x = np.linspace(a,b, N+1)\n",
    "\n",
    "    # Créer un vecteur (yi) contenant les composantes de f(x) = sin(x)\n",
    "    y = []\n",
    "    for i in range(N+1):\n",
    "        y.append(f(x[i]))\n",
    "\n",
    "    # Interpolation méthode des trapèzes \n",
    "\n",
    "    # pas\n",
    "    h = x[1] - x[0]\n",
    "\n",
    "    # somme de 1 à n-1\n",
    "    somme = 0\n",
    "    for k in range(N-1):\n",
    "        m = (x[k] + x[k+1]) / 2\n",
    "        somme += f(x[k]) + 4*f(m) + f(x[k+1])\n",
    "\n",
    "    simpson = (h/6) * somme\n",
    "    \n",
    "    return simpson"
   ]
  },
  {
   "cell_type": "markdown",
   "metadata": {},
   "source": [
    "### 2.2. Test de la fonction `simpson` sur $f(x) = sin(x)$ sur $[0, \\pi]$"
   ]
  },
  {
   "cell_type": "code",
   "execution_count": 5,
   "metadata": {},
   "outputs": [
    {
     "name": "stdout",
     "output_type": "stream",
     "text": [
      "\n",
      "  fonction scipy(f) = (2.0, 2.220446049250313e-14)\n",
      "\n",
      "N=10   : simpson(f) =  1.9510631347098464\n",
      "N=100  : simpson(f) =  1.9995065610420366\n",
      "N=1000 : simpson(f) =  1.9999950652019263\n"
     ]
    }
   ],
   "source": [
    "integ = integrate.quad(f, a, b)\n",
    "print('\\n  fonction scipy(f) =',integ)\n",
    "\n",
    "print('\\nN=10   : simpson(f) = ',simpson(f, a, b, 10 ))\n",
    "print('N=100  : simpson(f) = ',simpson(f, a, b, 100 ))\n",
    "print('N=1000 : simpson(f) = ',simpson(f, a, b, 1000 ))"
   ]
  },
  {
   "cell_type": "markdown",
   "metadata": {},
   "source": [
    "### 2.3. Test de la fonction `simpson` sur $g(x) = e^{-x^2}$ sur $[a=0, b=7]$"
   ]
  },
  {
   "cell_type": "code",
   "execution_count": 6,
   "metadata": {},
   "outputs": [
    {
     "name": "stdout",
     "output_type": "stream",
     "text": [
      "\n",
      "  fonction scipy(g) = (0.8862269254527579, 7.345219412941623e-10)\n",
      "\n",
      "N=10   : simpson(g) =  0.8862269243962505\n",
      "N=100  : simpson(g) =  0.8862269254527584\n",
      "N=1000 : simpson(g) =  0.8862269254527579\n"
     ]
    }
   ],
   "source": [
    "integ = integrate.quad(g, 0, 7)\n",
    "print('\\n  fonction scipy(g) =',integ)\n",
    "\n",
    "print('\\nN=10   : simpson(g) = ',simpson(g, 0, 7, 10 ))\n",
    "print('N=100  : simpson(g) = ',simpson(g, 0, 7, 100 ))\n",
    "print('N=1000 : simpson(g) = ',simpson(g, 0, 7, 1000 ))"
   ]
  },
  {
   "cell_type": "markdown",
   "metadata": {},
   "source": [
    "## 3. Comparaison des résultats"
   ]
  },
  {
   "cell_type": "markdown",
   "metadata": {},
   "source": [
    "### 3.1. Pour $f(x) = sin(x)$ sur $[0, \\pi]$"
   ]
  },
  {
   "cell_type": "code",
   "execution_count": 7,
   "metadata": {},
   "outputs": [
    {
     "name": "stdout",
     "output_type": "stream",
     "text": [
      "\n",
      "  fonction scipy(f) = (2.0, 2.220446049250313e-14)\n",
      "\n",
      "N=10   : trapeze(f) =  1.9349832615413176\n",
      "N=100  : trapeze(f) =  1.9993421048376265\n",
      "N=1000 : trapeze(f) =  1.9999934202715803\n",
      "\n",
      "N=10   : simpson(f) =  1.9510631347098464\n",
      "N=100  : simpson(f) =  1.9995065610420366\n",
      "N=1000 : simpson(f) =  1.9999950652019263\n"
     ]
    }
   ],
   "source": [
    "integ = integrate.quad(f, a, b)\n",
    "print('\\n  fonction scipy(f) =',integ)\n",
    "\n",
    "print('\\nN=10   : trapeze(f) = ',trapeze(f, a, b, 10))\n",
    "print('N=100  : trapeze(f) = ',trapeze(f, a, b, 100))\n",
    "print('N=1000 : trapeze(f) = ',trapeze(f, a, b, 1000))\n",
    "\n",
    "print('\\nN=10   : simpson(f) = ',simpson(f, a, b, 10 ))\n",
    "print('N=100  : simpson(f) = ',simpson(f, a, b, 100 ))\n",
    "print('N=1000 : simpson(f) = ',simpson(f, a, b, 1000 ))"
   ]
  },
  {
   "cell_type": "markdown",
   "metadata": {},
   "source": [
    "### 3.2. Pour $g(x) = e^{-x^2}$ sur $[a=0, b=7]$"
   ]
  },
  {
   "cell_type": "code",
   "execution_count": 8,
   "metadata": {},
   "outputs": [
    {
     "name": "stdout",
     "output_type": "stream",
     "text": [
      "\n",
      "  fonction scipy(g) = (0.8862269254527579, 7.345219412941623e-10)\n",
      "\n",
      "N=10   : trapeze(g) =  0.8862269286222806\n",
      "N=100  : trapeze(g) =  0.8862269254527579\n",
      "N=1000 : trapeze(g) =  0.8862269254527573\n",
      "\n",
      "N=10   : simpson(g) =  0.8862269243962505\n",
      "N=100  : simpson(g) =  0.8862269254527584\n",
      "N=1000 : simpson(g) =  0.8862269254527579\n"
     ]
    }
   ],
   "source": [
    "integ = integrate.quad(g, 0, 7)\n",
    "print('\\n  fonction scipy(g) =',integ)\n",
    "\n",
    "print('\\nN=10   : trapeze(g) = ',trapeze(g,0,7,10))\n",
    "print('N=100  : trapeze(g) = ',trapeze(g,0,7,100))\n",
    "print('N=1000 : trapeze(g) = ',trapeze(g,0,7,1000))\n",
    "\n",
    "print('\\nN=10   : simpson(g) = ',simpson(g, 0, 7, 10 ))\n",
    "print('N=100  : simpson(g) = ',simpson(g, 0, 7, 100 ))\n",
    "print('N=1000 : simpson(g) = ',simpson(g, 0, 7, 1000 ))"
   ]
  },
  {
   "cell_type": "markdown",
   "metadata": {},
   "source": [
    "### 3.3. Conclusion"
   ]
  },
  {
   "cell_type": "markdown",
   "metadata": {},
   "source": [
    "> La méthode de Simpson converge plus rapidement vers la solution que celle des trapèzes. "
   ]
  }
 ],
 "metadata": {
  "kernelspec": {
   "display_name": "Python 3",
   "language": "python",
   "name": "python3"
  },
  "language_info": {
   "codemirror_mode": {
    "name": "ipython",
    "version": 3
   },
   "file_extension": ".py",
   "mimetype": "text/x-python",
   "name": "python",
   "nbconvert_exporter": "python",
   "pygments_lexer": "ipython3",
   "version": "3.7.4"
  }
 },
 "nbformat": 4,
 "nbformat_minor": 2
}

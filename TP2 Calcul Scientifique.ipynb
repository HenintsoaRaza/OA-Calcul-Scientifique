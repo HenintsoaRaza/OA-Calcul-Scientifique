{
 "cells": [
  {
   "cell_type": "markdown",
   "metadata": {},
   "source": [
    "# <center> TP2 / Schéma explicite pour l'équation de la chaleur\n",
    " \n",
    " </center>\n",
    "<div>\n",
    "    <center> RAZAFINDRAZAKA Henintsoa </center>\n",
    "    <center> Wang James </center>\n",
    "    <center> ____________</center>\n",
    "    <center> ING5 SI GR02 </center>\n",
    "    <center> 26/10/2020 </center>\n",
    "</div>"
   ]
  },
  {
   "cell_type": "code",
   "execution_count": 1,
   "metadata": {},
   "outputs": [],
   "source": [
    "import matplotlib.pyplot as plt\n",
    "import matplotlib.cm as cm\n",
    "import numpy as np\n",
    "import math"
   ]
  },
  {
   "cell_type": "code",
   "execution_count": 2,
   "metadata": {},
   "outputs": [],
   "source": [
    "# 1) Initialisation des paramètres numériques\n",
    "\n",
    "Nz = 400\n",
    "dz = 0.25\n",
    "Nt = 5000\n",
    "dt = (365*24*60*60)/Nt\n",
    "\n",
    "K = 2*10**(-6)\n",
    "r = (K * dt) / (dz**2)\n",
    "\n",
    "u = np.zeros((Nz, Nt))"
   ]
  },
  {
   "cell_type": "code",
   "execution_count": 3,
   "metadata": {},
   "outputs": [
    {
     "data": {
      "text/plain": [
       "array([[15.        , 14.98743112, 14.97486226, ..., 15.02513774,\n",
       "        15.01256888, 15.        ],\n",
       "       [15.        ,  0.        ,  0.        , ...,  0.        ,\n",
       "         0.        ,  0.        ],\n",
       "       [15.        ,  0.        ,  0.        , ...,  0.        ,\n",
       "         0.        ,  0.        ],\n",
       "       ...,\n",
       "       [15.        ,  0.        ,  0.        , ...,  0.        ,\n",
       "         0.        ,  0.        ],\n",
       "       [15.        ,  0.        ,  0.        , ...,  0.        ,\n",
       "         0.        ,  0.        ],\n",
       "       [15.        ,  0.        ,  0.        , ...,  0.        ,\n",
       "         0.        ,  0.        ]])"
      ]
     },
     "execution_count": 3,
     "metadata": {},
     "output_type": "execute_result"
    }
   ],
   "source": [
    "# 2) Initialisation des paramètres physiques\n",
    "u[:,0] = 15\n",
    "temps = np.linspace(0, 12, Nt)\n",
    "u[0, :] = 15 - 10 * np.sin(2*np.pi*temps/12)\n",
    "u"
   ]
  },
  {
   "cell_type": "code",
   "execution_count": 4,
   "metadata": {},
   "outputs": [
    {
     "name": "stdout",
     "output_type": "stream",
     "text": [
      "iter :  0\n"
     ]
    },
    {
     "data": {
      "text/plain": [
       "array([[1.50000000e+01, 8.94508800e+00, 5.94533928e+00, ...,\n",
       "        1.32037951e-04, 1.31998340e-04, 1.31958750e-04],\n",
       "       [0.00000000e+00, 3.02745600e+00, 3.61078138e+00, ...,\n",
       "        2.63879645e-04, 2.63800523e-04, 2.63721439e-04],\n",
       "       [0.00000000e+00, 0.00000000e+00, 6.11032655e-01, ...,\n",
       "        3.95329314e-04, 3.95210875e-04, 3.95092495e-04],\n",
       "       ...,\n",
       "       [0.00000000e+00, 0.00000000e+00, 0.00000000e+00, ...,\n",
       "        7.84489466e-29, 7.93892342e-29, 8.03404002e-29],\n",
       "       [0.00000000e+00, 0.00000000e+00, 0.00000000e+00, ...,\n",
       "        3.80922561e-29, 3.85492878e-29, 3.90116123e-29],\n",
       "       [0.00000000e+00, 0.00000000e+00, 0.00000000e+00, ...,\n",
       "        3.80922561e-29, 3.85492878e-29, 3.90116123e-29]])"
      ]
     },
     "execution_count": 4,
     "metadata": {},
     "output_type": "execute_result"
    }
   ],
   "source": [
    "# 3) Boucle en temps \n",
    "\n",
    "err = []\n",
    "e = 10**-4\n",
    "maxiter = 500\n",
    "\n",
    "for itera in range(0,maxiter):\n",
    "    uold = u\n",
    "    u[:,0] = uold[:, Nt-1]\n",
    "    \n",
    "    for n in range(0, Nt-1):\n",
    "        for i in range(Nz-1):\n",
    "            u[i][n+1] = u[i][n] + r*(u[i-1][n] - 2*u[i][n] + u[i+1][n])\n",
    "    u[Nz-1, :] = u[Nz-2, :]\n",
    "    \n",
    "    errmax = np.amax(np.absolute(u-uold))\n",
    "    err.append(errmax)\n",
    "    if err[itera] < e:\n",
    "        print(\"iter : \",itera)\n",
    "        break\n",
    "u"
   ]
  },
  {
   "cell_type": "code",
   "execution_count": 5,
   "metadata": {},
   "outputs": [
    {
     "name": "stdout",
     "output_type": "stream",
     "text": [
      "[0.0]\n"
     ]
    }
   ],
   "source": [
    "print(err)"
   ]
  },
  {
   "cell_type": "code",
   "execution_count": 6,
   "metadata": {},
   "outputs": [],
   "source": [
    "# 4. Visualisation graphique des résultats; afficher la solution approchée.\n"
   ]
  },
  {
   "cell_type": "code",
   "execution_count": 7,
   "metadata": {},
   "outputs": [
    {
     "name": "stdout",
     "output_type": "stream",
     "text": [
      "[0.00000000e+00 0.00000000e+00 0.00000000e+00 ... 3.80922561e-29\n",
      " 3.85492878e-29 3.90116123e-29]\n"
     ]
    }
   ],
   "source": [
    "print(u[Nz-2])"
   ]
  },
  {
   "cell_type": "code",
   "execution_count": null,
   "metadata": {},
   "outputs": [],
   "source": []
  }
 ],
 "metadata": {
  "kernelspec": {
   "display_name": "Python 3",
   "language": "python",
   "name": "python3"
  },
  "language_info": {
   "codemirror_mode": {
    "name": "ipython",
    "version": 3
   },
   "file_extension": ".py",
   "mimetype": "text/x-python",
   "name": "python",
   "nbconvert_exporter": "python",
   "pygments_lexer": "ipython3",
   "version": "3.8.3"
  }
 },
 "nbformat": 4,
 "nbformat_minor": 4
}

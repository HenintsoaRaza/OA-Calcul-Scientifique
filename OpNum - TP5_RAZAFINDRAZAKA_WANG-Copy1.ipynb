{
 "cells": [
  {
   "cell_type": "markdown",
   "metadata": {},
   "source": [
    "# <center> TP N°5 </center>\n",
    "## <center> Différences finies\n",
    "\n",
    "</center>\n",
    "<div>\n",
    "    <center> RAZAFINDRAZAKA Henintsoa </center>\n",
    "    <center> Wang James </center>\n",
    "    <center> ____________</center>\n",
    "    <center> ING5 SI GR02 </center>\n",
    "    <center> 15/11/2020 </center>\n",
    "</div>"
   ]
  },
  {
   "cell_type": "markdown",
   "metadata": {},
   "source": [
    "## 1. Résolution analytique de l'équation différentielle pour $f(x)=sin(\\pi x)$"
   ]
  },
  {
   "cell_type": "markdown",
   "metadata": {},
   "source": [
    "$$\n",
    "\\left\\{\n",
    "    \\begin{array}{ll}\n",
    "        -u''(x) = f(x) \\ \\text{ pour } \\ x \\in \\ \\rbrack 0,1 \\lbrack \\\\\n",
    "        u(0)=0, \\ \\ u(1)=0\n",
    "    \\end{array}\n",
    "\\right. \\\\\n",
    "$$\n",
    "<br>\n",
    "$$\n",
    "\\Leftrightarrow\n",
    "\\left\\{\n",
    "    \\begin{array}{ll}\n",
    "        -u''(x) = sin(\\pi x) \\ \\text{ pour } \\ x \\in \\ \\rbrack 0,1 \\lbrack \\\\\n",
    "        u(0)=0, \\ \\ u(1)=0\n",
    "    \\end{array}\n",
    "\\right. \\\\\n",
    "$$\n",
    "<br>\n",
    "$$\n",
    "\\Leftrightarrow\n",
    "\\left\\{\n",
    "    \\begin{array}{ll}\n",
    "        u'(x) = \\int_x -sin(\\pi x) \\ dx \\ \\ = \\frac{1}{\\pi}cos(\\pi x) + a, \\ \\ \\ a \\in \\mathbb{R} \\\\\n",
    "        u(0)=0, \\ \\ u(1)=0\n",
    "    \\end{array}\n",
    "\\right. \\\\\n",
    "$$\n",
    "<br>\n",
    "$$\n",
    "\\Leftrightarrow\n",
    "\\left\\{\n",
    "    \\begin{array}{ll}\n",
    "        u(x) = \\int_x \\frac{1}{\\pi}cos(\\pi x) + a \\ dx \\ \\ = \\frac{1}{\\pi^2} sin(\\pi x) + ax + b, \\ \\ \\ a,b \\in \\mathbb{R} \\\\\n",
    "        u(0)=0, \\ \\ u(1)=0\n",
    "    \\end{array}\n",
    "\\right. \\\\\n",
    "$$\n",
    "<br>\n",
    "$$\n",
    "\\text{Or on a:} \\\\\n",
    "\\left\\{\n",
    "    \\begin{array}{ll}\n",
    "        u(0)=0\\\\\n",
    "        u(1)=0\n",
    "    \\end{array}\n",
    "\\right. \\\\\n",
    "\\Leftrightarrow\n",
    "\\left\\{\n",
    "    \\begin{array}{ll}\n",
    "        u(0) = \\frac{1}{\\pi^2} sin(\\pi \\cdot 0) + a \\cdot 0 + b = 0 \\ \\ \\ \\Rightarrow b = 0\\\\ \n",
    "        u(1) = \\frac{1}{\\pi^2} sin(\\pi \\cdot 1) + a \\cdot 1 + b = 0 \\ \\ \\ \\Rightarrow a = 0\n",
    "    \\end{array}\n",
    "\\right. \\\\\n",
    "$$\n",
    "<br>\n",
    "<br>\n",
    "$$\n",
    "\\text{CONCLUSION} \\\\\n",
    "u(x) = \\frac{1}{\\pi^2} sin(\\pi x) \\\\\n",
    "$$"
   ]
  },
  {
   "cell_type": "markdown",
   "metadata": {},
   "source": [
    "## 2. On suppose que la force appliquée soit $f(x) = x(1-x)$ et on prend $N = 20$ intervalles. Construire la matrice $A$ et le vecteur $b$ correspondants."
   ]
  },
  {
   "cell_type": "markdown",
   "metadata": {},
   "source": [
    "$$\n",
    "Au = b\n",
    "\\Leftrightarrow\n",
    "\\frac{1}{h^2}\n",
    "\\begin{pmatrix}\n",
    "2 & -1 & 0 & \\cdots & \\cdots & \\cdots & 0 \n",
    "\\\\ \n",
    "-1 & 2 & -1 & 0 & \\cdots & \\cdots & 0 \n",
    "\\\\\n",
    "0 & -1 & 2 & -1 & 0 & \\cdots & \\vdots \n",
    "\\\\\n",
    "\\vdots & \\ddots & \\ddots & \\ddots & \\ddots & \\ddots & \\vdots \n",
    "\\\\\n",
    "\\vdots & \\ddots & \\ddots & \\ddots & \\ddots & \\ddots & \\ddots \n",
    "\\\\\n",
    "0 & \\cdots & \\cdots & 0 & -1 & 2 & -1 \n",
    "\\\\\n",
    "0 & \\cdots & \\cdots & \\cdots & 0 & -1 & 2\n",
    "\\end{pmatrix}\n",
    ".\n",
    "\\begin{pmatrix}\n",
    "u_1\n",
    "\\\\ \n",
    "u_2\n",
    "\\\\\n",
    "u_3\n",
    "\\\\\n",
    "\\vdots \n",
    "\\\\\n",
    "\\vdots  \n",
    "\\\\\n",
    "u_{N-2} \n",
    "\\\\\n",
    "u_{N-1}\n",
    "\\end{pmatrix}\n",
    "=\n",
    "\\begin{pmatrix}\n",
    "f(x_1)\n",
    "\\\\ \n",
    "f(x_2)\n",
    "\\\\\n",
    "f(x_3)\n",
    "\\\\\n",
    "\\vdots \n",
    "\\\\\n",
    "\\vdots  \n",
    "\\\\\n",
    "f(x_{N-2}) \n",
    "\\\\\n",
    "f(x_{N-1})\n",
    "\\end{pmatrix}\n",
    "$$"
   ]
  },
  {
   "cell_type": "code",
   "execution_count": 1,
   "metadata": {},
   "outputs": [
    {
     "name": "stdout",
     "output_type": "stream",
     "text": [
      "\n",
      "A  (19, 19)  =\n",
      "\n"
     ]
    },
    {
     "data": {
      "text/latex": [
       "$\\displaystyle \\left[\\begin{array}{ccccccccccccccccccc}800.0 & -400.0 & 0.0 & 0.0 & 0.0 & 0.0 & 0.0 & 0.0 & 0.0 & 0.0 & 0.0 & 0.0 & 0.0 & 0.0 & 0.0 & 0.0 & 0.0 & 0.0 & 0.0\\\\-400.0 & 800.0 & -400.0 & 0.0 & 0.0 & 0.0 & 0.0 & 0.0 & 0.0 & 0.0 & 0.0 & 0.0 & 0.0 & 0.0 & 0.0 & 0.0 & 0.0 & 0.0 & 0.0\\\\0.0 & -400.0 & 800.0 & -400.0 & 0.0 & 0.0 & 0.0 & 0.0 & 0.0 & 0.0 & 0.0 & 0.0 & 0.0 & 0.0 & 0.0 & 0.0 & 0.0 & 0.0 & 0.0\\\\0.0 & 0.0 & -400.0 & 800.0 & -400.0 & 0.0 & 0.0 & 0.0 & 0.0 & 0.0 & 0.0 & 0.0 & 0.0 & 0.0 & 0.0 & 0.0 & 0.0 & 0.0 & 0.0\\\\0.0 & 0.0 & 0.0 & -400.0 & 800.0 & -400.0 & 0.0 & 0.0 & 0.0 & 0.0 & 0.0 & 0.0 & 0.0 & 0.0 & 0.0 & 0.0 & 0.0 & 0.0 & 0.0\\\\0.0 & 0.0 & 0.0 & 0.0 & -400.0 & 800.0 & -400.0 & 0.0 & 0.0 & 0.0 & 0.0 & 0.0 & 0.0 & 0.0 & 0.0 & 0.0 & 0.0 & 0.0 & 0.0\\\\0.0 & 0.0 & 0.0 & 0.0 & 0.0 & -400.0 & 800.0 & -400.0 & 0.0 & 0.0 & 0.0 & 0.0 & 0.0 & 0.0 & 0.0 & 0.0 & 0.0 & 0.0 & 0.0\\\\0.0 & 0.0 & 0.0 & 0.0 & 0.0 & 0.0 & -400.0 & 800.0 & -400.0 & 0.0 & 0.0 & 0.0 & 0.0 & 0.0 & 0.0 & 0.0 & 0.0 & 0.0 & 0.0\\\\0.0 & 0.0 & 0.0 & 0.0 & 0.0 & 0.0 & 0.0 & -400.0 & 800.0 & -400.0 & 0.0 & 0.0 & 0.0 & 0.0 & 0.0 & 0.0 & 0.0 & 0.0 & 0.0\\\\0.0 & 0.0 & 0.0 & 0.0 & 0.0 & 0.0 & 0.0 & 0.0 & -400.0 & 800.0 & -400.0 & 0.0 & 0.0 & 0.0 & 0.0 & 0.0 & 0.0 & 0.0 & 0.0\\\\0.0 & 0.0 & 0.0 & 0.0 & 0.0 & 0.0 & 0.0 & 0.0 & 0.0 & -400.0 & 800.0 & -400.0 & 0.0 & 0.0 & 0.0 & 0.0 & 0.0 & 0.0 & 0.0\\\\0.0 & 0.0 & 0.0 & 0.0 & 0.0 & 0.0 & 0.0 & 0.0 & 0.0 & 0.0 & -400.0 & 800.0 & -400.0 & 0.0 & 0.0 & 0.0 & 0.0 & 0.0 & 0.0\\\\0.0 & 0.0 & 0.0 & 0.0 & 0.0 & 0.0 & 0.0 & 0.0 & 0.0 & 0.0 & 0.0 & -400.0 & 800.0 & -400.0 & 0.0 & 0.0 & 0.0 & 0.0 & 0.0\\\\0.0 & 0.0 & 0.0 & 0.0 & 0.0 & 0.0 & 0.0 & 0.0 & 0.0 & 0.0 & 0.0 & 0.0 & -400.0 & 800.0 & -400.0 & 0.0 & 0.0 & 0.0 & 0.0\\\\0.0 & 0.0 & 0.0 & 0.0 & 0.0 & 0.0 & 0.0 & 0.0 & 0.0 & 0.0 & 0.0 & 0.0 & 0.0 & -400.0 & 800.0 & -400.0 & 0.0 & 0.0 & 0.0\\\\0.0 & 0.0 & 0.0 & 0.0 & 0.0 & 0.0 & 0.0 & 0.0 & 0.0 & 0.0 & 0.0 & 0.0 & 0.0 & 0.0 & -400.0 & 800.0 & -400.0 & 0.0 & 0.0\\\\0.0 & 0.0 & 0.0 & 0.0 & 0.0 & 0.0 & 0.0 & 0.0 & 0.0 & 0.0 & 0.0 & 0.0 & 0.0 & 0.0 & 0.0 & -400.0 & 800.0 & -400.0 & 0.0\\\\0.0 & 0.0 & 0.0 & 0.0 & 0.0 & 0.0 & 0.0 & 0.0 & 0.0 & 0.0 & 0.0 & 0.0 & 0.0 & 0.0 & 0.0 & 0.0 & -400.0 & 800.0 & -400.0\\\\0.0 & 0.0 & 0.0 & 0.0 & 0.0 & 0.0 & 0.0 & 0.0 & 0.0 & 0.0 & 0.0 & 0.0 & 0.0 & 0.0 & 0.0 & 0.0 & 0.0 & -400.0 & 800.0\\end{array}\\right]$"
      ],
      "text/plain": [
       "⎡800.0   -400.0   0.0     0.0     0.0     0.0     0.0     0.0     0.0     0.0 \n",
       "⎢                                                                             \n",
       "⎢-400.0  800.0   -400.0   0.0     0.0     0.0     0.0     0.0     0.0     0.0 \n",
       "⎢                                                                             \n",
       "⎢ 0.0    -400.0  800.0   -400.0   0.0     0.0     0.0     0.0     0.0     0.0 \n",
       "⎢                                                                             \n",
       "⎢ 0.0     0.0    -400.0  800.0   -400.0   0.0     0.0     0.0     0.0     0.0 \n",
       "⎢                                                                             \n",
       "⎢ 0.0     0.0     0.0    -400.0  800.0   -400.0   0.0     0.0     0.0     0.0 \n",
       "⎢                                                                             \n",
       "⎢ 0.0     0.0     0.0     0.0    -400.0  800.0   -400.0   0.0     0.0     0.0 \n",
       "⎢                                                                             \n",
       "⎢ 0.0     0.0     0.0     0.0     0.0    -400.0  800.0   -400.0   0.0     0.0 \n",
       "⎢                                                                             \n",
       "⎢ 0.0     0.0     0.0     0.0     0.0     0.0    -400.0  800.0   -400.0   0.0 \n",
       "⎢                                                                             \n",
       "⎢ 0.0     0.0     0.0     0.0     0.0     0.0     0.0    -400.0  800.0   -400.\n",
       "⎢                                                                             \n",
       "⎢ 0.0     0.0     0.0     0.0     0.0     0.0     0.0     0.0    -400.0  800.0\n",
       "⎢                                                                             \n",
       "⎢ 0.0     0.0     0.0     0.0     0.0     0.0     0.0     0.0     0.0    -400.\n",
       "⎢                                                                             \n",
       "⎢ 0.0     0.0     0.0     0.0     0.0     0.0     0.0     0.0     0.0     0.0 \n",
       "⎢                                                                             \n",
       "⎢ 0.0     0.0     0.0     0.0     0.0     0.0     0.0     0.0     0.0     0.0 \n",
       "⎢                                                                             \n",
       "⎢ 0.0     0.0     0.0     0.0     0.0     0.0     0.0     0.0     0.0     0.0 \n",
       "⎢                                                                             \n",
       "⎢ 0.0     0.0     0.0     0.0     0.0     0.0     0.0     0.0     0.0     0.0 \n",
       "⎢                                                                             \n",
       "⎢ 0.0     0.0     0.0     0.0     0.0     0.0     0.0     0.0     0.0     0.0 \n",
       "⎢                                                                             \n",
       "⎢ 0.0     0.0     0.0     0.0     0.0     0.0     0.0     0.0     0.0     0.0 \n",
       "⎢                                                                             \n",
       "⎢ 0.0     0.0     0.0     0.0     0.0     0.0     0.0     0.0     0.0     0.0 \n",
       "⎢                                                                             \n",
       "⎣ 0.0     0.0     0.0     0.0     0.0     0.0     0.0     0.0     0.0     0.0 \n",
       "\n",
       "    0.0     0.0     0.0     0.0     0.0     0.0     0.0     0.0     0.0  ⎤\n",
       "                                                                         ⎥\n",
       "    0.0     0.0     0.0     0.0     0.0     0.0     0.0     0.0     0.0  ⎥\n",
       "                                                                         ⎥\n",
       "    0.0     0.0     0.0     0.0     0.0     0.0     0.0     0.0     0.0  ⎥\n",
       "                                                                         ⎥\n",
       "    0.0     0.0     0.0     0.0     0.0     0.0     0.0     0.0     0.0  ⎥\n",
       "                                                                         ⎥\n",
       "    0.0     0.0     0.0     0.0     0.0     0.0     0.0     0.0     0.0  ⎥\n",
       "                                                                         ⎥\n",
       "    0.0     0.0     0.0     0.0     0.0     0.0     0.0     0.0     0.0  ⎥\n",
       "                                                                         ⎥\n",
       "    0.0     0.0     0.0     0.0     0.0     0.0     0.0     0.0     0.0  ⎥\n",
       "                                                                         ⎥\n",
       "    0.0     0.0     0.0     0.0     0.0     0.0     0.0     0.0     0.0  ⎥\n",
       "                                                                         ⎥\n",
       "0   0.0     0.0     0.0     0.0     0.0     0.0     0.0     0.0     0.0  ⎥\n",
       "                                                                         ⎥\n",
       "   -400.0   0.0     0.0     0.0     0.0     0.0     0.0     0.0     0.0  ⎥\n",
       "                                                                         ⎥\n",
       "0  800.0   -400.0   0.0     0.0     0.0     0.0     0.0     0.0     0.0  ⎥\n",
       "                                                                         ⎥\n",
       "   -400.0  800.0   -400.0   0.0     0.0     0.0     0.0     0.0     0.0  ⎥\n",
       "                                                                         ⎥\n",
       "    0.0    -400.0  800.0   -400.0   0.0     0.0     0.0     0.0     0.0  ⎥\n",
       "                                                                         ⎥\n",
       "    0.0     0.0    -400.0  800.0   -400.0   0.0     0.0     0.0     0.0  ⎥\n",
       "                                                                         ⎥\n",
       "    0.0     0.0     0.0    -400.0  800.0   -400.0   0.0     0.0     0.0  ⎥\n",
       "                                                                         ⎥\n",
       "    0.0     0.0     0.0     0.0    -400.0  800.0   -400.0   0.0     0.0  ⎥\n",
       "                                                                         ⎥\n",
       "    0.0     0.0     0.0     0.0     0.0    -400.0  800.0   -400.0   0.0  ⎥\n",
       "                                                                         ⎥\n",
       "    0.0     0.0     0.0     0.0     0.0     0.0    -400.0  800.0   -400.0⎥\n",
       "                                                                         ⎥\n",
       "    0.0     0.0     0.0     0.0     0.0     0.0     0.0    -400.0  800.0 ⎦"
      ]
     },
     "metadata": {},
     "output_type": "display_data"
    },
    {
     "name": "stdout",
     "output_type": "stream",
     "text": [
      "\n",
      "b  (19,)\n"
     ]
    }
   ],
   "source": [
    "import numpy as np\n",
    "import scipy.integrate as integrate\n",
    "import matplotlib.pyplot as plt\n",
    "import time\n",
    "from sympy import Matrix, init_printing\n",
    "init_printing()\n",
    "\n",
    "# Nombre d'intervalles N & définition du pas h\n",
    "N = 20\n",
    "h = 1/N\n",
    "\n",
    "f = lambda x: x*(1-x)\n",
    "f_vect = np.vectorize(f)\n",
    "\n",
    "# Définition des x_0, x_1, x_2, ..., x_N-1, x_N\n",
    "x0, xN = 0, 1\n",
    "x = np.linspace(x0, xN, N+1)\n",
    "\n",
    "# Définition du vecteur b = [f(x_1), f(x_2), ..., f(x_N-1), f(x_N-1)] \n",
    "b = f_vect(x[1:N])\n",
    "\n",
    "Diag_below = -1 * np.ones((N-2,))\n",
    "Diag_above = -1 * np.ones((N-2,))\n",
    "Diag_main  =  2 * np.ones((N-1,))\n",
    "A = (1/h**2) * ( np.diag(Diag_below, -1) + np.diag(Diag_main) + np.diag(Diag_above, 1) )\n",
    "print(\"\\nA \",A.shape, \" =\\n\")\n",
    "display(Matrix(A))\n",
    "print(\"\\nb \",b.shape)\n",
    "\n"
   ]
  },
  {
   "cell_type": "markdown",
   "metadata": {},
   "source": [
    "## 3. Calculer la solution du système linéaire $Au = b$ \n",
    "\n",
    "### 3.1. Résoudre avec la factorisation $LU$ de $A$. Calculer le temps nécessaire. "
   ]
  },
  {
   "cell_type": "code",
   "execution_count": 2,
   "metadata": {},
   "outputs": [],
   "source": [
    "def trianginf(T,b):\n",
    "    n = len(b)\n",
    "    x = np.zeros(b.shape)\n",
    "\n",
    "    x[0] = b[0] / T[0][0]\n",
    "    for i in range(1,n):\n",
    "        sigma = 0\n",
    "        for j in range(0, i):\n",
    "            sigma += T[i][j] * x[j]\n",
    "        x[i] = (1/T[i][i]) * ( b[i] - sigma )\n",
    "    return x\n",
    "\n",
    "def triangsup(T,b):\n",
    "    n = len(b)\n",
    "    x = np.zeros(b.shape)\n",
    "\n",
    "    x[n-1] = b[n-1] / T[n-1][n-1]\n",
    "    for i in range(n-2,-1,-1):\n",
    "        sigma = 0\n",
    "        for j in range(i+1, n):\n",
    "            sigma += T[i][j] * x[j]\n",
    "        x[i] = (1/T[i][i]) * ( b[i] - sigma )\n",
    "    return x"
   ]
  },
  {
   "cell_type": "code",
   "execution_count": 3,
   "metadata": {},
   "outputs": [],
   "source": [
    "def ludecomp(A):\n",
    "    n = A.shape[0]\n",
    "    L = np.zeros(A.shape)\n",
    "    U = np.zeros(A.shape)\n",
    "    L[0][0] = 1\n",
    "    \n",
    "    for j in range(0, n):\n",
    "        U[0][j] = A[0][j]\n",
    "        \n",
    "    for i in range(1, n):\n",
    "        L[i][0] = A[i][0] / U[0][0]\n",
    "        \n",
    "    for i in range(1, n):\n",
    "        L[i][i] = 1\n",
    "        s0 = 0\n",
    "        for k in range(0, i):\n",
    "            s0 += L[i][k] * U[k][i]\n",
    "        U[i][i] = A[i][i] - s0\n",
    "        \n",
    "        for j in range(i, n):\n",
    "            s1 = 0\n",
    "            for k in range(0, i):\n",
    "                s1 += L[i][k] * U[k][j]\n",
    "            U[i][j] = A[i][j] - s1\n",
    "            \n",
    "            s2 = 0\n",
    "            for k in range(0, i):\n",
    "                s2 += L[j][k] * U[k][i]\n",
    "            L[j][i] = (1 / U[i][i]) * (A[j][i] - s2)\n",
    "    return L, U"
   ]
  },
  {
   "cell_type": "code",
   "execution_count": 4,
   "metadata": {},
   "outputs": [
    {
     "name": "stdout",
     "output_type": "stream",
     "text": [
      "\n",
      "Temps d'execution (LU) : 0.0019876956939697266 seconds \n",
      "\n",
      "A.u =  [0.0475 0.09   0.1275 0.16   0.1875 0.21   0.2275 0.24   0.2475 0.25\n",
      " 0.2475 0.24   0.2275 0.21   0.1875 0.16   0.1275 0.09   0.0475]\n",
      "\n",
      " b  =  [0.0475 0.09   0.1275 0.16   0.1875 0.21   0.2275 0.24   0.2475 0.25\n",
      " 0.2475 0.24   0.2275 0.21   0.1875 0.16   0.1275 0.09   0.0475]\n"
     ]
    }
   ],
   "source": [
    "start_time = time.time()\n",
    "\n",
    "L, U = ludecomp(A)\n",
    "y = trianginf(L,b)\n",
    "u = triangsup(U,y)\n",
    "\n",
    "end_time = time.time()\n",
    "temps_LU = end_time - start_time\n",
    "print( \"\\nTemps d'execution (LU) : %s seconds \" % (temps_LU))\n",
    "\n",
    "precision = 5\n",
    "print(\"\\nA.u = \", np.round(A.dot(u), precision) )\n",
    "print(\"\\n b  = \", np.round(b, precision))"
   ]
  },
  {
   "cell_type": "markdown",
   "metadata": {},
   "source": [
    "### 3.2. Résoudre directement avec $A^{-1}$ et comparer le temps de calcul. "
   ]
  },
  {
   "cell_type": "code",
   "execution_count": 5,
   "metadata": {},
   "outputs": [
    {
     "name": "stdout",
     "output_type": "stream",
     "text": [
      "\n",
      "Temps d'execution (A^-1): 0.020972251892089844 seconds \n",
      "\n",
      "A.u =  [0.0475 0.09   0.1275 0.16   0.1875 0.21   0.2275 0.24   0.2475 0.25\n",
      " 0.2475 0.24   0.2275 0.21   0.1875 0.16   0.1275 0.09   0.0475]\n",
      "\n",
      " b  =  [0.0475 0.09   0.1275 0.16   0.1875 0.21   0.2275 0.24   0.2475 0.25\n",
      " 0.2475 0.24   0.2275 0.21   0.1875 0.16   0.1275 0.09   0.0475]\n"
     ]
    }
   ],
   "source": [
    "start_time = time.time()\n",
    "\n",
    "A_inv = np.linalg.inv(A)\n",
    "u = A_inv.dot(b)\n",
    "\n",
    "end_time = time.time()\n",
    "temps_inv = end_time - start_time\n",
    "print( \"\\nTemps d'execution (A^-1): %s seconds \" % (temps_inv))\n",
    "\n",
    "print(\"\\nA.u = \", np.round(A.dot(u), precision) )\n",
    "print(\"\\n b  = \", np.round(b, precision))"
   ]
  },
  {
   "cell_type": "markdown",
   "metadata": {},
   "source": [
    "> On observe que l'algorithme de résolution du système avec la factorisation $LU$ nécessite moins de temps de calcul que l'algorithme d'inversion de matrice `np.linalg.inv` de numpy."
   ]
  },
  {
   "cell_type": "markdown",
   "metadata": {},
   "source": [
    "### 3.3. Résoudre avec la factorisation de Cholesky de $A$. Comparer le temps de calcul."
   ]
  },
  {
   "cell_type": "code",
   "execution_count": 6,
   "metadata": {},
   "outputs": [],
   "source": [
    "def cholesky(A):\n",
    "    n = A.shape[0]\n",
    "    C = np.zeros((n,n))\n",
    "    C[0][0] = np.sqrt(A[0][0])\n",
    "\n",
    "    for i in range(1, n):\n",
    "        C[i][0] = A[i][0] / C[0][0]\n",
    "\n",
    "    for j in range(1, n):\n",
    "        s0 = 0 \n",
    "        for k in range(0, j):\n",
    "            s0 += C[j][k]**2\n",
    "        C[j][j] = np.sqrt(A[j][j] - s0)\n",
    "        for i in range (j, n):\n",
    "            s1 = 0\n",
    "            for k in range(0, j):\n",
    "                s1 += C[i][k] * C[j][k]\n",
    "            C[i][j] = (1 / C[j][j]) * ( A[i][j] - s1) \n",
    "    return C"
   ]
  },
  {
   "cell_type": "code",
   "execution_count": 7,
   "metadata": {},
   "outputs": [
    {
     "name": "stdout",
     "output_type": "stream",
     "text": [
      "\n",
      "Temps d'execution (Cholesky) : 0.0010001659393310547 seconds\n",
      "\n",
      "A.u =  [0.0475 0.09   0.1275 0.16   0.1875 0.21   0.2275 0.24   0.2475 0.25\n",
      " 0.2475 0.24   0.2275 0.21   0.1875 0.16   0.1275 0.09   0.0475]\n",
      "\n",
      " b  =  [0.0475 0.09   0.1275 0.16   0.1875 0.21   0.2275 0.24   0.2475 0.25\n",
      " 0.2475 0.24   0.2275 0.21   0.1875 0.16   0.1275 0.09   0.0475]\n"
     ]
    }
   ],
   "source": [
    "start_time = time.time()\n",
    "\n",
    "C = cholesky(A)\n",
    "y = trianginf(C,b)\n",
    "u = triangsup(C.T,y)\n",
    "\n",
    "end_time = time.time()\n",
    "temps_cholesky = end_time - start_time\n",
    "print( \"\\nTemps d'execution (Cholesky) : %s seconds\" % (end_time - start_time))\n",
    "\n",
    "print(\"\\nA.u = \", np.round(A.dot(u), precision) )\n",
    "print(\"\\n b  = \", np.round(b, precision))"
   ]
  },
  {
   "cell_type": "markdown",
   "metadata": {},
   "source": [
    "> On observe que l'algorithme de résolution du système avec la factorisation de Cholesky nécessite moins de temps de calcul que l'algorithme de factorisation $LU$ qui était déjà plus performante que `np.linalg.inv`."
   ]
  },
  {
   "cell_type": "markdown",
   "metadata": {},
   "source": [
    "## 4. Résolution de l'équation différentielle par les différences finies "
   ]
  },
  {
   "cell_type": "markdown",
   "metadata": {},
   "source": [
    "### 4.1. Résolution analytique de l'équation différentielle pour $f(x)=x(1-x)$\n"
   ]
  },
  {
   "cell_type": "markdown",
   "metadata": {},
   "source": [
    "$$\n",
    "\\Leftrightarrow\n",
    "\\left\\{\n",
    "    \\begin{array}{ll}\n",
    "        -u''(x) = x(1-x) \\ \\text{ pour } \\ x \\in \\ \\rbrack 0,1 \\lbrack \\\\\n",
    "        u(0)=0, \\ \\ u(1)=0\n",
    "    \\end{array}\n",
    "\\right. \\\\\n",
    "$$\n",
    "<br>\n",
    "$$\n",
    "\\Leftrightarrow\n",
    "\\left\\{\n",
    "    \\begin{array}{ll}\n",
    "        u'(x) = \\int_x x^2 - x \\ dx \\ \\ = \\frac{1}{3}x^3 - \\frac{1}{2}x^2  + a, \\ \\ \\ a \\in \\mathbb{R} \\\\\n",
    "        u(0)=0, \\ \\ u(1)=0\n",
    "    \\end{array}\n",
    "\\right. \\\\\n",
    "$$\n",
    "<br>\n",
    "$$\n",
    "\\Leftrightarrow\n",
    "\\left\\{\n",
    "    \\begin{array}{ll}\n",
    "        u(x) = \\int_x \\frac{1}{3}x^3 - \\frac{1}{2}x^2  + a \\ dx \\ \\ = \\frac{1}{12}x^4 - \\frac{1}{6}x^3 + ax + b, \\ \\ \\ a,b \\in \\mathbb{R} \\\\\n",
    "        u(0)=0, \\ \\ u(1)=0\n",
    "    \\end{array}\n",
    "\\right. \\\\\n",
    "$$\n",
    "<br>\n",
    "$$\n",
    "\\text{Or on a:} \\\\\n",
    "\\left\\{\n",
    "    \\begin{array}{ll}\n",
    "        u(0)=0\\\\\n",
    "        u(1)=0\n",
    "    \\end{array}\n",
    "\\right. \\\\\n",
    "\\Leftrightarrow\n",
    "\\left\\{\n",
    "    \\begin{array}{ll}\n",
    "        u(0) = \\frac{1}{12} \\cdot 0 - \\frac{1}{6} \\cdot 0 + a \\cdot 0 + b = 0 \\ \\ \\ \\Rightarrow b = 0\\\\ \n",
    "        u(1) = \\frac{1}{12} \\cdot 1 - \\frac{1}{6} \\cdot 1 + a \\cdot 1 = 0 \\ \\ \\ \\Rightarrow a = \\frac{1}{12}\n",
    "    \\end{array}\n",
    "\\right. \\\\\n",
    "$$\n",
    "<br>\n",
    "<br>\n",
    "$$\n",
    "\\text{CONCLUSION} \\\\\n",
    "u(x) = \\frac{1}{12}x^4 - \\frac{1}{6}x^3 + \\frac{1}{12}x \\\\\n",
    "$$"
   ]
  },
  {
   "cell_type": "markdown",
   "metadata": {},
   "source": [
    "### 4.2. Implémentation de la méthode des différences finies"
   ]
  },
  {
   "cell_type": "code",
   "execution_count": 8,
   "metadata": {},
   "outputs": [],
   "source": [
    "def differences_finies(f, x0, xN, N, u0, uN, methode = 'Cholesky'):\n",
    "    #    f   : fonction f(x) second membre\n",
    "    #    N   : nombre d'intervalles \n",
    "    # x0, xN : bornes de l'intervalle\n",
    "    # u0, uN : condition initiales\n",
    "    \n",
    "    h = 1/N\n",
    "\n",
    "    f_vect = np.vectorize(f)\n",
    "\n",
    "    # Définition des x_0, x_1, x_2, ..., x_N-1, x_N\n",
    "    x = np.linspace(x0, xN, N+1)\n",
    "\n",
    "    # Définition du vecteur b = [f(x_1), f(x_2), ..., f(x_N-1), f(x_N-1)] \n",
    "    b = f_vect(x[1:N])\n",
    "\n",
    "    Diag_below = -1 * np.ones((N-2,))\n",
    "    Diag_above = -1 * np.ones((N-2,))\n",
    "    Diag_main  =  2 * np.ones((N-1,))\n",
    "    A = (1/h**2) * ( np.diag(Diag_below, -1) + np.diag(Diag_main) + np.diag(Diag_above, 1) )\n",
    "    \n",
    "    if methode == 'Cholesky':\n",
    "        C = cholesky(A)\n",
    "        y = trianginf(C,b)\n",
    "        u = triangsup(C.T,y)\n",
    "    elif methode == 'LU':\n",
    "        L, U = ludecomp(A)\n",
    "        y = trianginf(L,b)\n",
    "        u = triangsup(U,y)\n",
    "    elif methode == 'inv':\n",
    "        A_inv = np.linalg.inv(A)\n",
    "        u = A_inv.dot(b)\n",
    "    else:\n",
    "        print(\"Methode spécifiée inconnu\")\n",
    "        return None\n",
    "    \n",
    "    result = np.zeros((N+1,))\n",
    "    result[0]   = u0\n",
    "    result[1:N] = u\n",
    "    result[N]   = uN\n",
    "    \n",
    "    return result,x"
   ]
  },
  {
   "cell_type": "code",
   "execution_count": 9,
   "metadata": {},
   "outputs": [
    {
     "data": {
      "text/plain": [
       "array([0.        , 0.00415625, 0.00819375, 0.01200625, 0.0155    ,\n",
       "       0.01859375, 0.02121875, 0.02331875, 0.02485   , 0.02578125,\n",
       "       0.02609375, 0.02578125, 0.02485   , 0.02331875, 0.02121875,\n",
       "       0.01859375, 0.0155    , 0.01200625, 0.00819375, 0.00415625,\n",
       "       0.        ])"
      ]
     },
     "execution_count": 9,
     "metadata": {},
     "output_type": "execute_result"
    }
   ],
   "source": [
    "ui,xi = differences_finies(f = lambda x: x*(1-x), x0=0, xN=1, N=20, u0=0, uN=0)\n",
    "ui"
   ]
  },
  {
   "cell_type": "markdown",
   "metadata": {},
   "source": [
    "### 4.3. Représentation graphique du déplacement $u$ du câble aux noeuds $x_i$ de l'intervalle $[0,1]$"
   ]
  },
  {
   "cell_type": "code",
   "execution_count": 10,
   "metadata": {},
   "outputs": [
    {
     "data": {
      "image/png": "[encoded data removed]",
      "text/plain": [
       "<Figure size 432x288 with 1 Axes>"
      ]
     },
     "metadata": {
      "needs_background": "light"
     },
     "output_type": "display_data"
    }
   ],
   "source": [
    "plt.scatter(xi, ui)\n",
    "plt.show()"
   ]
  },
  {
   "cell_type": "markdown",
   "metadata": {},
   "source": [
    "### 4.4. Comparaison graphique entre le déplacement approché avec la solution exacte du problème"
   ]
  },
  {
   "cell_type": "code",
   "execution_count": 11,
   "metadata": {},
   "outputs": [
    {
     "data": {
      "image/png": "[encoded data removed]",
      "text/plain": [
       "<Figure size 432x288 with 1 Axes>"
      ]
     },
     "metadata": {
      "needs_background": "light"
     },
     "output_type": "display_data"
    }
   ],
   "source": [
    "x_plot = np.linspace(0,1,100)\n",
    "u = lambda x: (1/12)*(x**4) - (1/6)*(x**3) + (1/12)*x\n",
    "u_vect = np.vectorize(u)\n",
    "plt.plot(x_plot, u_vect(x_plot), label='u(x)', color='red')\n",
    "plt.scatter(xi, ui, label='approximation')\n",
    "plt.legend()\n",
    "plt.show()"
   ]
  }
 ],
 "metadata": {
  "kernelspec": {
   "display_name": "Python 3",
   "language": "python",
   "name": "python3"
  },
  "language_info": {
   "codemirror_mode": {
    "name": "ipython",
    "version": 3
   },
   "file_extension": ".py",
   "mimetype": "text/x-python",
   "name": "python",
   "nbconvert_exporter": "python",
   "pygments_lexer": "ipython3",
   "version": "3.8.3"
  }
 },
 "nbformat": 4,
 "nbformat_minor": 2
}
